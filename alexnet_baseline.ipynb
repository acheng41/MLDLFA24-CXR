{
  "nbformat": 4,
  "nbformat_minor": 0,
  "metadata": {
    "colab": {
      "provenance": [],
      "gpuType": "T4"
    },
    "kernelspec": {
      "name": "python3",
      "display_name": "Python 3"
    },
    "language_info": {
      "name": "python"
    },
    "accelerator": "GPU"
  },
  "cells": [
    {
      "cell_type": "code",
      "source": [
        "!pip install opendatasets"
      ],
      "metadata": {
        "colab": {
          "base_uri": "https://localhost:8080/"
        },
        "id": "tm7-5D398kOt",
        "outputId": "5d89f80f-1a24-41cd-a6ea-1ca8cb27a93e"
      },
      "execution_count": null,
      "outputs": [
        {
          "output_type": "stream",
          "name": "stdout",
          "text": [
            "Collecting opendatasets\n",
            "  Downloading opendatasets-0.1.22-py3-none-any.whl.metadata (9.2 kB)\n",
            "Requirement already satisfied: tqdm in /usr/local/lib/python3.10/dist-packages (from opendatasets) (4.66.6)\n",
            "Requirement already satisfied: kaggle in /usr/local/lib/python3.10/dist-packages (from opendatasets) (1.6.17)\n",
            "Requirement already satisfied: click in /usr/local/lib/python3.10/dist-packages (from opendatasets) (8.1.7)\n",
            "Requirement already satisfied: six>=1.10 in /usr/local/lib/python3.10/dist-packages (from kaggle->opendatasets) (1.16.0)\n",
            "Requirement already satisfied: certifi>=2023.7.22 in /usr/local/lib/python3.10/dist-packages (from kaggle->opendatasets) (2024.8.30)\n",
            "Requirement already satisfied: python-dateutil in /usr/local/lib/python3.10/dist-packages (from kaggle->opendatasets) (2.8.2)\n",
            "Requirement already satisfied: requests in /usr/local/lib/python3.10/dist-packages (from kaggle->opendatasets) (2.32.3)\n",
            "Requirement already satisfied: python-slugify in /usr/local/lib/python3.10/dist-packages (from kaggle->opendatasets) (8.0.4)\n",
            "Requirement already satisfied: urllib3 in /usr/local/lib/python3.10/dist-packages (from kaggle->opendatasets) (2.2.3)\n",
            "Requirement already satisfied: bleach in /usr/local/lib/python3.10/dist-packages (from kaggle->opendatasets) (6.2.0)\n",
            "Requirement already satisfied: webencodings in /usr/local/lib/python3.10/dist-packages (from bleach->kaggle->opendatasets) (0.5.1)\n",
            "Requirement already satisfied: text-unidecode>=1.3 in /usr/local/lib/python3.10/dist-packages (from python-slugify->kaggle->opendatasets) (1.3)\n",
            "Requirement already satisfied: charset-normalizer<4,>=2 in /usr/local/lib/python3.10/dist-packages (from requests->kaggle->opendatasets) (3.4.0)\n",
            "Requirement already satisfied: idna<4,>=2.5 in /usr/local/lib/python3.10/dist-packages (from requests->kaggle->opendatasets) (3.10)\n",
            "Downloading opendatasets-0.1.22-py3-none-any.whl (15 kB)\n",
            "Installing collected packages: opendatasets\n",
            "Successfully installed opendatasets-0.1.22\n"
          ]
        }
      ]
    },
    {
      "cell_type": "code",
      "source": [
        "# imports\n",
        "import os\n",
        "from torch.utils.data import Dataset, random_split, DataLoader, ConcatDataset\n",
        "from torchvision import transforms\n",
        "from PIL import Image\n",
        "import opendatasets as od\n",
        "import torch\n",
        "import torch.nn as nn\n",
        "import torch.optim as optim\n",
        "from torchvision.models import alexnet\n",
        "import matplotlib.pyplot as plt"
      ],
      "metadata": {
        "id": "AMKM-KUsNpRN"
      },
      "execution_count": null,
      "outputs": []
    },
    {
      "cell_type": "markdown",
      "source": [
        "# Download dataset and create dataloader"
      ],
      "metadata": {
        "id": "y0mJ8cQoNNdn"
      }
    },
    {
      "cell_type": "code",
      "execution_count": null,
      "metadata": {
        "colab": {
          "base_uri": "https://localhost:8080/"
        },
        "id": "fhZnT-W43H4_",
        "outputId": "4ab6b061-55a5-4b4d-a627-1438a2e5ea8e"
      },
      "outputs": [
        {
          "output_type": "stream",
          "name": "stdout",
          "text": [
            "Please provide your Kaggle credentials to download this dataset. Learn more: http://bit.ly/kaggle-creds\n",
            "Your Kaggle username: andreacheng41\n",
            "Your Kaggle Key: ··········\n",
            "Dataset URL: https://www.kaggle.com/datasets/emilyguan2/covid-dataset\n",
            "Downloading covid-dataset.zip to ./covid-dataset\n"
          ]
        },
        {
          "output_type": "stream",
          "name": "stderr",
          "text": [
            "100%|██████████| 185M/185M [00:01<00:00, 128MB/s]\n"
          ]
        },
        {
          "output_type": "stream",
          "name": "stdout",
          "text": [
            "\n"
          ]
        }
      ],
      "source": [
        " od.download(\"https://www.kaggle.com/datasets/emilyguan2/covid-dataset\")"
      ]
    },
    {
      "cell_type": "code",
      "source": [
        " od.download(\"https://www.kaggle.com/datasets/andreacheng41/bangladesh-chestxray-dlproject\")"
      ],
      "metadata": {
        "colab": {
          "base_uri": "https://localhost:8080/"
        },
        "id": "0K3Gh5SxxGfY",
        "outputId": "e9579713-7e2e-44ec-f42a-a290cc2b230c"
      },
      "execution_count": null,
      "outputs": [
        {
          "output_type": "stream",
          "name": "stdout",
          "text": [
            "Please provide your Kaggle credentials to download this dataset. Learn more: http://bit.ly/kaggle-creds\n",
            "Your Kaggle username: andreacheng41\n",
            "Your Kaggle Key: ··········\n",
            "Dataset URL: https://www.kaggle.com/datasets/andreacheng41/bangladesh-chestxray-dlproject\n",
            "Downloading bangladesh-chestxray-dlproject.zip to ./bangladesh-chestxray-dlproject\n"
          ]
        },
        {
          "output_type": "stream",
          "name": "stderr",
          "text": [
            "100%|██████████| 42.7M/42.7M [00:00<00:00, 99.0MB/s]\n"
          ]
        },
        {
          "output_type": "stream",
          "name": "stdout",
          "text": [
            "\n"
          ]
        }
      ]
    },
    {
      "cell_type": "code",
      "source": [
        " od.download(\"https://www.kaggle.com/datasets/emilyguan2/nigeria-only/data\")"
      ],
      "metadata": {
        "colab": {
          "base_uri": "https://localhost:8080/"
        },
        "id": "I_b47uMg3BZZ",
        "outputId": "50ba19ba-5589-45eb-f15e-d1c925ab3479"
      },
      "execution_count": null,
      "outputs": [
        {
          "output_type": "stream",
          "name": "stdout",
          "text": [
            "Please provide your Kaggle credentials to download this dataset. Learn more: http://bit.ly/kaggle-creds\n",
            "Your Kaggle username: andreacheng41\n",
            "Your Kaggle Key: ··········\n",
            "Dataset URL: https://www.kaggle.com/datasets/emilyguan2/nigeria-only\n",
            "Downloading nigeria-only.zip to ./nigeria-only\n"
          ]
        },
        {
          "output_type": "stream",
          "name": "stderr",
          "text": [
            "100%|██████████| 187M/187M [00:01<00:00, 142MB/s]\n"
          ]
        },
        {
          "output_type": "stream",
          "name": "stdout",
          "text": [
            "\n"
          ]
        }
      ]
    },
    {
      "cell_type": "code",
      "source": [
        " od.download(\"https://www.kaggle.com/datasets/mahdiopra/rsua-chest-x-ray-dataset\")"
      ],
      "metadata": {
        "colab": {
          "base_uri": "https://localhost:8080/"
        },
        "id": "PHdgcrqM3NRB",
        "outputId": "713c239e-70ee-4f77-ae92-5b0607187dca"
      },
      "execution_count": null,
      "outputs": [
        {
          "output_type": "stream",
          "name": "stdout",
          "text": [
            "Please provide your Kaggle credentials to download this dataset. Learn more: http://bit.ly/kaggle-creds\n",
            "Your Kaggle username: andreacheng41\n",
            "Your Kaggle Key: ··········\n",
            "Dataset URL: https://www.kaggle.com/datasets/mahdiopra/rsua-chest-x-ray-dataset\n",
            "Downloading rsua-chest-x-ray-dataset.zip to ./rsua-chest-x-ray-dataset\n"
          ]
        },
        {
          "output_type": "stream",
          "name": "stderr",
          "text": [
            "100%|██████████| 109M/109M [00:01<00:00, 71.4MB/s] \n"
          ]
        },
        {
          "output_type": "stream",
          "name": "stdout",
          "text": [
            "\n"
          ]
        }
      ]
    },
    {
      "cell_type": "code",
      "source": [
        "class CXRDataset(Dataset):\n",
        "    def __init__(self, path, folder_mapping, sub_folder=None, transform=None):\n",
        "        \"\"\"\n",
        "        Args:\n",
        "            folder_mapping (dict): A dictionary where keys are target labels and values are lists of folder paths.\n",
        "                                   Example: {\"Normal\": [\"path_to_Normal_folder\"],\n",
        "                                             \"Non-Pneumonia Disease\": [\"path_to_COVID\", \"path_to_Lung_Opacity\"],\n",
        "                                             \"Pneumonia\": [\"path_to_Viral_Pneumonia\"]}\n",
        "            transform (callable, optional): Optional transforms to be applied on an image.\n",
        "            use_SRM_IL (boolean): Indicates use of SRM IL perturbations on an image.\n",
        "        \"\"\"\n",
        "        self.data = []\n",
        "        self.labels = []\n",
        "        self.transform = transform\n",
        "\n",
        "        # Load all images and assign corresponding labels\n",
        "        for label, folders in folder_mapping.items():\n",
        "            for folder in folders:\n",
        "                folder_path = os.path.join(path, folder)\n",
        "                if sub_folder:\n",
        "                    folder_path = os.path.join(folder_path, sub_folder)\n",
        "\n",
        "                for file_name in os.listdir(folder_path):\n",
        "                    if file_name.endswith(('.png', '.jpg', '.jpeg', '.bmp')):  # Filter image files\n",
        "                        img_path = os.path.join(folder_path, file_name)\n",
        "                        self.data.append(img_path)\n",
        "                        self.labels.append(label)\n",
        "\n",
        "    def __len__(self):\n",
        "        return len(self.data)\n",
        "\n",
        "    def __getitem__(self, idx):\n",
        "        img_path = self.data[idx]\n",
        "        label = self.labels[idx]\n",
        "\n",
        "        # Load image\n",
        "        image = Image.open(img_path).convert(\"RGB\")\n",
        "\n",
        "        # Apply transformations\n",
        "        if self.transform:\n",
        "          image = self.transform(image)\n",
        "\n",
        "        return image, torch.tensor(label)\n"
      ],
      "metadata": {
        "id": "P7bCXvShFvPH"
      },
      "execution_count": null,
      "outputs": []
    },
    {
      "cell_type": "markdown",
      "source": [
        "## Create Datasets for Different Baselines\n",
        "\n",
        "* A: Covid-19\n",
        "* B: Nigeria\n",
        "* C: Bangladesh\n",
        "* D: Indonesia"
      ],
      "metadata": {
        "id": "N-v2WcFXtTFm"
      }
    },
    {
      "cell_type": "code",
      "source": [
        "# Define transforms (same as before)\n",
        "transform = transforms.Compose([\n",
        "    transforms.Resize(256),\n",
        "    transforms.CenterCrop(224),\n",
        "    transforms.ToTensor(),\n",
        "    transforms.Normalize([0.485, 0.456, 0.406], [0.229, 0.224, 0.225])\n",
        "])\n",
        "\n",
        "\n",
        "a_dir = \"covid-dataset\"\n",
        "b_dir = \"nigeria-only\"\n",
        "c_dir = \"bangladesh-chestxray-dlproject\"\n",
        "d_dir = \"rsua-chest-x-ray-dataset/RSUA Chest X-Ray Dataset/Data Chest X-Ray RSUA (Annotated)-20230618T030427Z-001/Data Chest X-Ray RSUA (Annotated)\"\n",
        "\n",
        "\n",
        "a_folder_map = {\n",
        "    0: [\"A_normal_sample\"],\n",
        "    1: [\"A_other_sample\"],\n",
        "    2: [\"A_pn_sample\"]\n",
        "}\n",
        "\n",
        "\n",
        "\n",
        "b_folder_map = {\n",
        "    0: [\"nigeria_normal/nigeria_normal\"],\n",
        "    1: [\"nigeria_other/nigeria_other\"],\n",
        "    2: [\"nigeria_pneumonia/nigeria_pneumonia\"]\n",
        "}\n",
        "\n",
        "c_folder_map = {\n",
        "    0: [\"Normal\"],\n",
        "    1: [\"COVID\", \"Lung_Opacity\"],\n",
        "    2: [\"Viral Pneumonia\"]\n",
        "}\n",
        "\n",
        "d_folder_map = {\n",
        "    0: [ \"Non_Covid/images\"],\n",
        "    1: [\"Covid/images\"],\n",
        "    2: [ \"Non_Covid_Pneumonia/images\"]\n",
        "}\n",
        "\n",
        "a_dataset = CXRDataset(a_dir, a_folder_map, transform=transform)\n",
        "b_dataset = CXRDataset(b_dir, b_folder_map, transform=transform)\n",
        "c_dataset = CXRDataset(c_dir, c_folder_map, transform=transform)\n",
        "d_dataset = CXRDataset(d_dir, d_folder_map, transform=transform)\n",
        "\n"
      ],
      "metadata": {
        "id": "huaWkE5OLwr7"
      },
      "execution_count": null,
      "outputs": []
    },
    {
      "cell_type": "code",
      "source": [
        "print([len(a_dataset), len(b_dataset), len(c_dataset), len(d_dataset)])"
      ],
      "metadata": {
        "colab": {
          "base_uri": "https://localhost:8080/"
        },
        "id": "lRtQHNcGwKTw",
        "outputId": "363a17f7-2ca9-486a-efd0-7da003a0fc42"
      },
      "execution_count": null,
      "outputs": [
        {
          "output_type": "stream",
          "name": "stdout",
          "text": [
            "[5200, 1951, 4350, 371]\n"
          ]
        }
      ]
    },
    {
      "cell_type": "markdown",
      "source": [
        "## Control Types\n",
        "\n",
        "* Positive control: train on domains A, B, C, D, val on domain C, test on D\n",
        "* Negative control: train on A, B, val on C, test on D"
      ],
      "metadata": {
        "id": "QOiQ8RmVuHkj"
      }
    },
    {
      "cell_type": "code",
      "source": [
        "# Define dataset sizes\n",
        "dataset_AB = ConcatDataset([a_dataset, b_dataset])\n",
        "\n",
        "dataset_AB_size = len(dataset_AB)\n",
        "dataset_C_size = len(c_dataset)\n",
        "dataset_D_size = len(d_dataset)\n",
        "\n",
        "pos_C_size = 1350\n",
        "pos_D_size = 150\n",
        "pos_AB_size = dataset_AB_size - pos_C_size - pos_D_size\n",
        "\n",
        "c_include, pos_val_dataset = random_split(c_dataset, [pos_C_size, dataset_C_size - pos_C_size])\n",
        "d_include, pos_test_dataset = random_split(d_dataset, [pos_D_size, dataset_D_size - pos_D_size])\n",
        "ab_include, _ = random_split(dataset_AB, [pos_AB_size, dataset_AB_size - pos_AB_size])\n",
        "\n",
        "\n",
        "pos_train_dataset = ConcatDataset([ab_include, c_include, d_include])\n",
        "\n",
        "\n",
        "# Create positive control dataloaders\n",
        "batch_size = 32\n",
        "pos_train_loader = DataLoader(pos_train_dataset, batch_size=batch_size, shuffle=True)\n",
        "pos_val_loader = DataLoader(pos_val_dataset, batch_size=batch_size, shuffle=False)\n",
        "pos_test_loader = DataLoader(pos_test_dataset, batch_size=batch_size, shuffle=False)\n",
        "\n",
        "# Create negative control dataloaders\n",
        "batch_size = 32\n",
        "neg_train_loader = DataLoader(dataset_AB, batch_size=batch_size, shuffle=True)\n",
        "neg_val_loader = DataLoader(c_dataset, batch_size=batch_size, shuffle=False)\n",
        "neg_test_loader = DataLoader(d_dataset, batch_size=batch_size, shuffle=False)\n"
      ],
      "metadata": {
        "id": "gX6PT79usrxp"
      },
      "execution_count": null,
      "outputs": []
    },
    {
      "cell_type": "code",
      "source": [
        "# Test Domain Baseline\n",
        "\n",
        "d_dataset_size = len(d_dataset)\n",
        "train_d_size = int(0.7 * d_dataset_size)\n",
        "val_d_size = int(0.2 * d_dataset_size)\n",
        "test_d_size = d_dataset_size - train_d_size - val_d_size\n",
        "\n",
        "\n",
        "# Split train, val, and test for positive control dataset\n",
        "d_train_dataset, d_val_dataset, d_test_dataset = random_split(d_dataset, [train_d_size, val_d_size, test_d_size])\n",
        "\n",
        "# Create positive control dataloaders\n",
        "batch_size = 20\n",
        "d_train_loader = DataLoader(d_train_dataset, batch_size=batch_size, shuffle=True)\n",
        "d_val_loader = DataLoader(d_val_dataset, batch_size=batch_size, shuffle=False)\n",
        "d_test_loader = DataLoader(d_test_dataset, batch_size=batch_size, shuffle=False)\n",
        "\n"
      ],
      "metadata": {
        "id": "Fc1FrsxE8N4x"
      },
      "execution_count": null,
      "outputs": []
    },
    {
      "cell_type": "code",
      "source": [
        "print(f\"len of pos train: {len(pos_train_dataset)}\")\n",
        "print(f\"len of pos val: {len(pos_val_dataset)}\")\n",
        "print(f\"len of pos test: {len(pos_test_dataset)}\")\n",
        "\n",
        "\n",
        "print(f\"len of neg train: {len(dataset_AB)}\")\n",
        "print(f\"len of neg val: {len(c_dataset)}\")\n",
        "print(f\"len of neg test: {len(d_dataset)}\")"
      ],
      "metadata": {
        "colab": {
          "base_uri": "https://localhost:8080/"
        },
        "id": "46HDK7oUxo5i",
        "outputId": "3ef8ca92-854f-44c2-b2ec-04da6f82436d"
      },
      "execution_count": null,
      "outputs": [
        {
          "output_type": "stream",
          "name": "stdout",
          "text": [
            "len of pos train: 7151\n",
            "len of pos val: 3000\n",
            "len of pos test: 221\n",
            "len of neg train: 7151\n",
            "len of neg val: 4350\n",
            "len of neg test: 371\n"
          ]
        }
      ]
    },
    {
      "cell_type": "code",
      "source": [
        "from PIL import Image\n",
        "import numpy as np\n",
        "\n",
        "# Test the train_loader\n",
        "for images, labels in neg_train_loader:\n",
        "    print(type(images))\n",
        "    print(images.size())  # Batch size x Channels x Height x Width\n",
        "\n",
        "    print(labels)         # Corresponding labels for the batch\n",
        "    break  # Exit after one batch to avoid long output\n",
        "\n",
        "# Test the pos_train_loader\n",
        "for images, labels in pos_train_loader:\n",
        "    print(type(images))\n",
        "    print(images.size())  # Batch size x Channels x Height x Width\n",
        "    print(labels)         # Corresponding labels for the batch\n",
        "    break  # Exit after one batch to avoid long output\n"
      ],
      "metadata": {
        "colab": {
          "base_uri": "https://localhost:8080/"
        },
        "id": "po7rpoPGMMO7",
        "outputId": "8dcf5705-ae1e-4093-bede-6e1781ebb2d6"
      },
      "execution_count": null,
      "outputs": [
        {
          "output_type": "stream",
          "name": "stdout",
          "text": [
            "<class 'torch.Tensor'>\n",
            "torch.Size([32, 3, 224, 224])\n",
            "tensor([1, 1, 2, 1, 2, 2, 0, 1, 1, 2, 1, 0, 0, 1, 2, 1, 2, 1, 0, 2, 1, 1, 0, 2,\n",
            "        1, 0, 0, 0, 1, 1, 0, 0])\n",
            "<class 'torch.Tensor'>\n",
            "torch.Size([32, 3, 224, 224])\n",
            "tensor([1, 0, 1, 0, 2, 1, 0, 1, 1, 0, 2, 1, 0, 1, 1, 2, 1, 0, 2, 2, 2, 1, 1, 0,\n",
            "        2, 2, 2, 2, 0, 0, 2, 1])\n"
          ]
        }
      ]
    },
    {
      "cell_type": "code",
      "source": [
        "\n",
        "# Test the d_train_loader\n",
        "for images, labels in d_train_loader:\n",
        "    print(type(images))\n",
        "    print(images.size())  # Batch size x Channels x Height x Width\n",
        "    print(labels)         # Corresponding labels for the batch\n",
        "    break  # Exit after one batch to avoid long output"
      ],
      "metadata": {
        "colab": {
          "base_uri": "https://localhost:8080/"
        },
        "id": "MHh3J08d9EU3",
        "outputId": "860452e2-f0fd-49e3-ba96-38ffaf5996d3"
      },
      "execution_count": null,
      "outputs": [
        {
          "output_type": "stream",
          "name": "stdout",
          "text": [
            "<class 'torch.Tensor'>\n",
            "torch.Size([20, 3, 224, 224])\n",
            "tensor([1, 1, 1, 1, 0, 1, 1, 1, 1, 1, 1, 1, 1, 1, 1, 1, 1, 1, 1, 1])\n"
          ]
        }
      ]
    },
    {
      "cell_type": "markdown",
      "source": [
        "# Set up training"
      ],
      "metadata": {
        "id": "S5QuD1z9NGxM"
      }
    },
    {
      "cell_type": "code",
      "source": [
        "def train_one_epoch(model, train_loader, criterion, optimizer, device):\n",
        "    model.train()  # Set the model to training mode\n",
        "    running_loss = 0.0\n",
        "    correct = 0\n",
        "    total = 0\n",
        "\n",
        "    iteration = 0\n",
        "\n",
        "    for images, labels in train_loader:\n",
        "        images, labels = images.to(device), labels.to(device)\n",
        "\n",
        "        # Forward pass\n",
        "        outputs = model(images)\n",
        "        loss = criterion(outputs, labels)\n",
        "\n",
        "        # Backward pass\n",
        "        optimizer.zero_grad()\n",
        "        loss.backward()\n",
        "        optimizer.step()\n",
        "\n",
        "        # Accumulate metrics\n",
        "        running_loss += loss.item()\n",
        "        _, predicted = outputs.max(1)\n",
        "        correct += (predicted == labels).sum().item()\n",
        "        total += labels.size(0)\n",
        "\n",
        "        iteration += 1\n",
        "        if iteration % 100 == 0:\n",
        "            print(f\"Training Iteration {iteration} | Loss: {loss.item():.4f}\")\n",
        "\n",
        "    epoch_loss = running_loss / len(train_loader)\n",
        "    epoch_accuracy = correct / total\n",
        "    return epoch_loss, epoch_accuracy\n",
        "\n",
        "\n",
        "def validate_one_epoch(model, val_loader, criterion, device):\n",
        "    model.eval()  # Set the model to evaluation mode\n",
        "    running_loss = 0.0\n",
        "    correct = 0\n",
        "    total = 0\n",
        "\n",
        "    with torch.no_grad():\n",
        "        for images, labels in val_loader:\n",
        "            images, labels = images.to(device), labels.to(device)\n",
        "\n",
        "            # Forward pass\n",
        "            outputs = model(images)\n",
        "            loss = criterion(outputs, labels)\n",
        "\n",
        "            # Accumulate metrics\n",
        "            running_loss += loss.item()\n",
        "            _, predicted = outputs.max(1)\n",
        "            correct += (predicted == labels).sum().item()\n",
        "            total += labels.size(0)\n",
        "\n",
        "    epoch_loss = running_loss / len(val_loader)\n",
        "    epoch_accuracy = correct / total\n",
        "    return epoch_loss, epoch_accuracy\n",
        "\n",
        "def train(model, train_loader, val_loader, criterion, optimizer, num_epochs, device):\n",
        "    train_losses = []\n",
        "    train_accuracies = []\n",
        "    val_losses = []\n",
        "    val_accuracies = []\n",
        "\n",
        "    for epoch in range(num_epochs):\n",
        "      train_loss, train_accuracy = train_one_epoch(model, train_loader, criterion, optimizer, device)\n",
        "\n",
        "      val_loss, val_accuracy = validate_one_epoch(model, val_loader, criterion, device)\n",
        "\n",
        "      train_losses.append(train_loss)\n",
        "      train_accuracies.append(train_accuracy)\n",
        "      val_losses.append(val_loss)\n",
        "      val_accuracies.append(val_accuracy)\n",
        "\n",
        "      print(f\"Epoch [{epoch + 1}/{num_epochs}] | Train Loss: {train_loss:.4f} | Train Accuracy: {train_accuracy:.4f} \\\n",
        "       | Val Loss: {val_loss:.4f}   | Val Accuracy: {val_accuracy:.4f}\")\n",
        "    torch.save(model.state_dict(), \"alexnet_model.pth\")\n",
        "\n",
        "    return train_losses, train_accuracies, val_losses, val_accuracies"
      ],
      "metadata": {
        "id": "AHX5Jc9rN00T"
      },
      "execution_count": null,
      "outputs": []
    },
    {
      "cell_type": "markdown",
      "source": [
        "# Train baseline model"
      ],
      "metadata": {
        "id": "SbIl1ObzlmtF"
      }
    },
    {
      "cell_type": "markdown",
      "source": [
        "## Negative Control\n"
      ],
      "metadata": {
        "id": "yVhjazgHbgfY"
      }
    },
    {
      "cell_type": "code",
      "source": [
        "device = torch.device(\"cuda\" if torch.cuda.is_available() else \"cpu\")\n",
        "\n",
        "# Load AlexNet model\n",
        "model = alexnet(weights=None)  # Use pretrained weights\n",
        "model.classifier[6] = nn.Linear(4096, 3)  # Adjust the final layer to match the number of classes (3 in this case)\n",
        "model = model.to(device)\n",
        "\n",
        "# Define the loss function and optimizer\n",
        "criterion = nn.CrossEntropyLoss()\n",
        "optimizer = optim.Adam(model.parameters(), lr=0.001)"
      ],
      "metadata": {
        "id": "3IcoLVywMp9X"
      },
      "execution_count": null,
      "outputs": []
    },
    {
      "cell_type": "code",
      "source": [
        "neg_control_train_losses, neg_control_train_accs, neg_control_val_losses, neg_control_val_accs = train(model, neg_train_loader, neg_val_loader, criterion, optimizer, 15, device)"
      ],
      "metadata": {
        "colab": {
          "base_uri": "https://localhost:8080/"
        },
        "id": "EHrq064OONN_",
        "outputId": "d6e27a19-09a3-450c-c936-1806abaf6fe9"
      },
      "execution_count": null,
      "outputs": [
        {
          "output_type": "stream",
          "name": "stdout",
          "text": [
            "Training Iteration 100 | Loss: 0.5281\n",
            "Training Iteration 200 | Loss: 0.6655\n",
            "Epoch [1/15] | Train Loss: 0.7408 | Train Accuracy: 0.6712        | Val Loss: 1.1655   | Val Accuracy: 0.5244\n",
            "Training Iteration 100 | Loss: 0.4097\n",
            "Training Iteration 200 | Loss: 0.4454\n",
            "Epoch [2/15] | Train Loss: 0.4961 | Train Accuracy: 0.7901        | Val Loss: 1.0258   | Val Accuracy: 0.5917\n",
            "Training Iteration 100 | Loss: 0.3765\n",
            "Training Iteration 200 | Loss: 0.6873\n",
            "Epoch [3/15] | Train Loss: 0.4402 | Train Accuracy: 0.8158        | Val Loss: 1.1442   | Val Accuracy: 0.6025\n",
            "Training Iteration 100 | Loss: 0.2307\n",
            "Training Iteration 200 | Loss: 0.4013\n",
            "Epoch [4/15] | Train Loss: 0.4832 | Train Accuracy: 0.7995        | Val Loss: 0.6804   | Val Accuracy: 0.6772\n",
            "Training Iteration 100 | Loss: 0.4461\n",
            "Training Iteration 200 | Loss: 0.3410\n",
            "Epoch [5/15] | Train Loss: 0.4276 | Train Accuracy: 0.8241        | Val Loss: 1.2778   | Val Accuracy: 0.5501\n",
            "Training Iteration 100 | Loss: 0.2966\n",
            "Training Iteration 200 | Loss: 0.3968\n",
            "Epoch [6/15] | Train Loss: 0.3689 | Train Accuracy: 0.8476        | Val Loss: 1.7680   | Val Accuracy: 0.5715\n",
            "Training Iteration 100 | Loss: 0.2258\n",
            "Training Iteration 200 | Loss: 0.4049\n",
            "Epoch [7/15] | Train Loss: 0.3758 | Train Accuracy: 0.8428        | Val Loss: 1.0407   | Val Accuracy: 0.6053\n",
            "Training Iteration 100 | Loss: 0.1675\n",
            "Training Iteration 200 | Loss: 0.3618\n",
            "Epoch [8/15] | Train Loss: 0.3391 | Train Accuracy: 0.8586        | Val Loss: 1.2880   | Val Accuracy: 0.5786\n",
            "Training Iteration 100 | Loss: 0.1918\n",
            "Training Iteration 200 | Loss: 0.1565\n",
            "Epoch [9/15] | Train Loss: 0.3106 | Train Accuracy: 0.8716        | Val Loss: 3.2298   | Val Accuracy: 0.5432\n",
            "Training Iteration 100 | Loss: 0.5848\n",
            "Training Iteration 200 | Loss: 0.1811\n",
            "Epoch [10/15] | Train Loss: 0.3316 | Train Accuracy: 0.8613        | Val Loss: 2.0931   | Val Accuracy: 0.5545\n",
            "Training Iteration 100 | Loss: 0.2346\n",
            "Training Iteration 200 | Loss: 0.5802\n",
            "Epoch [11/15] | Train Loss: 0.2945 | Train Accuracy: 0.8767        | Val Loss: 2.8680   | Val Accuracy: 0.5490\n",
            "Training Iteration 100 | Loss: 1.0067\n",
            "Training Iteration 200 | Loss: 0.1552\n",
            "Epoch [12/15] | Train Loss: 0.2952 | Train Accuracy: 0.8774        | Val Loss: 3.5044   | Val Accuracy: 0.5487\n",
            "Training Iteration 100 | Loss: 0.4035\n",
            "Training Iteration 200 | Loss: 0.3549\n",
            "Epoch [13/15] | Train Loss: 0.3576 | Train Accuracy: 0.8541        | Val Loss: 1.5363   | Val Accuracy: 0.5526\n",
            "Training Iteration 100 | Loss: 0.1899\n",
            "Training Iteration 200 | Loss: 0.2533\n",
            "Epoch [14/15] | Train Loss: 0.2916 | Train Accuracy: 0.8807        | Val Loss: 1.4417   | Val Accuracy: 0.5262\n",
            "Training Iteration 100 | Loss: 0.1939\n",
            "Training Iteration 200 | Loss: 0.2920\n",
            "Epoch [15/15] | Train Loss: 0.2522 | Train Accuracy: 0.8962        | Val Loss: 3.7659   | Val Accuracy: 0.5331\n"
          ]
        }
      ]
    },
    {
      "cell_type": "code",
      "source": [
        "\n",
        "# Create the plot\n",
        "plt.figure(figsize=(10, 5))  # Set a single figure\n",
        "plt.plot(neg_control_train_losses, label=\"Train Loss\", color=\"blue\", linestyle=\"-\")\n",
        "plt.plot(neg_control_val_losses, label=\"Validation Loss\", color=\"orange\", linestyle=\"--\")\n",
        "\n",
        "# Add labels, title, and legend\n",
        "plt.xlabel(\"Epoch\")\n",
        "plt.ylabel(\"Loss\")\n",
        "plt.title(\"Train and Validation Loss\")\n",
        "plt.legend()\n",
        "plt.grid(True)\n",
        "\n",
        "# Display the plot\n",
        "plt.show()"
      ],
      "metadata": {
        "colab": {
          "base_uri": "https://localhost:8080/",
          "height": 487
        },
        "id": "eORsCC-GXuUN",
        "outputId": "3a0fdb2a-9d56-4d30-b7c6-3d5e27e5ce82"
      },
      "execution_count": null,
      "outputs": [
        {
          "output_type": "display_data",
          "data": {
            "text/plain": [
              "<Figure size 1000x500 with 1 Axes>"
            ],
            "image/png": "[encoded data removed]"
          },
          "metadata": {}
        }
      ]
    },
    {
      "cell_type": "code",
      "source": [
        "_, neg_test_accuracy = validate_one_epoch(model, neg_test_loader, criterion, device)\n",
        "print(f\"Test Accuracy: {neg_test_accuracy:.4f}\")"
      ],
      "metadata": {
        "colab": {
          "base_uri": "https://localhost:8080/"
        },
        "id": "Sq36axF2OrEO",
        "outputId": "d5692b2f-44e8-437f-d0a8-31e43038cc02"
      },
      "execution_count": null,
      "outputs": [
        {
          "output_type": "stream",
          "name": "stdout",
          "text": [
            "Test Accuracy: 0.7143\n"
          ]
        }
      ]
    },
    {
      "cell_type": "code",
      "source": [
        "# Save metrics\n",
        "np.savez(\n",
        "    \"neg_control_metrics.npz\",\n",
        "    train_losses=neg_control_train_losses,\n",
        "    train_accs=neg_control_train_accs,\n",
        "    val_losses=neg_control_val_losses,\n",
        "    val_accs=neg_control_val_accs,\n",
        "    test_acc = neg_test_accuracy,\n",
        ")\n",
        "\n",
        "# Save model checkpoint\n",
        "torch.save({\n",
        "    'model_state_dict': model.state_dict(),\n",
        "    'optimizer_state_dict': optimizer.state_dict(),\n",
        "}, \"neg_control_checkpoint.pth\")"
      ],
      "metadata": {
        "id": "u0fT3hrJBTLW"
      },
      "execution_count": null,
      "outputs": []
    },
    {
      "cell_type": "markdown",
      "source": [
        "## Positive Control\n"
      ],
      "metadata": {
        "id": "PgKJ38Lxbc7i"
      }
    },
    {
      "cell_type": "code",
      "source": [
        "device = torch.device(\"cuda\" if torch.cuda.is_available() else \"cpu\")\n",
        "\n",
        "# Load AlexNet model\n",
        "model_pos = alexnet(weights=None)  # Use pretrained weights\n",
        "model_pos.classifier[6] = nn.Linear(4096, 3)  # Adjust the final layer to match the number of classes (3 in this case)\n",
        "model_pos = model_pos.to(device)\n",
        "\n",
        "# Define the loss function and optimizer\n",
        "criterion = nn.CrossEntropyLoss()\n",
        "optimizer = optim.Adam(model_pos.parameters(), lr=0.001)\n",
        "\n",
        "pos_control_train_losses, pos_control_train_accs, pos_control_val_losses, pos_control_val_accs = train(model_pos, pos_train_loader, pos_val_loader, criterion, optimizer, 15, device)"
      ],
      "metadata": {
        "colab": {
          "base_uri": "https://localhost:8080/"
        },
        "id": "3-r9akvzbMh-",
        "outputId": "3a0c7529-1558-4839-d81d-1383f4fd2376"
      },
      "execution_count": null,
      "outputs": [
        {
          "output_type": "stream",
          "name": "stdout",
          "text": [
            "Training Iteration 100 | Loss: 0.5645\n",
            "Training Iteration 200 | Loss: 0.6390\n",
            "Epoch [1/15] | Train Loss: 0.7706 | Train Accuracy: 0.6518        | Val Loss: 0.5879   | Val Accuracy: 0.7480\n",
            "Training Iteration 100 | Loss: 0.5597\n",
            "Training Iteration 200 | Loss: 0.6349\n",
            "Epoch [2/15] | Train Loss: 0.5750 | Train Accuracy: 0.7568        | Val Loss: 0.5293   | Val Accuracy: 0.7867\n",
            "Training Iteration 100 | Loss: 0.4278\n",
            "Training Iteration 200 | Loss: 0.4873\n",
            "Epoch [3/15] | Train Loss: 0.5240 | Train Accuracy: 0.7793        | Val Loss: 0.4204   | Val Accuracy: 0.8273\n",
            "Training Iteration 100 | Loss: 0.2918\n",
            "Training Iteration 200 | Loss: 0.2999\n",
            "Epoch [4/15] | Train Loss: 0.4834 | Train Accuracy: 0.7983        | Val Loss: 0.4348   | Val Accuracy: 0.8120\n",
            "Training Iteration 100 | Loss: 0.3186\n",
            "Training Iteration 200 | Loss: 0.5137\n",
            "Epoch [5/15] | Train Loss: 0.4450 | Train Accuracy: 0.8119        | Val Loss: 0.3818   | Val Accuracy: 0.8443\n",
            "Training Iteration 100 | Loss: 0.6999\n",
            "Training Iteration 200 | Loss: 0.3983\n",
            "Epoch [6/15] | Train Loss: 0.3984 | Train Accuracy: 0.8332        | Val Loss: 0.3844   | Val Accuracy: 0.8393\n",
            "Training Iteration 100 | Loss: 0.4317\n",
            "Training Iteration 200 | Loss: 0.3565\n",
            "Epoch [7/15] | Train Loss: 0.3913 | Train Accuracy: 0.8386        | Val Loss: 0.4515   | Val Accuracy: 0.8080\n",
            "Training Iteration 100 | Loss: 0.4854\n",
            "Training Iteration 200 | Loss: 0.3365\n",
            "Epoch [8/15] | Train Loss: 0.3623 | Train Accuracy: 0.8465        | Val Loss: 0.3598   | Val Accuracy: 0.8490\n",
            "Training Iteration 100 | Loss: 0.4351\n",
            "Training Iteration 200 | Loss: 0.2475\n",
            "Epoch [9/15] | Train Loss: 0.3411 | Train Accuracy: 0.8554        | Val Loss: 0.4104   | Val Accuracy: 0.8307\n",
            "Training Iteration 100 | Loss: 0.4372\n",
            "Training Iteration 200 | Loss: 0.3160\n",
            "Epoch [10/15] | Train Loss: 0.3354 | Train Accuracy: 0.8631        | Val Loss: 0.4007   | Val Accuracy: 0.8323\n",
            "Training Iteration 100 | Loss: 0.1723\n",
            "Training Iteration 200 | Loss: 0.2678\n",
            "Epoch [11/15] | Train Loss: 0.3324 | Train Accuracy: 0.8637        | Val Loss: 0.3954   | Val Accuracy: 0.8513\n",
            "Training Iteration 100 | Loss: 0.1252\n",
            "Training Iteration 200 | Loss: 0.3361\n",
            "Epoch [12/15] | Train Loss: 0.3072 | Train Accuracy: 0.8761        | Val Loss: 0.3645   | Val Accuracy: 0.8527\n",
            "Training Iteration 100 | Loss: 0.3774\n",
            "Training Iteration 200 | Loss: 0.4854\n",
            "Epoch [13/15] | Train Loss: 0.3013 | Train Accuracy: 0.8803        | Val Loss: 0.3502   | Val Accuracy: 0.8573\n",
            "Training Iteration 100 | Loss: 0.2355\n",
            "Training Iteration 200 | Loss: 0.1888\n",
            "Epoch [14/15] | Train Loss: 0.3030 | Train Accuracy: 0.8802        | Val Loss: 0.3663   | Val Accuracy: 0.8520\n",
            "Training Iteration 100 | Loss: 0.3359\n",
            "Training Iteration 200 | Loss: 0.2304\n",
            "Epoch [15/15] | Train Loss: 0.2876 | Train Accuracy: 0.8813        | Val Loss: 0.3219   | Val Accuracy: 0.8687\n"
          ]
        }
      ]
    },
    {
      "cell_type": "code",
      "source": [
        "\n",
        "# Create the plot\n",
        "plt.figure(figsize=(10, 5))  # Set a single figure\n",
        "plt.plot(pos_control_train_losses, label=\"Train Loss\", color=\"blue\", linestyle=\"-\")\n",
        "plt.plot(pos_control_val_losses, label=\"Validation Loss\", color=\"orange\", linestyle=\"--\")\n",
        "\n",
        "# Add labels, title, and legend\n",
        "plt.xlabel(\"Epoch\")\n",
        "plt.ylabel(\"Loss\")\n",
        "plt.title(\"Train and Validation Loss\")\n",
        "plt.legend()\n",
        "plt.grid(True)\n",
        "\n",
        "# Display the plot\n",
        "plt.show()"
      ],
      "metadata": {
        "colab": {
          "base_uri": "https://localhost:8080/",
          "height": 487
        },
        "id": "a3Nefp8Y7nAZ",
        "outputId": "28f615ad-b6e9-4ad7-f3ff-938c072f45a1"
      },
      "execution_count": null,
      "outputs": [
        {
          "output_type": "display_data",
          "data": {
            "text/plain": [
              "<Figure size 1000x500 with 1 Axes>"
            ],
            "image/png": "[encoded data removed]"
          },
          "metadata": {}
        }
      ]
    },
    {
      "cell_type": "code",
      "source": [
        "_, pos_test_accuracy = validate_one_epoch(model_pos, pos_test_loader, criterion, device)\n",
        "print(f\"Test Accuracy: {pos_test_accuracy:.4f}\")\n",
        "# rounded 72.9%"
      ],
      "metadata": {
        "colab": {
          "base_uri": "https://localhost:8080/"
        },
        "id": "dJ4ljlZ17rvd",
        "outputId": "2e1a0552-ac74-4ef6-b945-ea3be126b39e"
      },
      "execution_count": null,
      "outputs": [
        {
          "output_type": "stream",
          "name": "stdout",
          "text": [
            "Test Accuracy: 0.7285\n"
          ]
        }
      ]
    },
    {
      "cell_type": "code",
      "source": [
        "# Save metrics\n",
        "np.savez(\n",
        "    \"pos_control_metrics.npz\",\n",
        "    train_losses=pos_control_train_losses,\n",
        "    train_accs=pos_control_train_accs,\n",
        "    val_losses=pos_control_val_losses,\n",
        "    val_accs=pos_control_val_accs,\n",
        "    test_acc = pos_test_accuracy,\n",
        ")\n",
        "\n",
        "# Save model checkpoint\n",
        "torch.save({\n",
        "    'model_state_dict': model_pos.state_dict(),\n",
        "    'optimizer_state_dict': optimizer.state_dict(),\n",
        "}, \"pos_control_checkpoint.pth\")"
      ],
      "metadata": {
        "id": "lihQYE-cEeKI"
      },
      "execution_count": null,
      "outputs": []
    },
    {
      "cell_type": "markdown",
      "source": [
        "## Test Control Baseline"
      ],
      "metadata": {
        "id": "YpSL0dPQ9L1n"
      }
    },
    {
      "cell_type": "code",
      "source": [
        "device = torch.device(\"cuda\" if torch.cuda.is_available() else \"cpu\")\n",
        "\n",
        "# Load AlexNet model\n",
        "model_d = alexnet(weights=None)  # Use pretrained weights\n",
        "model_d.classifier[6] = nn.Linear(4096, 3)  # Adjust the final layer to match the number of classes (3 in this case)\n",
        "model_d = model_d.to(device)\n",
        "\n",
        "# Define the loss function and optimizer\n",
        "criterion = nn.CrossEntropyLoss()\n",
        "optimizer = optim.Adam(model_d.parameters(), lr=0.001)\n",
        "\n",
        "d_control_train_losses, d_control_train_accs, d_control_val_losses, d_control_val_accs = train(model_d, d_train_loader, d_val_loader, criterion, optimizer, 15, device)"
      ],
      "metadata": {
        "colab": {
          "base_uri": "https://localhost:8080/"
        },
        "id": "-Kq7Ldy59QUU",
        "outputId": "53d93636-1c13-433e-b574-6b59b6348a4c"
      },
      "execution_count": null,
      "outputs": [
        {
          "output_type": "stream",
          "name": "stdout",
          "text": [
            "Epoch [1/15] | Train Loss: 1.6311 | Train Accuracy: 0.7452        | Val Loss: 0.8214   | Val Accuracy: 0.7297\n",
            "Epoch [2/15] | Train Loss: 0.7871 | Train Accuracy: 0.7452        | Val Loss: 0.8045   | Val Accuracy: 0.7297\n",
            "Epoch [3/15] | Train Loss: 0.8003 | Train Accuracy: 0.7452        | Val Loss: 0.7945   | Val Accuracy: 0.7297\n",
            "Epoch [4/15] | Train Loss: 0.7673 | Train Accuracy: 0.7452        | Val Loss: 0.7967   | Val Accuracy: 0.7297\n",
            "Epoch [5/15] | Train Loss: 0.7540 | Train Accuracy: 0.7452        | Val Loss: 0.7889   | Val Accuracy: 0.7297\n",
            "Epoch [6/15] | Train Loss: 0.7858 | Train Accuracy: 0.7452        | Val Loss: 0.8368   | Val Accuracy: 0.7297\n",
            "Epoch [7/15] | Train Loss: 0.7763 | Train Accuracy: 0.7452        | Val Loss: 0.8093   | Val Accuracy: 0.7297\n",
            "Epoch [8/15] | Train Loss: 0.7474 | Train Accuracy: 0.7452        | Val Loss: 0.8351   | Val Accuracy: 0.7297\n",
            "Epoch [9/15] | Train Loss: 0.7603 | Train Accuracy: 0.7452        | Val Loss: 0.7951   | Val Accuracy: 0.7297\n",
            "Epoch [10/15] | Train Loss: 0.7333 | Train Accuracy: 0.7452        | Val Loss: 0.8017   | Val Accuracy: 0.7297\n",
            "Epoch [11/15] | Train Loss: 0.7619 | Train Accuracy: 0.7452        | Val Loss: 0.7858   | Val Accuracy: 0.7297\n",
            "Epoch [12/15] | Train Loss: 0.7735 | Train Accuracy: 0.7452        | Val Loss: 0.7962   | Val Accuracy: 0.7297\n",
            "Epoch [13/15] | Train Loss: 0.7535 | Train Accuracy: 0.7452        | Val Loss: 0.7651   | Val Accuracy: 0.7297\n",
            "Epoch [14/15] | Train Loss: 0.7193 | Train Accuracy: 0.7452        | Val Loss: 0.7909   | Val Accuracy: 0.7297\n",
            "Epoch [15/15] | Train Loss: 0.6942 | Train Accuracy: 0.7452        | Val Loss: 0.7280   | Val Accuracy: 0.7297\n"
          ]
        }
      ]
    },
    {
      "cell_type": "code",
      "source": [
        "\n",
        "# Create the plot\n",
        "plt.figure(figsize=(10, 5))  # Set a single figure\n",
        "plt.plot(d_control_train_losses, label=\"Train Loss\", color=\"blue\", linestyle=\"-\")\n",
        "plt.plot(d_control_val_losses, label=\"Validation Loss\", color=\"orange\", linestyle=\"--\")\n",
        "\n",
        "# Add labels, title, and legend\n",
        "plt.xlabel(\"Epoch\")\n",
        "plt.ylabel(\"Loss\")\n",
        "plt.title(\"Train and Validation Loss\")\n",
        "plt.legend()\n",
        "plt.grid(True)\n",
        "\n",
        "# Display the plot\n",
        "plt.show()"
      ],
      "metadata": {
        "colab": {
          "base_uri": "https://localhost:8080/",
          "height": 487
        },
        "id": "YJbhjnHx-BuC",
        "outputId": "478b73f6-dc81-4659-d154-f90bf76b28c5"
      },
      "execution_count": null,
      "outputs": [
        {
          "output_type": "display_data",
          "data": {
            "text/plain": [
              "<Figure size 1000x500 with 1 Axes>"
            ],
            "image/png": "[encoded data removed]"
          },
          "metadata": {}
        }
      ]
    },
    {
      "cell_type": "code",
      "source": [
        "_, d_test_accuracy = validate_one_epoch(model_d, d_test_loader, criterion, device)\n",
        "print(f\"Test Accuracy: {d_test_accuracy:.4f}\")"
      ],
      "metadata": {
        "colab": {
          "base_uri": "https://localhost:8080/"
        },
        "id": "xgOE6CQm-RPU",
        "outputId": "41322a6e-9c7d-47de-85a9-ddd37ad715e7"
      },
      "execution_count": null,
      "outputs": [
        {
          "output_type": "stream",
          "name": "stdout",
          "text": [
            "Test Accuracy: 0.6842\n"
          ]
        }
      ]
    },
    {
      "cell_type": "code",
      "source": [
        "import numpy as np\n",
        "# Save metrics\n",
        "np.savez(\n",
        "    \"d_control_metrics.npz\",\n",
        "    train_losses=d_control_train_losses,\n",
        "    train_accs=d_control_train_accs,\n",
        "    val_losses=d_control_val_losses,\n",
        "    val_accs=d_control_val_accs,\n",
        "    test_acc = d_test_accuracy,\n",
        ")\n",
        "\n",
        "# Save model checkpoint\n",
        "torch.save({\n",
        "    'model_state_dict': model_d.state_dict(),\n",
        "    'optimizer_state_dict': optimizer.state_dict(),\n",
        "}, \"d_control_checkpoint.pth\")"
      ],
      "metadata": {
        "id": "FFYk0hzG-gZ6"
      },
      "execution_count": null,
      "outputs": []
    },
    {
      "cell_type": "markdown",
      "source": [
        "# Model Summary"
      ],
      "metadata": {
        "id": "ZEI7RT0r_GnM"
      }
    },
    {
      "cell_type": "code",
      "source": [
        "from torchvision.models import alexnet\n",
        "import torch.nn as nn\n",
        "import torch\n",
        "device = torch.device(\"cuda\" if torch.cuda.is_available() else \"cpu\")\n",
        "\n",
        "# Load AlexNet model\n",
        "model = alexnet(weights=None)  # Use pretrained weights\n",
        "model.classifier[6] = nn.Linear(4096, 3)  # Adjust the final layer to match the number of classes (3 in this case)\n",
        "model = model.to(device)\n",
        "\n",
        "import torchsummary as summary\n",
        "summary.summary(model, (3, 224, 224))\n",
        "\n",
        "print(model)"
      ],
      "metadata": {
        "colab": {
          "base_uri": "https://localhost:8080/"
        },
        "id": "poqt4PPsDEIH",
        "outputId": "69a87634-c185-4cb3-c44f-26ff9823de43"
      },
      "execution_count": null,
      "outputs": [
        {
          "output_type": "stream",
          "name": "stdout",
          "text": [
            "----------------------------------------------------------------\n",
            "        Layer (type)               Output Shape         Param #\n",
            "================================================================\n",
            "            Conv2d-1           [-1, 64, 55, 55]          23,296\n",
            "              ReLU-2           [-1, 64, 55, 55]               0\n",
            "         MaxPool2d-3           [-1, 64, 27, 27]               0\n",
            "            Conv2d-4          [-1, 192, 27, 27]         307,392\n",
            "              ReLU-5          [-1, 192, 27, 27]               0\n",
            "         MaxPool2d-6          [-1, 192, 13, 13]               0\n",
            "            Conv2d-7          [-1, 384, 13, 13]         663,936\n",
            "              ReLU-8          [-1, 384, 13, 13]               0\n",
            "            Conv2d-9          [-1, 256, 13, 13]         884,992\n",
            "             ReLU-10          [-1, 256, 13, 13]               0\n",
            "           Conv2d-11          [-1, 256, 13, 13]         590,080\n",
            "             ReLU-12          [-1, 256, 13, 13]               0\n",
            "        MaxPool2d-13            [-1, 256, 6, 6]               0\n",
            "AdaptiveAvgPool2d-14            [-1, 256, 6, 6]               0\n",
            "          Dropout-15                 [-1, 9216]               0\n",
            "           Linear-16                 [-1, 4096]      37,752,832\n",
            "             ReLU-17                 [-1, 4096]               0\n",
            "          Dropout-18                 [-1, 4096]               0\n",
            "           Linear-19                 [-1, 4096]      16,781,312\n",
            "             ReLU-20                 [-1, 4096]               0\n",
            "           Linear-21                    [-1, 3]          12,291\n",
            "================================================================\n",
            "Total params: 57,016,131\n",
            "Trainable params: 57,016,131\n",
            "Non-trainable params: 0\n",
            "----------------------------------------------------------------\n",
            "Input size (MB): 0.57\n",
            "Forward/backward pass size (MB): 8.37\n",
            "Params size (MB): 217.50\n",
            "Estimated Total Size (MB): 226.44\n",
            "----------------------------------------------------------------\n",
            "AlexNet(\n",
            "  (features): Sequential(\n",
            "    (0): Conv2d(3, 64, kernel_size=(11, 11), stride=(4, 4), padding=(2, 2))\n",
            "    (1): ReLU(inplace=True)\n",
            "    (2): MaxPool2d(kernel_size=3, stride=2, padding=0, dilation=1, ceil_mode=False)\n",
            "    (3): Conv2d(64, 192, kernel_size=(5, 5), stride=(1, 1), padding=(2, 2))\n",
            "    (4): ReLU(inplace=True)\n",
            "    (5): MaxPool2d(kernel_size=3, stride=2, padding=0, dilation=1, ceil_mode=False)\n",
            "    (6): Conv2d(192, 384, kernel_size=(3, 3), stride=(1, 1), padding=(1, 1))\n",
            "    (7): ReLU(inplace=True)\n",
            "    (8): Conv2d(384, 256, kernel_size=(3, 3), stride=(1, 1), padding=(1, 1))\n",
            "    (9): ReLU(inplace=True)\n",
            "    (10): Conv2d(256, 256, kernel_size=(3, 3), stride=(1, 1), padding=(1, 1))\n",
            "    (11): ReLU(inplace=True)\n",
            "    (12): MaxPool2d(kernel_size=3, stride=2, padding=0, dilation=1, ceil_mode=False)\n",
            "  )\n",
            "  (avgpool): AdaptiveAvgPool2d(output_size=(6, 6))\n",
            "  (classifier): Sequential(\n",
            "    (0): Dropout(p=0.5, inplace=False)\n",
            "    (1): Linear(in_features=9216, out_features=4096, bias=True)\n",
            "    (2): ReLU(inplace=True)\n",
            "    (3): Dropout(p=0.5, inplace=False)\n",
            "    (4): Linear(in_features=4096, out_features=4096, bias=True)\n",
            "    (5): ReLU(inplace=True)\n",
            "    (6): Linear(in_features=4096, out_features=3, bias=True)\n",
            "  )\n",
            ")\n"
          ]
        }
      ]
    }
  ]
}