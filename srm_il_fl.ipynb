{
  "cells": [
    {
      "cell_type": "markdown",
      "metadata": {
        "id": "LgwfeC08tReM"
      },
      "source": [
        "# Goals\n",
        "\n",
        "1. Define Dataset with SRM-IL (style randomizations - image level)\n",
        "2. Define SRM-FL as a Separate Model (feature randomizations - feature level)\n",
        "3. Integrate SRM-FL into AlexNet\n",
        "\n",
        "Reference: https://github.com/rafizunaed/DomainAgnosticCXR/tree/main/"
      ]
    },
    {
      "cell_type": "markdown",
      "metadata": {
        "id": "rfJLfWQqyiXT"
      },
      "source": [
        "## Imports"
      ]
    },
    {
      "cell_type": "code",
      "execution_count": null,
      "metadata": {
        "colab": {
          "base_uri": "https://localhost:8080/"
        },
        "id": "zT_p6PUFyzzA",
        "outputId": "05706e5b-8d7d-4842-9797-4a39b51f8fbe"
      },
      "outputs": [
        {
          "output_type": "stream",
          "name": "stdout",
          "text": [
            "Collecting opendatasets\n",
            "  Downloading opendatasets-0.1.22-py3-none-any.whl.metadata (9.2 kB)\n",
            "Requirement already satisfied: tqdm in /usr/local/lib/python3.10/dist-packages (from opendatasets) (4.66.6)\n",
            "Requirement already satisfied: kaggle in /usr/local/lib/python3.10/dist-packages (from opendatasets) (1.6.17)\n",
            "Requirement already satisfied: click in /usr/local/lib/python3.10/dist-packages (from opendatasets) (8.1.7)\n",
            "Requirement already satisfied: six>=1.10 in /usr/local/lib/python3.10/dist-packages (from kaggle->opendatasets) (1.16.0)\n",
            "Requirement already satisfied: certifi>=2023.7.22 in /usr/local/lib/python3.10/dist-packages (from kaggle->opendatasets) (2024.8.30)\n",
            "Requirement already satisfied: python-dateutil in /usr/local/lib/python3.10/dist-packages (from kaggle->opendatasets) (2.8.2)\n",
            "Requirement already satisfied: requests in /usr/local/lib/python3.10/dist-packages (from kaggle->opendatasets) (2.32.3)\n",
            "Requirement already satisfied: python-slugify in /usr/local/lib/python3.10/dist-packages (from kaggle->opendatasets) (8.0.4)\n",
            "Requirement already satisfied: urllib3 in /usr/local/lib/python3.10/dist-packages (from kaggle->opendatasets) (2.2.3)\n",
            "Requirement already satisfied: bleach in /usr/local/lib/python3.10/dist-packages (from kaggle->opendatasets) (6.2.0)\n",
            "Requirement already satisfied: webencodings in /usr/local/lib/python3.10/dist-packages (from bleach->kaggle->opendatasets) (0.5.1)\n",
            "Requirement already satisfied: text-unidecode>=1.3 in /usr/local/lib/python3.10/dist-packages (from python-slugify->kaggle->opendatasets) (1.3)\n",
            "Requirement already satisfied: charset-normalizer<4,>=2 in /usr/local/lib/python3.10/dist-packages (from requests->kaggle->opendatasets) (3.4.0)\n",
            "Requirement already satisfied: idna<4,>=2.5 in /usr/local/lib/python3.10/dist-packages (from requests->kaggle->opendatasets) (3.10)\n",
            "Downloading opendatasets-0.1.22-py3-none-any.whl (15 kB)\n",
            "Installing collected packages: opendatasets\n",
            "Successfully installed opendatasets-0.1.22\n"
          ]
        }
      ],
      "source": [
        "!pip install opendatasets"
      ]
    },
    {
      "cell_type": "code",
      "execution_count": null,
      "metadata": {
        "id": "fFe4LUBHtP2D"
      },
      "outputs": [],
      "source": [
        "import os\n",
        "from torch.utils.data import Dataset, random_split, DataLoader, ConcatDataset\n",
        "from torchvision import transforms\n",
        "from PIL import Image\n",
        "import opendatasets as od\n",
        "import torch\n",
        "import torch.nn as nn\n",
        "import torch.optim as optim\n",
        "from torchvision.models import alexnet\n",
        "import matplotlib.pyplot as plt\n",
        "import numpy as np\n",
        "from timm.utils.model_ema import ModelEmaV2"
      ]
    },
    {
      "cell_type": "markdown",
      "metadata": {
        "id": "HfId9XtyteAj"
      },
      "source": [
        "## Download Dataset and create Dataloader"
      ]
    },
    {
      "cell_type": "code",
      "execution_count": null,
      "metadata": {
        "colab": {
          "base_uri": "https://localhost:8080/"
        },
        "id": "m8mTU-RyyqN-",
        "outputId": "9f99b1ac-2225-46b3-fb1c-6dd1c52d0d2a"
      },
      "outputs": [
        {
          "output_type": "stream",
          "name": "stdout",
          "text": [
            "Dataset URL: https://www.kaggle.com/datasets/emilyguan2/covid-dataset\n",
            "Downloading covid-dataset.zip to ./covid-dataset\n"
          ]
        },
        {
          "output_type": "stream",
          "name": "stderr",
          "text": [
            "100%|██████████| 185M/185M [00:01<00:00, 179MB/s]\n"
          ]
        },
        {
          "output_type": "stream",
          "name": "stdout",
          "text": [
            "\n",
            "Dataset URL: https://www.kaggle.com/datasets/andreacheng41/bangladesh-chestxray-dlproject\n",
            "Downloading bangladesh-chestxray-dlproject.zip to ./bangladesh-chestxray-dlproject\n"
          ]
        },
        {
          "output_type": "stream",
          "name": "stderr",
          "text": [
            "100%|██████████| 42.7M/42.7M [00:00<00:00, 151MB/s]\n"
          ]
        },
        {
          "output_type": "stream",
          "name": "stdout",
          "text": [
            "\n",
            "Dataset URL: https://www.kaggle.com/datasets/emilyguan2/nigeria-only\n",
            "Downloading nigeria-only.zip to ./nigeria-only\n"
          ]
        },
        {
          "output_type": "stream",
          "name": "stderr",
          "text": [
            "100%|██████████| 187M/187M [00:01<00:00, 166MB/s]\n"
          ]
        },
        {
          "output_type": "stream",
          "name": "stdout",
          "text": [
            "\n",
            "Dataset URL: https://www.kaggle.com/datasets/mahdiopra/rsua-chest-x-ray-dataset\n",
            "Downloading rsua-chest-x-ray-dataset.zip to ./rsua-chest-x-ray-dataset\n"
          ]
        },
        {
          "output_type": "stream",
          "name": "stderr",
          "text": [
            "100%|██████████| 109M/109M [00:00<00:00, 165MB/s]\n"
          ]
        },
        {
          "output_type": "stream",
          "name": "stdout",
          "text": [
            "\n"
          ]
        }
      ],
      "source": [
        "od.download(\"https://www.kaggle.com/datasets/emilyguan2/covid-dataset\")\n",
        "od.download(\"https://www.kaggle.com/datasets/andreacheng41/bangladesh-chestxray-dlproject\")\n",
        "od.download(\"https://www.kaggle.com/datasets/emilyguan2/nigeria-only\")\n",
        "od.download(\"https://www.kaggle.com/datasets/mahdiopra/rsua-chest-x-ray-dataset\")"
      ]
    },
    {
      "cell_type": "markdown",
      "metadata": {
        "id": "Zz25FF5d20BH"
      },
      "source": [
        "### SRM IL Class\n",
        "\n",
        "Applies a normalization formula to an image's pixel values.\n",
        "The paper provides the min_value and max_value using defined global config variables, but for simplicity we just default them to 0 and 255 (which is what the config variables are set to)"
      ]
    },
    {
      "cell_type": "code",
      "execution_count": null,
      "metadata": {
        "id": "BlBhuudE2qxp"
      },
      "outputs": [],
      "source": [
        "class SRM_IL(object):\n",
        "    def __init__(self, min_value=0, max_value=255):\n",
        "        self.max_value = max_value\n",
        "        self.min_value = min_value\n",
        "\n",
        "    def apply_perturbation(self, image):\n",
        "        image = image.astype(np.float32)\n",
        "        m2 = np.random.uniform(low=self.min_value, high=self.max_value, size=(1,1,1)).repeat(3, axis=2)\n",
        "        s2 = np.random.uniform(low=self.min_value, high=self.max_value, size=(1,1,1)).repeat(3, axis=2)\n",
        "        m1 = np.mean(image, axis=(0,1), keepdims=True)\n",
        "        v1 = np.var(image, axis=(0,1), keepdims=True)\n",
        "        s1 = np.sqrt(v1)\n",
        "        image = (image - m1) / s1\n",
        "        image = image * s2 + m2\n",
        "        return image"
      ]
    },
    {
      "cell_type": "markdown",
      "metadata": {
        "id": "G1o1V5p23WYm"
      },
      "source": [
        "### CXRDataset Class\n",
        "\n",
        "Defines a Dataset object for the Covid19 Radiography Database\n",
        "Uses the SRM-IL class to randomly"
      ]
    },
    {
      "cell_type": "code",
      "execution_count": null,
      "metadata": {
        "id": "-PvQXh5hy4NV"
      },
      "outputs": [],
      "source": [
        "class CXRDataset(Dataset):\n",
        "    def __init__(self, path, folder_mapping, sub_folder=None, transform=None, use_SRM_IL=True, srm_il_min=0, srm_il_max=255, print_img=False):\n",
        "        \"\"\"\n",
        "        Args:\n",
        "            folder_mapping (dict): A dictionary where keys are target labels and values are lists of folder paths.\n",
        "                                   Example: {\"Normal\": [\"path_to_Normal_folder\"],\n",
        "                                             \"Non-Pneumonia Disease\": [\"path_to_COVID\", \"path_to_Lung_Opacity\"],\n",
        "                                             \"Pneumonia\": [\"path_to_Viral_Pneumonia\"]}\n",
        "            transform (callable, optional): Optional transforms to be applied on an image.\n",
        "            use_SRM_IL (boolean): Indicates use of SRM IL perturbations on an image.\n",
        "        \"\"\"\n",
        "        self.print_img = print_img\n",
        "        self.data = []\n",
        "        self.labels = []\n",
        "        self.transform = transform\n",
        "        self.use_SRM_IL = use_SRM_IL\n",
        "\n",
        "        # Load all images and assign corresponding labels\n",
        "        for label, folders in folder_mapping.items():\n",
        "            for folder in folders:\n",
        "                folder_path = os.path.join(path, folder)\n",
        "                if sub_folder:\n",
        "                    folder_path = os.path.join(folder_path, sub_folder)\n",
        "\n",
        "                for file_name in os.listdir(folder_path):\n",
        "                    if file_name.endswith(('.png', '.jpg', '.jpeg', '.bmp')):  # Filter image files\n",
        "                        img_path = os.path.join(folder_path, file_name)\n",
        "                        self.data.append(img_path)\n",
        "                        self.labels.append(label)\n",
        "\n",
        "        # Define SRM_IL class\n",
        "        if self.use_SRM_IL:\n",
        "            self.SRM_IL = SRM_IL(srm_il_min, srm_il_max)\n",
        "\n",
        "    def __len__(self):\n",
        "        return len(self.data)\n",
        "\n",
        "    def __getitem__(self, idx):\n",
        "        img_path = self.data[idx]\n",
        "        label = self.labels[idx]\n",
        "\n",
        "        # Load image\n",
        "        image = Image.open(img_path).convert(\"RGB\")\n",
        "\n",
        "        if self.print_img:\n",
        "            plt.imshow(image)\n",
        "            plt.show()\n",
        "\n",
        "        # Apply perturbation\n",
        "        if self.use_SRM_IL:\n",
        "          image = np.array(image)\n",
        "          image = self.SRM_IL.apply_perturbation(image.copy())\n",
        "          image = Image.fromarray(image.astype('uint8'))\n",
        "          if self.print_img:\n",
        "            plt.imshow(image)\n",
        "            plt.show()\n",
        "\n",
        "        # Apply transformations\n",
        "        if self.transform:\n",
        "          image = self.transform(image)\n",
        "\n",
        "        return image, torch.tensor(label)\n"
      ]
    },
    {
      "cell_type": "code",
      "execution_count": null,
      "metadata": {
        "id": "Un18i50x6zuo"
      },
      "outputs": [],
      "source": [
        "# Define transforms\n",
        "transform = transforms.Compose([\n",
        "    transforms.Resize(256),\n",
        "    transforms.CenterCrop(224),\n",
        "    transforms.ToTensor(),\n",
        "    transforms.Normalize([0.485, 0.456, 0.406], [0.229, 0.224, 0.225]),\n",
        "])\n",
        "\n",
        "srm_il_min = 0\n",
        "srm_il_max = 255\n",
        "\n",
        "# training dataset\n",
        "\n",
        "train_data_dir_A = \"covid-dataset\"\n",
        "train_folder_map_A = {\n",
        "    0: [\"A_normal_sample\"],\n",
        "    1: [\"A_other_sample\"],\n",
        "    2: [\"A_pn_sample\"],\n",
        "}\n",
        "\n",
        "train_dataset_A = CXRDataset(train_data_dir_A, train_folder_map_A, transform=transform, use_SRM_IL=True, srm_il_min=srm_il_min, srm_il_max=srm_il_max)\n",
        "\n",
        "train_data_dir_B = \"nigeria-only\"\n",
        "train_folder_map_B = {\n",
        "    0: [\"nigeria_normal/nigeria_normal\"],\n",
        "    1: [\"nigeria_other/nigeria_other\"],\n",
        "    2: [\"nigeria_pneumonia/nigeria_pneumonia\"]\n",
        "}\n",
        "\n",
        "train_dataset_B = CXRDataset(train_data_dir_B, train_folder_map_B, transform=transform, use_SRM_IL=True, srm_il_min=srm_il_min, srm_il_max=srm_il_max)\n",
        "\n",
        "train_dataset = ConcatDataset([train_dataset_A, train_dataset_B])\n",
        "\n",
        "# validation dataset\n",
        "\n",
        "val_data_dir = \"bangladesh-chestxray-dlproject\"\n",
        "val_folder_map = {\n",
        "    0: [\"Normal\"],\n",
        "    1: [\"COVID\", \"Lung_Opacity\"],\n",
        "    2: [\"Viral Pneumonia\"]\n",
        "\n",
        "}\n",
        "\n",
        "val_dataset = CXRDataset(val_data_dir, val_folder_map, transform=transform, use_SRM_IL=False)\n",
        "\n",
        "# test dataset\n",
        "test_data_dir = \"rsua-chest-x-ray-dataset/RSUA Chest X-Ray Dataset/Data Chest X-Ray RSUA (Annotated)-20230618T030427Z-001/Data Chest X-Ray RSUA (Annotated)\"\n",
        "test_folder_map = {\n",
        "    0: [\"Non_Covid\"],\n",
        "    1: [\"Covid\"],\n",
        "    2: [\"Non_Covid_Pneumonia\"],\n",
        "}\n",
        "\n",
        "test_dataset = CXRDataset(test_data_dir, test_folder_map, sub_folder=\"images\", transform=transform, use_SRM_IL=False)"
      ]
    },
    {
      "cell_type": "code",
      "execution_count": null,
      "metadata": {
        "id": "3uBmaq1W7BIM"
      },
      "outputs": [],
      "source": [
        "# Create DataLoaders\n",
        "batch_size = 32\n",
        "train_loader = DataLoader(train_dataset, batch_size=batch_size, shuffle=True)\n",
        "val_loader = DataLoader(val_dataset, batch_size=batch_size, shuffle=True)\n",
        "test_loader = DataLoader(test_dataset, batch_size=batch_size, shuffle=False)"
      ]
    },
    {
      "cell_type": "code",
      "execution_count": null,
      "metadata": {
        "colab": {
          "base_uri": "https://localhost:8080/"
        },
        "id": "tupnPx0p7Dny",
        "outputId": "14bc8046-a0d6-41f1-adc3-be97858a327c"
      },
      "outputs": [
        {
          "output_type": "stream",
          "name": "stdout",
          "text": [
            "7151\n",
            "4350\n",
            "371\n"
          ]
        }
      ],
      "source": [
        "print(len(train_dataset))\n",
        "print(len(val_dataset))\n",
        "print(len(test_dataset))"
      ]
    },
    {
      "cell_type": "markdown",
      "metadata": {
        "id": "7t2wUOA97LL0"
      },
      "source": [
        "## Define AlexNet Architecture with Feature Level Perturbation Blocks\n",
        "\n",
        "The paper/github integrates a separate SRM_FL block into the Densenet architecture; here, we integrate the SRM_FL block into the Alexnet architecture"
      ]
    },
    {
      "cell_type": "markdown",
      "metadata": {
        "id": "u8mCFMfe7k6V"
      },
      "source": [
        "### SRM FL Class"
      ]
    },
    {
      "cell_type": "code",
      "execution_count": null,
      "metadata": {
        "id": "D6CH5_Vv7dv1"
      },
      "outputs": [],
      "source": [
        "class SRM_FL(nn.Module):\n",
        "    def __init__(self, in_channels: int):\n",
        "        super().__init__()\n",
        "        self.eps = 1e-7\n",
        "        self.gamma_net = nn.Sequential(\n",
        "                            nn.Conv2d(in_channels, in_channels, 1, 1),\n",
        "                            nn.Conv2d(in_channels, in_channels//2, 3, 1, 1),\n",
        "                            nn.Conv2d(in_channels//2, in_channels, 3, 1, 1),\n",
        "                            nn.Conv2d(in_channels, in_channels, 1, 1),\n",
        "                            )\n",
        "        self.beta_net = nn.Sequential(\n",
        "                            nn.Conv2d(in_channels, in_channels, 1, 1),\n",
        "                            nn.Conv2d(in_channels, in_channels//2, 3, 1, 1),\n",
        "                            nn.Conv2d(in_channels//2, in_channels, 3, 1, 1),\n",
        "                            nn.Conv2d(in_channels, in_channels, 1, 1),\n",
        "                            )\n",
        "\n",
        "    def forward(self, content_feats_orig:torch.Tensor, style_feats:torch.Tensor):\n",
        "        gamma = self.gamma_net(style_feats)\n",
        "        beta = self.beta_net(style_feats)\n",
        "        mean_content = torch.mean(content_feats_orig, dim=[2,3], keepdim=True)\n",
        "        var_content = torch.var(content_feats_orig, dim=[2,3], keepdim=True)\n",
        "        content_feats = (content_feats_orig - mean_content) / (var_content + self.eps).sqrt()\n",
        "        content_feats = content_feats * gamma + beta\n",
        "        return content_feats"
      ]
    },
    {
      "cell_type": "markdown",
      "metadata": {
        "id": "JQq9dq_k-FGV"
      },
      "source": [
        "### Loss function for SRM_FL"
      ]
    },
    {
      "cell_type": "code",
      "execution_count": null,
      "metadata": {
        "id": "V5tDousl-DyC"
      },
      "outputs": [],
      "source": [
        "import torch.nn.functional as F\n",
        "\n",
        "def generate_gram_matrix(x:torch.Tensor):\n",
        "    (b, ch, h, w) = x.size()\n",
        "    features = x.view(b, ch, w * h)\n",
        "    features = F.normalize(features, dim=2, eps=1e-7)\n",
        "    features_t = features.transpose(1, 2)\n",
        "    gram_matrix = features.bmm(features_t)\n",
        "    return gram_matrix\n",
        "\n",
        "def calculate_content_style_loss(transformed:torch.Tensor, content_ref:torch.Tensor, style_ref:torch.Tensor):\n",
        "    content_loss = F.mse_loss(transformed, content_ref)\n",
        "    gm_transformed = generate_gram_matrix(transformed)\n",
        "    gm_style_ref = generate_gram_matrix(style_ref)\n",
        "    style_loss = F.mse_loss(gm_transformed, gm_style_ref)\n",
        "    return content_loss, style_loss"
      ]
    },
    {
      "cell_type": "markdown",
      "metadata": {
        "id": "7fjo1zfk8DVz"
      },
      "source": [
        "### AlexNet with SRM FL Blocks\n",
        "\n",
        "Removing randomization_stage parameter and simply integrating the SRMFL block where convenient for now"
      ]
    },
    {
      "cell_type": "code",
      "execution_count": null,
      "metadata": {
        "colab": {
          "base_uri": "https://localhost:8080/"
        },
        "id": "VThe3hxw7se4",
        "outputId": "5191a564-9e29-4ae2-8363-f68b3906b984"
      },
      "outputs": [
        {
          "output_type": "stream",
          "name": "stderr",
          "text": [
            "<ipython-input-14-91243dad57a1>:86: FutureWarning: `torch.cuda.amp.autocast(args...)` is deprecated. Please use `torch.amp.autocast('cuda', args...)` instead.\n",
            "  @autocast()\n"
          ]
        }
      ],
      "source": [
        "from torch.cuda.amp import autocast\n",
        "\n",
        "class AlexNet_SRMFL(nn.Module):\n",
        "    def __init__(self, num_classes: int, init_srm_fl=False, randomization_stage=None):\n",
        "          super().__init__()\n",
        "          self._init_backbone()\n",
        "          self._init_head(num_classes)\n",
        "          self.init_srm_fl = init_srm_fl\n",
        "          self.randomization_stage = randomization_stage\n",
        "\n",
        "          # Validate init_srm_fl is True <=> randomization_stage is not None\n",
        "          if init_srm_fl == True:\n",
        "            assert randomization_stage in ['S1', 'S2', 'S3']\n",
        "          if randomization_stage != None:\n",
        "            assert init_srm_fl == True\n",
        "\n",
        "          # SRM_FL expected input based on location in AlexNet\n",
        "          if randomization_stage == 'S1':\n",
        "              self.srm_fl = SRM_FL(192)\n",
        "          elif randomization_stage == 'S2':\n",
        "              self.srm_fl = SRM_FL(384)\n",
        "          elif randomization_stage == 'S3':\n",
        "              self.srm_fl = SRM_FL(256)\n",
        "\n",
        "\n",
        "    def _init_backbone(self):\n",
        "        # Load AlexNet pretrained model\n",
        "        model = alexnet(pretrained=True)\n",
        "        features = list(model.features)\n",
        "        # Split AlexNet layers into blocks for S1, S2, S3 stages\n",
        "        self.stem = nn.Sequential(*features[:3])  # Layers 0-2\n",
        "        self.conv_block1 = nn.Sequential(*features[3:6])  # Layers 3-5\n",
        "        self.conv_block2 = nn.Sequential(*features[6:8])  # Layers 6-7\n",
        "        self.conv_block3 = nn.Sequential(*features[8:])   # Layers 8-12\n",
        "\n",
        "        # Global average pooling\n",
        "        self.avg = nn.AdaptiveAvgPool2d((6, 6))\n",
        "\n",
        "    def _init_head(self, num_classes: int):\n",
        "        # Final classifier\n",
        "        self.classifier = nn.Sequential(\n",
        "            nn.Dropout(),\n",
        "            nn.Linear(256 * 6 * 6, 4096),\n",
        "            nn.ReLU(inplace=True),\n",
        "            nn.Dropout(),\n",
        "            nn.Linear(4096, 4096),\n",
        "            nn.ReLU(inplace=True),\n",
        "            nn.Linear(4096, num_classes),\n",
        "        )\n",
        "\n",
        "    def grad_turn_on_srm_fl_only(self):\n",
        "        for x in [self.stem, self.conv_block1, self.conv_block2, self.conv_block3, self.classifier]:\n",
        "            for _, p in enumerate(x.parameters()):\n",
        "                p.requires_grad_(False)\n",
        "\n",
        "        for _, p in enumerate(self.srm_fl.parameters()):\n",
        "            p.requires_grad_(True)\n",
        "\n",
        "    def grad_turn_off_srm_fl_only(self):\n",
        "        for x in [self.stem, self.conv_block1, self.conv_block2, self.conv_block3, self.classifier]:\n",
        "            for _, p in enumerate(x.parameters()):\n",
        "                p.requires_grad_(True)\n",
        "\n",
        "        for _, p in enumerate(self.srm_fl.parameters()):\n",
        "            p.requires_grad_(False)\n",
        "\n",
        "    def _forward_block(self, block, x: torch.Tensor):\n",
        "        x = block(x)\n",
        "        return x\n",
        "\n",
        "    def _perturb_features(self, x: torch.Tensor, train_srm_fl: bool):\n",
        "        N = x.shape[0]\n",
        "        idx_swap = torch.arange(N).flip(0)\n",
        "        cont_x = x.clone()\n",
        "        style_x = x.clone()[idx_swap].detach()\n",
        "        x_srm = self.srm_fl(cont_x, style_x)\n",
        "        if train_srm_fl:\n",
        "            content_loss, style_loss = calculate_content_style_loss(x_srm, cont_x, style_x)\n",
        "            return {\n",
        "                'content_loss': content_loss,\n",
        "                'style_loss': style_loss,\n",
        "                }\n",
        "        else:\n",
        "            return x_srm\n",
        "\n",
        "    @autocast()\n",
        "    def forward(self, x: torch.Tensor, use_srm_fl: bool = False, train_srm_fl: bool = False):\n",
        "        if not self.init_srm_fl or not use_srm_fl:\n",
        "            x = self.stem(x)\n",
        "            x = self._forward_block(self.conv_block1, x)\n",
        "            x = self._forward_block(self.conv_block2, x)\n",
        "            x = self._forward_block(self.conv_block3, x)\n",
        "            x = torch.flatten(x, 1)\n",
        "            logits = self.classifier(x)\n",
        "        else:\n",
        "            x = self.stem(x)\n",
        "\n",
        "            x = self._forward_block(self.conv_block1, x)\n",
        "            if self.randomization_stage == 'S1' and use_srm_fl:\n",
        "                x = self._perturb_features(x, train_srm_fl)\n",
        "                if train_srm_fl:\n",
        "                    return x\n",
        "\n",
        "            x = self._forward_block(self.conv_block2, x)\n",
        "            if self.randomization_stage == 'S2' and use_srm_fl:\n",
        "                x = self._perturb_features(x, train_srm_fl)\n",
        "                if train_srm_fl:\n",
        "                    return x\n",
        "\n",
        "            x = self._forward_block(self.conv_block3, x)\n",
        "            if self.randomization_stage == 'S3' and use_srm_fl:\n",
        "                x = self._perturb_features(x, train_srm_fl)\n",
        "                if train_srm_fl:\n",
        "                    return x\n",
        "\n",
        "            x = self.avg(x)\n",
        "            x = torch.flatten(x, 1)\n",
        "            logits = self.classifier(x)\n",
        "\n",
        "        return {\n",
        "            'logits': logits,\n",
        "            'gfm': x,\n",
        "        }"
      ]
    },
    {
      "cell_type": "markdown",
      "metadata": {
        "id": "aarHmcYddwce"
      },
      "source": [
        "## Train Model\n",
        "\n",
        "Define a class to customize training parameters for comparison"
      ]
    },
    {
      "cell_type": "code",
      "execution_count": null,
      "metadata": {
        "id": "gy7UR1q5-ov4"
      },
      "outputs": [],
      "source": [
        "DEVICE = torch.device(\"cuda\" if torch.cuda.is_available() else \"cpu\")"
      ]
    },
    {
      "cell_type": "code",
      "execution_count": null,
      "metadata": {
        "id": "L1WMTBn3zuF8"
      },
      "outputs": [],
      "source": [
        "class ModelTrainer():\n",
        "    def __init__(self,\n",
        "                 model: torch.nn.Module,\n",
        "                 Loaders: list,\n",
        "                 lr: float,\n",
        "                 epochsTorun: int,\n",
        "                 do_grad_accum: False,\n",
        "                 grad_accum_step: int,\n",
        "                 use_ema: bool,\n",
        "                 eta: float,\n",
        "                 use_SRM_FL: bool,\n",
        "                 ):\n",
        "        super().__init__()\n",
        "\n",
        "        self.model = model.to(DEVICE)\n",
        "        self.trainLoader = Loaders[0]\n",
        "        self.valLoader = Loaders[1]\n",
        "        self.eta = eta\n",
        "        self.lr = lr\n",
        "        self.epochsTorun = epochsTorun\n",
        "\n",
        "        self.criterion_cls = nn.CrossEntropyLoss()\n",
        "\n",
        "        self.scaler = torch.cuda.amp.GradScaler()\n",
        "        self.optimizer = torch.optim.Adam(params=self.model.parameters(), lr=self.lr)\n",
        "\n",
        "        self.do_grad_accum = do_grad_accum\n",
        "        self.grad_accum_step = grad_accum_step\n",
        "\n",
        "        self.use_ema = use_ema\n",
        "        if self.use_ema:\n",
        "            self.model_ema = ModelEmaV2(self.model, decay=0.997, device=DEVICE)\n",
        "\n",
        "        self.use_SRM_FL = use_SRM_FL\n",
        "\n",
        "    def save_checkpoint(self, epoch, train_loss, train_acc, val_loss, val_acc):\n",
        "        checkpoint = {\n",
        "            'epoch': epoch,\n",
        "            'model_state_dict': self.model.state_dict(),\n",
        "            'optimizer_state_dict': self.optimizer.state_dict(),\n",
        "            'scaler_state_dict': self.scaler.state_dict(),\n",
        "            'train_loss': train_loss,\n",
        "            'train_acc': train_acc,\n",
        "            'val_loss': val_loss,\n",
        "            'val_acc': val_acc\n",
        "        }\n",
        "\n",
        "        if self.use_ema:\n",
        "            checkpoint['model_ema_state_dict'] = self.model_ema.state_dict()\n",
        "\n",
        "        torch.save(checkpoint, f'checkpoint_epoch_{epoch+1}.pth')\n",
        "        print(f\"Checkpoint saved for epoch {epoch+1}\")\n",
        "\n",
        "    def load_checkpoint(self, checkpoint_path):\n",
        "        checkpoint = torch.load(checkpoint_path)\n",
        "        self.model.load_state_dict(checkpoint['model_state_dict'])\n",
        "        self.optimizer.load_state_dict(checkpoint['optimizer_state_dict'])\n",
        "        self.scaler.load_state_dict(checkpoint['scaler_state_dict'])\n",
        "\n",
        "        if self.use_ema and 'model_ema_state_dict' in checkpoint:\n",
        "            self.model_ema.load_state_dict(checkpoint['model_ema_state_dict'])\n",
        "\n",
        "        return checkpoint['epoch']\n",
        "\n",
        "\n",
        "    def perform_validation(self, use_progbar=True):\n",
        "        self.model.eval()\n",
        "        if self.use_ema:\n",
        "            self.model_ema.eval()\n",
        "        torch.set_grad_enabled(False)\n",
        "\n",
        "        print(f'(Val) Epoch {self.current_epoch_no}/{self.epochsTorun}')\n",
        "\n",
        "        running_loss = 0.0\n",
        "        correct = 0\n",
        "        total = 0\n",
        "\n",
        "        for images, labels in self.valLoader:\n",
        "            images, labels = images.to(DEVICE), labels.to(DEVICE)\n",
        "\n",
        "            with torch.no_grad() and torch.amp.autocast(device_type='cuda'):\n",
        "                if self.use_ema:\n",
        "                    out = self.model_ema.module(images)\n",
        "                else:\n",
        "                    out = self.model(images)\n",
        "                batch_loss = self.criterion_cls(out['logits'], labels)\n",
        "                running_loss += batch_loss.item()\n",
        "\n",
        "            # update metrics\n",
        "            _, predicted = out['logits'].max(1)\n",
        "            correct += (predicted == labels).sum().item()\n",
        "            total += labels.size(0)\n",
        "\n",
        "        # calculate metrics and return\n",
        "        epoch_loss = running_loss / len(self.valLoader)\n",
        "        epoch_accuracy = correct / total\n",
        "        return epoch_loss, epoch_accuracy\n",
        "\n",
        "    def train_one_epoch_style_net(self):\n",
        "\n",
        "        print(f'(Train Style Net) Epoch {self.current_epoch_no}/{self.epochsTorun}')\n",
        "\n",
        "        self.model.train()\n",
        "        torch.set_grad_enabled(True)\n",
        "        self.optimizer.zero_grad()\n",
        "\n",
        "        if self.use_ema:\n",
        "            self.model_ema.train()\n",
        "\n",
        "        self.model.grad_turn_on_srm_fl_only()\n",
        "\n",
        "        running_content_loss = 0.0\n",
        "        running_style_loss = 0.0\n",
        "\n",
        "        for itera_no, (images, labels) in enumerate(self.trainLoader):\n",
        "            images, labels = images.to(DEVICE), labels.to(DEVICE)\n",
        "\n",
        "            with torch.cuda.amp.autocast():\n",
        "                out = self.model(images, use_srm_fl=True, train_srm_fl=True)\n",
        "                content_loss = out['content_loss'].mean()\n",
        "                style_loss = self.eta * out['style_loss'].mean()\n",
        "            self.scaler.scale(content_loss+style_loss).backward()\n",
        "\n",
        "            if self.do_grad_accum:\n",
        "                if (itera_no+1)%self.grad_accum_step == 0:\n",
        "                    self.scaler.step(self.optimizer)\n",
        "                    self.scaler.update()\n",
        "                    self.optimizer.zero_grad()\n",
        "\n",
        "                    if self.use_ema:\n",
        "                        self.model_ema.update(self.model)\n",
        "            else:\n",
        "                self.scaler.step(self.optimizer)\n",
        "                self.scaler.update()\n",
        "                self.optimizer.zero_grad()\n",
        "\n",
        "                if self.use_ema:\n",
        "                    self.model_ema.update(self.model)\n",
        "\n",
        "            # update metrics\n",
        "            running_content_loss += content_loss.detach().item()\n",
        "            running_style_loss += style_loss.detach().item()\n",
        "\n",
        "            if (itera_no+1) % 100 == 0:\n",
        "                print(f'    Iter {itera_no}/{len(self.trainLoader)} | Train Content Loss: {content_loss}, Train Style Loss: {style_loss}')\n",
        "\n",
        "        # calculate metrics and return\n",
        "        epoch_content_loss = running_content_loss / len(self.trainLoader)\n",
        "        epoch_style_loss = running_style_loss / len(self.trainLoader)\n",
        "        return epoch_content_loss, epoch_style_loss\n",
        "\n",
        "    def train_one_epoch(self):\n",
        "\n",
        "        print(f'(Train Classifier) Epoch {self.current_epoch_no}/{self.epochsTorun}')\n",
        "\n",
        "        self.model.train()\n",
        "        torch.set_grad_enabled(True)\n",
        "        self.optimizer.zero_grad()\n",
        "\n",
        "        if self.use_ema:\n",
        "            self.model_ema.train()\n",
        "\n",
        "        self.model.grad_turn_off_srm_fl_only()\n",
        "\n",
        "        running_loss = 0.0\n",
        "        correct = 0\n",
        "        total = 0\n",
        "\n",
        "        for itera_no, (images, labels) in enumerate(self.trainLoader):\n",
        "            images, labels = images.to(DEVICE), labels.to(DEVICE)\n",
        "\n",
        "            with torch.cuda.amp.autocast():\n",
        "                out = self.model(images, use_srm_fl=True, train_srm_fl=False)\n",
        "                cls_loss = self.criterion_cls(out['logits'], labels)\n",
        "                batch_loss = cls_loss\n",
        "\n",
        "            self.scaler.scale(batch_loss).backward()\n",
        "\n",
        "            if self.do_grad_accum:\n",
        "                if (itera_no+1)%self.grad_accum_step == 0:\n",
        "                    self.scaler.step(self.optimizer)\n",
        "                    self.scaler.update()\n",
        "                    self.optimizer.zero_grad()\n",
        "\n",
        "                    if self.use_ema:\n",
        "                        self.model_ema.update(self.model)\n",
        "            else:\n",
        "                self.scaler.step(self.optimizer)\n",
        "                self.scaler.update()\n",
        "                self.optimizer.zero_grad()\n",
        "\n",
        "                if self.use_ema:\n",
        "                    self.model_ema.update(self.model)\n",
        "\n",
        "            # update metrics\n",
        "            _, predicted = out['logits'].max(1)\n",
        "            correct += (predicted == labels).sum().item()\n",
        "            total += labels.size(0)\n",
        "            running_loss += batch_loss.item()\n",
        "\n",
        "            if itera_no % 100 == 0:\n",
        "                print(f'    Iter {itera_no}/{len(self.trainLoader)} | Train Loss: {batch_loss}')\n",
        "\n",
        "        # calculate metrics and return\n",
        "        epoch_loss = running_loss / len(self.trainLoader)\n",
        "        epoch_accuracy = correct / total\n",
        "        return epoch_loss, epoch_accuracy\n",
        "\n",
        "    # train part starts here\n",
        "    def fit(self, resume_from_checkpoint):\n",
        "\n",
        "        # keep track of losses and accuracies\n",
        "\n",
        "        train_cont_losses = []\n",
        "        train_style_losses = []\n",
        "        train_losses = []\n",
        "        train_accuracies = []\n",
        "        val_losses = []\n",
        "        val_accuracies = []\n",
        "\n",
        "        start_epoch = 0\n",
        "        if resume_from_checkpoint:\n",
        "            print(f\"Resuming training from epoch\")\n",
        "            start_epoch = self.load_checkpoint(resume_from_checkpoint)\n",
        "            print(f\"Resuming training from epoch {start_epoch}\")\n",
        "\n",
        "        for epoch in range(start_epoch, self.epochsTorun):\n",
        "            self.current_epoch_no = epoch+1\n",
        "            if self.use_SRM_FL:\n",
        "              train_content_loss, train_style_loss = self.train_one_epoch_style_net()\n",
        "              print(f'  Train Content Loss: {train_content_loss}, Train Style Loss: {train_style_loss}')\n",
        "            train_loss, train_acc = self.train_one_epoch()\n",
        "            val_loss, val_acc = self.perform_validation()\n",
        "            print(f'  Train Loss: {train_loss}, Train Acc: {train_acc}, Val Loss: {val_loss}, Val Acc: {val_acc}')\n",
        "\n",
        "            train_cont_losses.append(train_content_loss)\n",
        "            train_style_losses.append(train_style_loss)\n",
        "            train_losses.append(train_loss)\n",
        "            train_accuracies.append(train_acc)\n",
        "            val_losses.append(val_loss)\n",
        "            val_accuracies.append(val_acc)\n",
        "\n",
        "            # save model at this epoch\n",
        "            self.save_checkpoint(epoch, train_losses[-1], train_accuracies[-1], val_losses[-1], val_accuracies[-1])\n",
        "\n",
        "        # save losses and accuracies\n",
        "        np.savez(\n",
        "          \"srm_il_fl_metrics.npz\",\n",
        "          train_cont_losses=train_cont_losses,\n",
        "          train_style_losses=train_style_losses,\n",
        "          train_losses=train_losses,\n",
        "          train_accs=train_accuracies,\n",
        "          val_losses=val_losses,\n",
        "          val_accs=val_accuracies,\n",
        "        )\n",
        "\n",
        "        return train_cont_losses, train_style_losses, train_losses, train_accuracies, val_losses, val_accuracies"
      ]
    },
    {
      "cell_type": "markdown",
      "metadata": {
        "id": "pPow1ctvAu9u"
      },
      "source": [
        "### Train model on IL & FL\n",
        "\n",
        "Parameters chosen based on paper's github default values\n",
        "Image level perturbations applied only"
      ]
    },
    {
      "cell_type": "code",
      "source": [
        "model = AlexNet_SRMFL(num_classes=3, init_srm_fl=True, randomization_stage='S1')\n",
        "\n",
        "trainer_args = {\n",
        "                'model': model,\n",
        "                'Loaders': [train_loader, val_loader],\n",
        "                'lr': 0.0001,\n",
        "                'epochsTorun': 15,\n",
        "                'do_grad_accum': True,\n",
        "                'grad_accum_step': 4,\n",
        "                'use_ema': True,\n",
        "                'eta': 1.5,\n",
        "                'use_SRM_FL': True\n",
        "                }\n",
        "\n",
        "trainer = ModelTrainer(**trainer_args)\n",
        "metrics = trainer.fit(resume_from_checkpoint=None)"
      ],
      "metadata": {
        "colab": {
          "base_uri": "https://localhost:8080/",
          "height": 1000
        },
        "id": "6ZYfXoEvFRLS",
        "outputId": "3efa9a8f-c794-4376-9ba1-5130d6674ff2"
      },
      "execution_count": null,
      "outputs": [
        {
          "metadata": {
            "tags": null
          },
          "name": "stderr",
          "output_type": "stream",
          "text": [
            "<ipython-input-16-e67318a23f66>:24: FutureWarning: `torch.cuda.amp.GradScaler(args...)` is deprecated. Please use `torch.amp.GradScaler('cuda', args...)` instead.\n",
            "  self.scaler = torch.cuda.amp.GradScaler()\n"
          ]
        },
        {
          "metadata": {
            "tags": null
          },
          "name": "stdout",
          "output_type": "stream",
          "text": [
            "(Train Style Net) Epoch 1/15\n"
          ]
        },
        {
          "metadata": {
            "tags": null
          },
          "name": "stderr",
          "output_type": "stream",
          "text": [
            "<ipython-input-16-e67318a23f66>:118: FutureWarning: `torch.cuda.amp.autocast(args...)` is deprecated. Please use `torch.amp.autocast('cuda', args...)` instead.\n",
            "  with torch.cuda.amp.autocast():\n"
          ]
        },
        {
          "metadata": {
            "tags": null
          },
          "name": "stdout",
          "output_type": "stream",
          "text": [
            "    Iter 99/224 | Train Content Loss: 9.131458282470703, Train Style Loss: 0.0902959555387497\n",
            "    Iter 199/224 | Train Content Loss: 7.555398941040039, Train Style Loss: 0.06037618964910507\n",
            "  Train Content Loss: 12.108271277376584, Train Style Loss: 0.1218096365753029\n",
            "(Train Classifier) Epoch 1/15\n"
          ]
        },
        {
          "metadata": {
            "tags": null
          },
          "name": "stderr",
          "output_type": "stream",
          "text": [
            "<ipython-input-16-e67318a23f66>:172: FutureWarning: `torch.cuda.amp.autocast(args...)` is deprecated. Please use `torch.amp.autocast('cuda', args...)` instead.\n",
            "  with torch.cuda.amp.autocast():\n"
          ]
        },
        {
          "output_type": "stream",
          "name": "stdout",
          "text": [
            "    Iter 0/224 | Train Loss: 1.1181793212890625\n",
            "    Iter 100/224 | Train Loss: 0.7692832946777344\n",
            "    Iter 200/224 | Train Loss: 0.255512535572052\n",
            "(Val) Epoch 1/15\n",
            "  Train Loss: 0.7531371590282235, Train Acc: 0.6369738498112152, Val Loss: 1.0158947890295702, Val Acc: 0.5802298850574713\n",
            "Checkpoint saved for epoch 1\n",
            "(Train Style Net) Epoch 2/15\n",
            "    Iter 99/224 | Train Content Loss: 7.82893180847168, Train Style Loss: 0.05963924154639244\n",
            "    Iter 199/224 | Train Content Loss: 6.572045803070068, Train Style Loss: 0.052247945219278336\n",
            "  Train Content Loss: 6.540525063872337, Train Style Loss: 0.0524289634777233\n",
            "(Train Classifier) Epoch 2/15\n",
            "    Iter 0/224 | Train Loss: 0.6016584634780884\n",
            "    Iter 100/224 | Train Loss: 0.44881343841552734\n",
            "    Iter 200/224 | Train Loss: 0.3588939607143402\n",
            "(Val) Epoch 2/15\n",
            "  Train Loss: 0.4388600697607866, Train Acc: 0.811215214655293, Val Loss: 0.8331594953642172, Val Acc: 0.588735632183908\n",
            "Checkpoint saved for epoch 2\n",
            "(Train Style Net) Epoch 3/15\n",
            "    Iter 99/224 | Train Content Loss: 7.802350997924805, Train Style Loss: 0.06379137188196182\n",
            "    Iter 199/224 | Train Content Loss: 6.2074666023254395, Train Style Loss: 0.038320381194353104\n",
            "  Train Content Loss: 6.603772523147719, Train Style Loss: 0.05237645105392273\n",
            "(Train Classifier) Epoch 3/15\n",
            "    Iter 0/224 | Train Loss: 0.22168222069740295\n",
            "    Iter 100/224 | Train Loss: 0.3958686888217926\n",
            "    Iter 200/224 | Train Loss: 0.34956926107406616\n",
            "(Val) Epoch 3/15\n",
            "  Train Loss: 0.3797653024084866, Train Acc: 0.8356873164592364, Val Loss: 0.7988609193879015, Val Acc: 0.5597701149425287\n",
            "Checkpoint saved for epoch 3\n",
            "(Train Style Net) Epoch 4/15\n",
            "    Iter 99/224 | Train Content Loss: 7.743691444396973, Train Style Loss: 0.06021924316883087\n",
            "    Iter 199/224 | Train Content Loss: 6.5935211181640625, Train Style Loss: 0.04677153751254082\n",
            "  Train Content Loss: 6.898404653583254, Train Style Loss: 0.05376351736153343\n",
            "(Train Classifier) Epoch 4/15\n",
            "    Iter 0/224 | Train Loss: 0.5243113040924072\n",
            "    Iter 100/224 | Train Loss: 0.2266615331172943\n",
            "    Iter 200/224 | Train Loss: 0.46430259943008423\n",
            "(Val) Epoch 4/15\n",
            "  Train Loss: 0.3508008043281734, Train Acc: 0.8474339253251294, Val Loss: 0.9461483070079018, Val Acc: 0.5519540229885057\n",
            "Checkpoint saved for epoch 4\n",
            "(Train Style Net) Epoch 5/15\n",
            "    Iter 99/224 | Train Content Loss: 6.70927095413208, Train Style Loss: 0.04697219282388687\n",
            "    Iter 199/224 | Train Content Loss: 8.814330101013184, Train Style Loss: 0.04900208115577698\n",
            "  Train Content Loss: 7.1289337149688174, Train Style Loss: 0.052760450734889934\n",
            "(Train Classifier) Epoch 5/15\n",
            "    Iter 0/224 | Train Loss: 0.46738162636756897\n",
            "    Iter 100/224 | Train Loss: 0.5267632007598877\n",
            "    Iter 200/224 | Train Loss: 0.3901248574256897\n",
            "(Val) Epoch 5/15\n",
            "  Train Loss: 0.3284433957056275, Train Acc: 0.8569430848832331, Val Loss: 1.2064769272418583, Val Acc: 0.5418390804597701\n",
            "Checkpoint saved for epoch 5\n",
            "(Train Style Net) Epoch 6/15\n",
            "    Iter 99/224 | Train Content Loss: 6.825450420379639, Train Style Loss: 0.06315219402313232\n",
            "    Iter 199/224 | Train Content Loss: 7.4398722648620605, Train Style Loss: 0.05591992288827896\n",
            "  Train Content Loss: 7.50096367086683, Train Style Loss: 0.05555359472054988\n",
            "(Train Classifier) Epoch 6/15\n",
            "    Iter 0/224 | Train Loss: 0.2871469557285309\n",
            "    Iter 100/224 | Train Loss: 0.3708903193473816\n"
          ]
        },
        {
          "output_type": "error",
          "ename": "KeyboardInterrupt",
          "evalue": "",
          "traceback": [
            "\u001b[0;31m---------------------------------------------------------------------------\u001b[0m",
            "\u001b[0;31mKeyboardInterrupt\u001b[0m                         Traceback (most recent call last)",
            "\u001b[0;32m<ipython-input-18-783ed80d803b>\u001b[0m in \u001b[0;36m<cell line: 16>\u001b[0;34m()\u001b[0m\n\u001b[1;32m     14\u001b[0m \u001b[0;34m\u001b[0m\u001b[0m\n\u001b[1;32m     15\u001b[0m \u001b[0mtrainer\u001b[0m \u001b[0;34m=\u001b[0m \u001b[0mModelTrainer\u001b[0m\u001b[0;34m(\u001b[0m\u001b[0;34m**\u001b[0m\u001b[0mtrainer_args\u001b[0m\u001b[0;34m)\u001b[0m\u001b[0;34m\u001b[0m\u001b[0;34m\u001b[0m\u001b[0m\n\u001b[0;32m---> 16\u001b[0;31m \u001b[0mmetrics\u001b[0m \u001b[0;34m=\u001b[0m \u001b[0mtrainer\u001b[0m\u001b[0;34m.\u001b[0m\u001b[0mfit\u001b[0m\u001b[0;34m(\u001b[0m\u001b[0mresume_from_checkpoint\u001b[0m\u001b[0;34m=\u001b[0m\u001b[0;32mNone\u001b[0m\u001b[0;34m)\u001b[0m\u001b[0;34m\u001b[0m\u001b[0;34m\u001b[0m\u001b[0m\n\u001b[0m",
            "\u001b[0;32m<ipython-input-16-e67318a23f66>\u001b[0m in \u001b[0;36mfit\u001b[0;34m(self, resume_from_checkpoint)\u001b[0m\n\u001b[1;32m    230\u001b[0m               \u001b[0mtrain_content_loss\u001b[0m\u001b[0;34m,\u001b[0m \u001b[0mtrain_style_loss\u001b[0m \u001b[0;34m=\u001b[0m \u001b[0mself\u001b[0m\u001b[0;34m.\u001b[0m\u001b[0mtrain_one_epoch_style_net\u001b[0m\u001b[0;34m(\u001b[0m\u001b[0;34m)\u001b[0m\u001b[0;34m\u001b[0m\u001b[0;34m\u001b[0m\u001b[0m\n\u001b[1;32m    231\u001b[0m               \u001b[0mprint\u001b[0m\u001b[0;34m(\u001b[0m\u001b[0;34mf'  Train Content Loss: {train_content_loss}, Train Style Loss: {train_style_loss}'\u001b[0m\u001b[0;34m)\u001b[0m\u001b[0;34m\u001b[0m\u001b[0;34m\u001b[0m\u001b[0m\n\u001b[0;32m--> 232\u001b[0;31m             \u001b[0mtrain_loss\u001b[0m\u001b[0;34m,\u001b[0m \u001b[0mtrain_acc\u001b[0m \u001b[0;34m=\u001b[0m \u001b[0mself\u001b[0m\u001b[0;34m.\u001b[0m\u001b[0mtrain_one_epoch\u001b[0m\u001b[0;34m(\u001b[0m\u001b[0;34m)\u001b[0m\u001b[0;34m\u001b[0m\u001b[0;34m\u001b[0m\u001b[0m\n\u001b[0m\u001b[1;32m    233\u001b[0m             \u001b[0mval_loss\u001b[0m\u001b[0;34m,\u001b[0m \u001b[0mval_acc\u001b[0m \u001b[0;34m=\u001b[0m \u001b[0mself\u001b[0m\u001b[0;34m.\u001b[0m\u001b[0mperform_validation\u001b[0m\u001b[0;34m(\u001b[0m\u001b[0;34m)\u001b[0m\u001b[0;34m\u001b[0m\u001b[0;34m\u001b[0m\u001b[0m\n\u001b[1;32m    234\u001b[0m             \u001b[0mprint\u001b[0m\u001b[0;34m(\u001b[0m\u001b[0;34mf'  Train Loss: {train_loss}, Train Acc: {train_acc}, Val Loss: {val_loss}, Val Acc: {val_acc}'\u001b[0m\u001b[0;34m)\u001b[0m\u001b[0;34m\u001b[0m\u001b[0;34m\u001b[0m\u001b[0m\n",
            "\u001b[0;32m<ipython-input-16-e67318a23f66>\u001b[0m in \u001b[0;36mtrain_one_epoch\u001b[0;34m(self)\u001b[0m\n\u001b[1;32m    167\u001b[0m         \u001b[0mtotal\u001b[0m \u001b[0;34m=\u001b[0m \u001b[0;36m0\u001b[0m\u001b[0;34m\u001b[0m\u001b[0;34m\u001b[0m\u001b[0m\n\u001b[1;32m    168\u001b[0m \u001b[0;34m\u001b[0m\u001b[0m\n\u001b[0;32m--> 169\u001b[0;31m         \u001b[0;32mfor\u001b[0m \u001b[0mitera_no\u001b[0m\u001b[0;34m,\u001b[0m \u001b[0;34m(\u001b[0m\u001b[0mimages\u001b[0m\u001b[0;34m,\u001b[0m \u001b[0mlabels\u001b[0m\u001b[0;34m)\u001b[0m \u001b[0;32min\u001b[0m \u001b[0menumerate\u001b[0m\u001b[0;34m(\u001b[0m\u001b[0mself\u001b[0m\u001b[0;34m.\u001b[0m\u001b[0mtrainLoader\u001b[0m\u001b[0;34m)\u001b[0m\u001b[0;34m:\u001b[0m\u001b[0;34m\u001b[0m\u001b[0;34m\u001b[0m\u001b[0m\n\u001b[0m\u001b[1;32m    170\u001b[0m             \u001b[0mimages\u001b[0m\u001b[0;34m,\u001b[0m \u001b[0mlabels\u001b[0m \u001b[0;34m=\u001b[0m \u001b[0mimages\u001b[0m\u001b[0;34m.\u001b[0m\u001b[0mto\u001b[0m\u001b[0;34m(\u001b[0m\u001b[0mDEVICE\u001b[0m\u001b[0;34m)\u001b[0m\u001b[0;34m,\u001b[0m \u001b[0mlabels\u001b[0m\u001b[0;34m.\u001b[0m\u001b[0mto\u001b[0m\u001b[0;34m(\u001b[0m\u001b[0mDEVICE\u001b[0m\u001b[0;34m)\u001b[0m\u001b[0;34m\u001b[0m\u001b[0;34m\u001b[0m\u001b[0m\n\u001b[1;32m    171\u001b[0m \u001b[0;34m\u001b[0m\u001b[0m\n",
            "\u001b[0;32m/usr/local/lib/python3.10/dist-packages/torch/utils/data/dataloader.py\u001b[0m in \u001b[0;36m__next__\u001b[0;34m(self)\u001b[0m\n\u001b[1;32m    699\u001b[0m                 \u001b[0;31m# TODO(https://github.com/pytorch/pytorch/issues/76750)\u001b[0m\u001b[0;34m\u001b[0m\u001b[0;34m\u001b[0m\u001b[0m\n\u001b[1;32m    700\u001b[0m                 \u001b[0mself\u001b[0m\u001b[0;34m.\u001b[0m\u001b[0m_reset\u001b[0m\u001b[0;34m(\u001b[0m\u001b[0;34m)\u001b[0m  \u001b[0;31m# type: ignore[call-arg]\u001b[0m\u001b[0;34m\u001b[0m\u001b[0;34m\u001b[0m\u001b[0m\n\u001b[0;32m--> 701\u001b[0;31m             \u001b[0mdata\u001b[0m \u001b[0;34m=\u001b[0m \u001b[0mself\u001b[0m\u001b[0;34m.\u001b[0m\u001b[0m_next_data\u001b[0m\u001b[0;34m(\u001b[0m\u001b[0;34m)\u001b[0m\u001b[0;34m\u001b[0m\u001b[0;34m\u001b[0m\u001b[0m\n\u001b[0m\u001b[1;32m    702\u001b[0m             \u001b[0mself\u001b[0m\u001b[0;34m.\u001b[0m\u001b[0m_num_yielded\u001b[0m \u001b[0;34m+=\u001b[0m \u001b[0;36m1\u001b[0m\u001b[0;34m\u001b[0m\u001b[0;34m\u001b[0m\u001b[0m\n\u001b[1;32m    703\u001b[0m             if (\n",
            "\u001b[0;32m/usr/local/lib/python3.10/dist-packages/torch/utils/data/dataloader.py\u001b[0m in \u001b[0;36m_next_data\u001b[0;34m(self)\u001b[0m\n\u001b[1;32m    755\u001b[0m     \u001b[0;32mdef\u001b[0m \u001b[0m_next_data\u001b[0m\u001b[0;34m(\u001b[0m\u001b[0mself\u001b[0m\u001b[0;34m)\u001b[0m\u001b[0;34m:\u001b[0m\u001b[0;34m\u001b[0m\u001b[0;34m\u001b[0m\u001b[0m\n\u001b[1;32m    756\u001b[0m         \u001b[0mindex\u001b[0m \u001b[0;34m=\u001b[0m \u001b[0mself\u001b[0m\u001b[0;34m.\u001b[0m\u001b[0m_next_index\u001b[0m\u001b[0;34m(\u001b[0m\u001b[0;34m)\u001b[0m  \u001b[0;31m# may raise StopIteration\u001b[0m\u001b[0;34m\u001b[0m\u001b[0;34m\u001b[0m\u001b[0m\n\u001b[0;32m--> 757\u001b[0;31m         \u001b[0mdata\u001b[0m \u001b[0;34m=\u001b[0m \u001b[0mself\u001b[0m\u001b[0;34m.\u001b[0m\u001b[0m_dataset_fetcher\u001b[0m\u001b[0;34m.\u001b[0m\u001b[0mfetch\u001b[0m\u001b[0;34m(\u001b[0m\u001b[0mindex\u001b[0m\u001b[0;34m)\u001b[0m  \u001b[0;31m# may raise StopIteration\u001b[0m\u001b[0;34m\u001b[0m\u001b[0;34m\u001b[0m\u001b[0m\n\u001b[0m\u001b[1;32m    758\u001b[0m         \u001b[0;32mif\u001b[0m \u001b[0mself\u001b[0m\u001b[0;34m.\u001b[0m\u001b[0m_pin_memory\u001b[0m\u001b[0;34m:\u001b[0m\u001b[0;34m\u001b[0m\u001b[0;34m\u001b[0m\u001b[0m\n\u001b[1;32m    759\u001b[0m             \u001b[0mdata\u001b[0m \u001b[0;34m=\u001b[0m \u001b[0m_utils\u001b[0m\u001b[0;34m.\u001b[0m\u001b[0mpin_memory\u001b[0m\u001b[0;34m.\u001b[0m\u001b[0mpin_memory\u001b[0m\u001b[0;34m(\u001b[0m\u001b[0mdata\u001b[0m\u001b[0;34m,\u001b[0m \u001b[0mself\u001b[0m\u001b[0;34m.\u001b[0m\u001b[0m_pin_memory_device\u001b[0m\u001b[0;34m)\u001b[0m\u001b[0;34m\u001b[0m\u001b[0;34m\u001b[0m\u001b[0m\n",
            "\u001b[0;32m/usr/local/lib/python3.10/dist-packages/torch/utils/data/_utils/fetch.py\u001b[0m in \u001b[0;36mfetch\u001b[0;34m(self, possibly_batched_index)\u001b[0m\n\u001b[1;32m     50\u001b[0m                 \u001b[0mdata\u001b[0m \u001b[0;34m=\u001b[0m \u001b[0mself\u001b[0m\u001b[0;34m.\u001b[0m\u001b[0mdataset\u001b[0m\u001b[0;34m.\u001b[0m\u001b[0m__getitems__\u001b[0m\u001b[0;34m(\u001b[0m\u001b[0mpossibly_batched_index\u001b[0m\u001b[0;34m)\u001b[0m\u001b[0;34m\u001b[0m\u001b[0;34m\u001b[0m\u001b[0m\n\u001b[1;32m     51\u001b[0m             \u001b[0;32melse\u001b[0m\u001b[0;34m:\u001b[0m\u001b[0;34m\u001b[0m\u001b[0;34m\u001b[0m\u001b[0m\n\u001b[0;32m---> 52\u001b[0;31m                 \u001b[0mdata\u001b[0m \u001b[0;34m=\u001b[0m \u001b[0;34m[\u001b[0m\u001b[0mself\u001b[0m\u001b[0;34m.\u001b[0m\u001b[0mdataset\u001b[0m\u001b[0;34m[\u001b[0m\u001b[0midx\u001b[0m\u001b[0;34m]\u001b[0m \u001b[0;32mfor\u001b[0m \u001b[0midx\u001b[0m \u001b[0;32min\u001b[0m \u001b[0mpossibly_batched_index\u001b[0m\u001b[0;34m]\u001b[0m\u001b[0;34m\u001b[0m\u001b[0;34m\u001b[0m\u001b[0m\n\u001b[0m\u001b[1;32m     53\u001b[0m         \u001b[0;32melse\u001b[0m\u001b[0;34m:\u001b[0m\u001b[0;34m\u001b[0m\u001b[0;34m\u001b[0m\u001b[0m\n\u001b[1;32m     54\u001b[0m             \u001b[0mdata\u001b[0m \u001b[0;34m=\u001b[0m \u001b[0mself\u001b[0m\u001b[0;34m.\u001b[0m\u001b[0mdataset\u001b[0m\u001b[0;34m[\u001b[0m\u001b[0mpossibly_batched_index\u001b[0m\u001b[0;34m]\u001b[0m\u001b[0;34m\u001b[0m\u001b[0;34m\u001b[0m\u001b[0m\n",
            "\u001b[0;32m/usr/local/lib/python3.10/dist-packages/torch/utils/data/_utils/fetch.py\u001b[0m in \u001b[0;36m<listcomp>\u001b[0;34m(.0)\u001b[0m\n\u001b[1;32m     50\u001b[0m                 \u001b[0mdata\u001b[0m \u001b[0;34m=\u001b[0m \u001b[0mself\u001b[0m\u001b[0;34m.\u001b[0m\u001b[0mdataset\u001b[0m\u001b[0;34m.\u001b[0m\u001b[0m__getitems__\u001b[0m\u001b[0;34m(\u001b[0m\u001b[0mpossibly_batched_index\u001b[0m\u001b[0;34m)\u001b[0m\u001b[0;34m\u001b[0m\u001b[0;34m\u001b[0m\u001b[0m\n\u001b[1;32m     51\u001b[0m             \u001b[0;32melse\u001b[0m\u001b[0;34m:\u001b[0m\u001b[0;34m\u001b[0m\u001b[0;34m\u001b[0m\u001b[0m\n\u001b[0;32m---> 52\u001b[0;31m                 \u001b[0mdata\u001b[0m \u001b[0;34m=\u001b[0m \u001b[0;34m[\u001b[0m\u001b[0mself\u001b[0m\u001b[0;34m.\u001b[0m\u001b[0mdataset\u001b[0m\u001b[0;34m[\u001b[0m\u001b[0midx\u001b[0m\u001b[0;34m]\u001b[0m \u001b[0;32mfor\u001b[0m \u001b[0midx\u001b[0m \u001b[0;32min\u001b[0m \u001b[0mpossibly_batched_index\u001b[0m\u001b[0;34m]\u001b[0m\u001b[0;34m\u001b[0m\u001b[0;34m\u001b[0m\u001b[0m\n\u001b[0m\u001b[1;32m     53\u001b[0m         \u001b[0;32melse\u001b[0m\u001b[0;34m:\u001b[0m\u001b[0;34m\u001b[0m\u001b[0;34m\u001b[0m\u001b[0m\n\u001b[1;32m     54\u001b[0m             \u001b[0mdata\u001b[0m \u001b[0;34m=\u001b[0m \u001b[0mself\u001b[0m\u001b[0;34m.\u001b[0m\u001b[0mdataset\u001b[0m\u001b[0;34m[\u001b[0m\u001b[0mpossibly_batched_index\u001b[0m\u001b[0;34m]\u001b[0m\u001b[0;34m\u001b[0m\u001b[0;34m\u001b[0m\u001b[0m\n",
            "\u001b[0;32m/usr/local/lib/python3.10/dist-packages/torch/utils/data/dataset.py\u001b[0m in \u001b[0;36m__getitem__\u001b[0;34m(self, idx)\u001b[0m\n\u001b[1;32m    348\u001b[0m         \u001b[0;32melse\u001b[0m\u001b[0;34m:\u001b[0m\u001b[0;34m\u001b[0m\u001b[0;34m\u001b[0m\u001b[0m\n\u001b[1;32m    349\u001b[0m             \u001b[0msample_idx\u001b[0m \u001b[0;34m=\u001b[0m \u001b[0midx\u001b[0m \u001b[0;34m-\u001b[0m \u001b[0mself\u001b[0m\u001b[0;34m.\u001b[0m\u001b[0mcumulative_sizes\u001b[0m\u001b[0;34m[\u001b[0m\u001b[0mdataset_idx\u001b[0m \u001b[0;34m-\u001b[0m \u001b[0;36m1\u001b[0m\u001b[0;34m]\u001b[0m\u001b[0;34m\u001b[0m\u001b[0;34m\u001b[0m\u001b[0m\n\u001b[0;32m--> 350\u001b[0;31m         \u001b[0;32mreturn\u001b[0m \u001b[0mself\u001b[0m\u001b[0;34m.\u001b[0m\u001b[0mdatasets\u001b[0m\u001b[0;34m[\u001b[0m\u001b[0mdataset_idx\u001b[0m\u001b[0;34m]\u001b[0m\u001b[0;34m[\u001b[0m\u001b[0msample_idx\u001b[0m\u001b[0;34m]\u001b[0m\u001b[0;34m\u001b[0m\u001b[0;34m\u001b[0m\u001b[0m\n\u001b[0m\u001b[1;32m    351\u001b[0m \u001b[0;34m\u001b[0m\u001b[0m\n\u001b[1;32m    352\u001b[0m     \u001b[0;34m@\u001b[0m\u001b[0mproperty\u001b[0m\u001b[0;34m\u001b[0m\u001b[0;34m\u001b[0m\u001b[0m\n",
            "\u001b[0;32m<ipython-input-6-289fdde5ff9e>\u001b[0m in \u001b[0;36m__getitem__\u001b[0;34m(self, idx)\u001b[0m\n\u001b[1;32m     50\u001b[0m         \u001b[0;32mif\u001b[0m \u001b[0mself\u001b[0m\u001b[0;34m.\u001b[0m\u001b[0muse_SRM_IL\u001b[0m\u001b[0;34m:\u001b[0m\u001b[0;34m\u001b[0m\u001b[0;34m\u001b[0m\u001b[0m\n\u001b[1;32m     51\u001b[0m           \u001b[0mimage\u001b[0m \u001b[0;34m=\u001b[0m \u001b[0mnp\u001b[0m\u001b[0;34m.\u001b[0m\u001b[0marray\u001b[0m\u001b[0;34m(\u001b[0m\u001b[0mimage\u001b[0m\u001b[0;34m)\u001b[0m\u001b[0;34m\u001b[0m\u001b[0;34m\u001b[0m\u001b[0m\n\u001b[0;32m---> 52\u001b[0;31m           \u001b[0mimage\u001b[0m \u001b[0;34m=\u001b[0m \u001b[0mself\u001b[0m\u001b[0;34m.\u001b[0m\u001b[0mSRM_IL\u001b[0m\u001b[0;34m.\u001b[0m\u001b[0mapply_perturbation\u001b[0m\u001b[0;34m(\u001b[0m\u001b[0mimage\u001b[0m\u001b[0;34m.\u001b[0m\u001b[0mcopy\u001b[0m\u001b[0;34m(\u001b[0m\u001b[0;34m)\u001b[0m\u001b[0;34m)\u001b[0m\u001b[0;34m\u001b[0m\u001b[0;34m\u001b[0m\u001b[0m\n\u001b[0m\u001b[1;32m     53\u001b[0m           \u001b[0mimage\u001b[0m \u001b[0;34m=\u001b[0m \u001b[0mImage\u001b[0m\u001b[0;34m.\u001b[0m\u001b[0mfromarray\u001b[0m\u001b[0;34m(\u001b[0m\u001b[0mimage\u001b[0m\u001b[0;34m.\u001b[0m\u001b[0mastype\u001b[0m\u001b[0;34m(\u001b[0m\u001b[0;34m'uint8'\u001b[0m\u001b[0;34m)\u001b[0m\u001b[0;34m)\u001b[0m\u001b[0;34m\u001b[0m\u001b[0;34m\u001b[0m\u001b[0m\n\u001b[1;32m     54\u001b[0m           \u001b[0;32mif\u001b[0m \u001b[0mself\u001b[0m\u001b[0;34m.\u001b[0m\u001b[0mprint_img\u001b[0m\u001b[0;34m:\u001b[0m\u001b[0;34m\u001b[0m\u001b[0;34m\u001b[0m\u001b[0m\n",
            "\u001b[0;32m<ipython-input-5-e9b386e3d192>\u001b[0m in \u001b[0;36mapply_perturbation\u001b[0;34m(self, image)\u001b[0m\n\u001b[1;32m      9\u001b[0m         \u001b[0ms2\u001b[0m \u001b[0;34m=\u001b[0m \u001b[0mnp\u001b[0m\u001b[0;34m.\u001b[0m\u001b[0mrandom\u001b[0m\u001b[0;34m.\u001b[0m\u001b[0muniform\u001b[0m\u001b[0;34m(\u001b[0m\u001b[0mlow\u001b[0m\u001b[0;34m=\u001b[0m\u001b[0mself\u001b[0m\u001b[0;34m.\u001b[0m\u001b[0mmin_value\u001b[0m\u001b[0;34m,\u001b[0m \u001b[0mhigh\u001b[0m\u001b[0;34m=\u001b[0m\u001b[0mself\u001b[0m\u001b[0;34m.\u001b[0m\u001b[0mmax_value\u001b[0m\u001b[0;34m,\u001b[0m \u001b[0msize\u001b[0m\u001b[0;34m=\u001b[0m\u001b[0;34m(\u001b[0m\u001b[0;36m1\u001b[0m\u001b[0;34m,\u001b[0m\u001b[0;36m1\u001b[0m\u001b[0;34m,\u001b[0m\u001b[0;36m1\u001b[0m\u001b[0;34m)\u001b[0m\u001b[0;34m)\u001b[0m\u001b[0;34m.\u001b[0m\u001b[0mrepeat\u001b[0m\u001b[0;34m(\u001b[0m\u001b[0;36m3\u001b[0m\u001b[0;34m,\u001b[0m \u001b[0maxis\u001b[0m\u001b[0;34m=\u001b[0m\u001b[0;36m2\u001b[0m\u001b[0;34m)\u001b[0m\u001b[0;34m\u001b[0m\u001b[0;34m\u001b[0m\u001b[0m\n\u001b[1;32m     10\u001b[0m         \u001b[0mm1\u001b[0m \u001b[0;34m=\u001b[0m \u001b[0mnp\u001b[0m\u001b[0;34m.\u001b[0m\u001b[0mmean\u001b[0m\u001b[0;34m(\u001b[0m\u001b[0mimage\u001b[0m\u001b[0;34m,\u001b[0m \u001b[0maxis\u001b[0m\u001b[0;34m=\u001b[0m\u001b[0;34m(\u001b[0m\u001b[0;36m0\u001b[0m\u001b[0;34m,\u001b[0m\u001b[0;36m1\u001b[0m\u001b[0;34m)\u001b[0m\u001b[0;34m,\u001b[0m \u001b[0mkeepdims\u001b[0m\u001b[0;34m=\u001b[0m\u001b[0;32mTrue\u001b[0m\u001b[0;34m)\u001b[0m\u001b[0;34m\u001b[0m\u001b[0;34m\u001b[0m\u001b[0m\n\u001b[0;32m---> 11\u001b[0;31m         \u001b[0mv1\u001b[0m \u001b[0;34m=\u001b[0m \u001b[0mnp\u001b[0m\u001b[0;34m.\u001b[0m\u001b[0mvar\u001b[0m\u001b[0;34m(\u001b[0m\u001b[0mimage\u001b[0m\u001b[0;34m,\u001b[0m \u001b[0maxis\u001b[0m\u001b[0;34m=\u001b[0m\u001b[0;34m(\u001b[0m\u001b[0;36m0\u001b[0m\u001b[0;34m,\u001b[0m\u001b[0;36m1\u001b[0m\u001b[0;34m)\u001b[0m\u001b[0;34m,\u001b[0m \u001b[0mkeepdims\u001b[0m\u001b[0;34m=\u001b[0m\u001b[0;32mTrue\u001b[0m\u001b[0;34m)\u001b[0m\u001b[0;34m\u001b[0m\u001b[0;34m\u001b[0m\u001b[0m\n\u001b[0m\u001b[1;32m     12\u001b[0m         \u001b[0ms1\u001b[0m \u001b[0;34m=\u001b[0m \u001b[0mnp\u001b[0m\u001b[0;34m.\u001b[0m\u001b[0msqrt\u001b[0m\u001b[0;34m(\u001b[0m\u001b[0mv1\u001b[0m\u001b[0;34m)\u001b[0m\u001b[0;34m\u001b[0m\u001b[0;34m\u001b[0m\u001b[0m\n\u001b[1;32m     13\u001b[0m         \u001b[0mimage\u001b[0m \u001b[0;34m=\u001b[0m \u001b[0;34m(\u001b[0m\u001b[0mimage\u001b[0m \u001b[0;34m-\u001b[0m \u001b[0mm1\u001b[0m\u001b[0;34m)\u001b[0m \u001b[0;34m/\u001b[0m \u001b[0ms1\u001b[0m\u001b[0;34m\u001b[0m\u001b[0;34m\u001b[0m\u001b[0m\n",
            "\u001b[0;32m/usr/local/lib/python3.10/dist-packages/numpy/core/fromnumeric.py\u001b[0m in \u001b[0;36mvar\u001b[0;34m(a, axis, dtype, out, ddof, keepdims, where)\u001b[0m\n\u001b[1;32m   3785\u001b[0m             \u001b[0;32mreturn\u001b[0m \u001b[0mvar\u001b[0m\u001b[0;34m(\u001b[0m\u001b[0maxis\u001b[0m\u001b[0;34m=\u001b[0m\u001b[0maxis\u001b[0m\u001b[0;34m,\u001b[0m \u001b[0mdtype\u001b[0m\u001b[0;34m=\u001b[0m\u001b[0mdtype\u001b[0m\u001b[0;34m,\u001b[0m \u001b[0mout\u001b[0m\u001b[0;34m=\u001b[0m\u001b[0mout\u001b[0m\u001b[0;34m,\u001b[0m \u001b[0mddof\u001b[0m\u001b[0;34m=\u001b[0m\u001b[0mddof\u001b[0m\u001b[0;34m,\u001b[0m \u001b[0;34m**\u001b[0m\u001b[0mkwargs\u001b[0m\u001b[0;34m)\u001b[0m\u001b[0;34m\u001b[0m\u001b[0;34m\u001b[0m\u001b[0m\n\u001b[1;32m   3786\u001b[0m \u001b[0;34m\u001b[0m\u001b[0m\n\u001b[0;32m-> 3787\u001b[0;31m     return _methods._var(a, axis=axis, dtype=dtype, out=out, ddof=ddof,\n\u001b[0m\u001b[1;32m   3788\u001b[0m                          **kwargs)\n\u001b[1;32m   3789\u001b[0m \u001b[0;34m\u001b[0m\u001b[0m\n",
            "\u001b[0;32m/usr/local/lib/python3.10/dist-packages/numpy/core/_methods.py\u001b[0m in \u001b[0;36m_var\u001b[0;34m(a, axis, dtype, out, ddof, keepdims, where)\u001b[0m\n\u001b[1;32m    185\u001b[0m         \u001b[0mx\u001b[0m \u001b[0;34m=\u001b[0m \u001b[0mum\u001b[0m\u001b[0;34m.\u001b[0m\u001b[0mmultiply\u001b[0m\u001b[0;34m(\u001b[0m\u001b[0mx\u001b[0m\u001b[0;34m,\u001b[0m \u001b[0mum\u001b[0m\u001b[0;34m.\u001b[0m\u001b[0mconjugate\u001b[0m\u001b[0;34m(\u001b[0m\u001b[0mx\u001b[0m\u001b[0;34m)\u001b[0m\u001b[0;34m,\u001b[0m \u001b[0mout\u001b[0m\u001b[0;34m=\u001b[0m\u001b[0mx\u001b[0m\u001b[0;34m)\u001b[0m\u001b[0;34m.\u001b[0m\u001b[0mreal\u001b[0m\u001b[0;34m\u001b[0m\u001b[0;34m\u001b[0m\u001b[0m\n\u001b[1;32m    186\u001b[0m \u001b[0;34m\u001b[0m\u001b[0m\n\u001b[0;32m--> 187\u001b[0;31m     \u001b[0mret\u001b[0m \u001b[0;34m=\u001b[0m \u001b[0mumr_sum\u001b[0m\u001b[0;34m(\u001b[0m\u001b[0mx\u001b[0m\u001b[0;34m,\u001b[0m \u001b[0maxis\u001b[0m\u001b[0;34m,\u001b[0m \u001b[0mdtype\u001b[0m\u001b[0;34m,\u001b[0m \u001b[0mout\u001b[0m\u001b[0;34m,\u001b[0m \u001b[0mkeepdims\u001b[0m\u001b[0;34m=\u001b[0m\u001b[0mkeepdims\u001b[0m\u001b[0;34m,\u001b[0m \u001b[0mwhere\u001b[0m\u001b[0;34m=\u001b[0m\u001b[0mwhere\u001b[0m\u001b[0;34m)\u001b[0m\u001b[0;34m\u001b[0m\u001b[0;34m\u001b[0m\u001b[0m\n\u001b[0m\u001b[1;32m    188\u001b[0m \u001b[0;34m\u001b[0m\u001b[0m\n\u001b[1;32m    189\u001b[0m     \u001b[0;31m# Compute degrees of freedom and make sure it is not negative.\u001b[0m\u001b[0;34m\u001b[0m\u001b[0;34m\u001b[0m\u001b[0m\n",
            "\u001b[0;31mKeyboardInterrupt\u001b[0m: "
          ]
        }
      ]
    },
    {
      "cell_type": "code",
      "execution_count": null,
      "metadata": {
        "id": "U6gp2xvoAtif"
      },
      "outputs": [],
      "source": [
        "train_cont_losses, train_style_losses, train_losses, train_accuracies, val_losses, val_accuracies = metrics"
      ]
    },
    {
      "cell_type": "code",
      "execution_count": null,
      "metadata": {
        "colab": {
          "base_uri": "https://localhost:8080/",
          "height": 430
        },
        "id": "kNycNGcvl5z5",
        "outputId": "b236af61-9761-4a33-c4d0-4496c3a957da"
      },
      "outputs": [
        {
          "output_type": "display_data",
          "data": {
            "text/plain": [
              "<Figure size 640x480 with 1 Axes>"
            ],
            "image/png": "[encoded data removed]"
          },
          "metadata": {}
        }
      ],
      "source": [
        "plt.plot(train_losses, label=\"train loss\")\n",
        "plt.plot(val_losses, label=\"val loss\")\n",
        "plt.legend()\n",
        "plt.show()"
      ]
    },
    {
      "cell_type": "code",
      "execution_count": null,
      "metadata": {
        "colab": {
          "base_uri": "https://localhost:8080/",
          "height": 430
        },
        "id": "vuNu-YS_l8oD",
        "outputId": "07cf14d7-7b1a-459e-d246-15831615ab66"
      },
      "outputs": [
        {
          "output_type": "display_data",
          "data": {
            "text/plain": [
              "<Figure size 640x480 with 1 Axes>"
            ],
            "image/png": "[encoded data removed]"
          },
          "metadata": {}
        }
      ],
      "source": [
        "plt.plot(train_accuracies, label=\"train accuracy\")\n",
        "plt.plot(val_accuracies, label=\"val accuracy\")\n",
        "plt.legend()\n",
        "plt.show()"
      ]
    },
    {
      "cell_type": "code",
      "source": [
        "plt.plot(train_cont_losses, label=\"train content loss\")\n",
        "plt.legend()\n",
        "plt.show()"
      ],
      "metadata": {
        "colab": {
          "base_uri": "https://localhost:8080/",
          "height": 430
        },
        "id": "yV5OYE5TA_bJ",
        "outputId": "37915589-5751-484b-b0db-08e9dcb670e5"
      },
      "execution_count": null,
      "outputs": [
        {
          "output_type": "display_data",
          "data": {
            "text/plain": [
              "<Figure size 640x480 with 1 Axes>"
            ],
            "image/png": "[encoded data removed]"
          },
          "metadata": {}
        }
      ]
    },
    {
      "cell_type": "code",
      "source": [
        "plt.plot(train_style_losses, label=\"train style loss\")\n",
        "plt.legend()\n",
        "plt.show()"
      ],
      "metadata": {
        "colab": {
          "base_uri": "https://localhost:8080/",
          "height": 430
        },
        "id": "Oo7L8YqlBE1q",
        "outputId": "b54eb3d9-5fc8-4908-a9f7-12aa3f3a8e0c"
      },
      "execution_count": null,
      "outputs": [
        {
          "output_type": "display_data",
          "data": {
            "text/plain": [
              "<Figure size 640x480 with 1 Axes>"
            ],
            "image/png": "[encoded data removed]"
          },
          "metadata": {}
        }
      ]
    },
    {
      "cell_type": "code",
      "execution_count": null,
      "metadata": {
        "id": "L7F-Nwp8mD-s"
      },
      "outputs": [],
      "source": [
        "# Save model checkpoint\n",
        "torch.save({\n",
        "   'model_state_dict': model.state_dict(),\n",
        "}, \"srm_il_fl_final.pth\")"
      ]
    },
    {
      "cell_type": "markdown",
      "source": [
        "## Train for longer if needed"
      ],
      "metadata": {
        "id": "zPMZr0fI_Fw5"
      }
    },
    {
      "cell_type": "code",
      "source": [
        "model = AlexNet_SRMFL(num_classes=3, init_srm_fl=True, randomization_stage='S1')\n",
        "\n",
        "trainer_args2 = {\n",
        "                'model': model,\n",
        "                'Loaders': [train_loader, val_loader],\n",
        "                'lr': 0.0001,\n",
        "                'epochsTorun': 15,\n",
        "                'do_grad_accum': True,\n",
        "                'grad_accum_step': 4,\n",
        "                'use_ema': False,\n",
        "                'eta': 0.5,\n",
        "                'use_SRM_FL': True\n",
        "                }\n",
        "\n",
        "current_checkpoint = \"checkpoint_epoch_10.pth\"\n",
        "\n",
        "trainer2 = ModelTrainer(**trainer_args2)\n",
        "metrics2 = trainer2.fit(resume_from_checkpoint=current_checkpoint)"
      ],
      "metadata": {
        "colab": {
          "base_uri": "https://localhost:8080/"
        },
        "id": "6w0PP-YQ-iUO",
        "outputId": "80803bb4-1c04-4af4-ed1f-c95fc9a78010"
      },
      "execution_count": null,
      "outputs": [
        {
          "output_type": "stream",
          "name": "stderr",
          "text": [
            "/usr/local/lib/python3.10/dist-packages/torchvision/models/_utils.py:208: UserWarning: The parameter 'pretrained' is deprecated since 0.13 and may be removed in the future, please use 'weights' instead.\n",
            "  warnings.warn(\n",
            "/usr/local/lib/python3.10/dist-packages/torchvision/models/_utils.py:223: UserWarning: Arguments other than a weight enum or `None` for 'weights' are deprecated since 0.13 and may be removed in the future. The current behavior is equivalent to passing `weights=AlexNet_Weights.IMAGENET1K_V1`. You can also use `weights=AlexNet_Weights.DEFAULT` to get the most up-to-date weights.\n",
            "  warnings.warn(msg)\n",
            "<ipython-input-94-90e43f2c8bc7>:24: FutureWarning: `torch.cuda.amp.GradScaler(args...)` is deprecated. Please use `torch.amp.GradScaler('cuda', args...)` instead.\n",
            "  self.scaler = torch.cuda.amp.GradScaler()\n",
            "<ipython-input-94-90e43f2c8bc7>:55: FutureWarning: You are using `torch.load` with `weights_only=False` (the current default value), which uses the default pickle module implicitly. It is possible to construct malicious pickle data which will execute arbitrary code during unpickling (See https://github.com/pytorch/pytorch/blob/main/SECURITY.md#untrusted-models for more details). In a future release, the default value for `weights_only` will be flipped to `True`. This limits the functions that could be executed during unpickling. Arbitrary objects will no longer be allowed to be loaded via this mode unless they are explicitly allowlisted by the user via `torch.serialization.add_safe_globals`. We recommend you start setting `weights_only=True` for any use case where you don't have full control of the loaded file. Please open an issue on GitHub for any issues related to this experimental feature.\n",
            "  checkpoint = torch.load(checkpoint_path)\n"
          ]
        },
        {
          "output_type": "stream",
          "name": "stdout",
          "text": [
            "Resuming training from epoc\n",
            "Resuming training from epoch 10\n",
            "(Train Style Net) Epoch 11/15\n"
          ]
        },
        {
          "output_type": "stream",
          "name": "stderr",
          "text": [
            "<ipython-input-94-90e43f2c8bc7>:118: FutureWarning: `torch.cuda.amp.autocast(args...)` is deprecated. Please use `torch.amp.autocast('cuda', args...)` instead.\n",
            "  with torch.cuda.amp.autocast():\n"
          ]
        },
        {
          "output_type": "stream",
          "name": "stdout",
          "text": [
            "    Iter 99/258 | Train Content Loss: 22.714313507080078, Train Style Loss: 0.02918398380279541\n",
            "    Iter 199/258 | Train Content Loss: 18.116287231445312, Train Style Loss: 0.02785784751176834\n",
            "  Train Content Loss: 19.23417198195938, Train Style Loss: 0.026426259341628053\n",
            "(Train Classifier) Epoch 11/15\n"
          ]
        },
        {
          "output_type": "stream",
          "name": "stderr",
          "text": [
            "<ipython-input-94-90e43f2c8bc7>:172: FutureWarning: `torch.cuda.amp.autocast(args...)` is deprecated. Please use `torch.amp.autocast('cuda', args...)` instead.\n",
            "  with torch.cuda.amp.autocast():\n"
          ]
        },
        {
          "output_type": "stream",
          "name": "stdout",
          "text": [
            "    Iter 0/258 | Train Loss: 0.1022641584277153\n",
            "    Iter 100/258 | Train Loss: 0.25941556692123413\n",
            "    Iter 200/258 | Train Loss: 0.3314688801765442\n",
            "(Val) Epoch 11/15\n",
            "  Train Loss: 0.2742747907606206, Train Acc: 0.8865454545454545, Val Loss: 0.37252242496756255, Val Acc: 0.831881086622245\n",
            "Checkpoint saved for epoch 15\n",
            "(Train Style Net) Epoch 12/15\n",
            "    Iter 99/258 | Train Content Loss: 16.283935546875, Train Style Loss: 0.02592281810939312\n",
            "    Iter 199/258 | Train Content Loss: 21.118467330932617, Train Style Loss: 0.022475438192486763\n",
            "  Train Content Loss: 19.17226731130319, Train Style Loss: 0.026128400442038856\n",
            "(Train Classifier) Epoch 12/15\n",
            "    Iter 0/258 | Train Loss: 0.1909734606742859\n",
            "    Iter 100/258 | Train Loss: 0.1957225352525711\n",
            "    Iter 200/258 | Train Loss: 0.1477925330400467\n",
            "(Val) Epoch 12/15\n",
            "  Train Loss: 0.2736048117251128, Train Acc: 0.8848484848484849, Val Loss: 0.4051332559253349, Val Acc: 0.8339313172731933\n",
            "Checkpoint saved for epoch 15\n",
            "(Train Style Net) Epoch 13/15\n",
            "    Iter 99/258 | Train Content Loss: 21.375383377075195, Train Style Loss: 0.029974477365612984\n",
            "    Iter 199/258 | Train Content Loss: 19.263084411621094, Train Style Loss: 0.02665696293115616\n",
            "  Train Content Loss: 19.748838583628338, Train Style Loss: 0.02596634266132763\n",
            "(Train Classifier) Epoch 13/15\n",
            "    Iter 0/258 | Train Loss: 0.2211012840270996\n",
            "    Iter 100/258 | Train Loss: 0.23286974430084229\n",
            "    Iter 200/258 | Train Loss: 0.2156670242547989\n",
            "(Val) Epoch 13/15\n",
            "  Train Loss: 0.2652944657489542, Train Acc: 0.8873939393939394, Val Loss: 0.29468478457849534, Val Acc: 0.8795489492567914\n",
            "Checkpoint saved for epoch 15\n",
            "(Train Style Net) Epoch 14/15\n",
            "    Iter 99/258 | Train Content Loss: 22.017276763916016, Train Style Loss: 0.032182399183511734\n",
            "    Iter 199/258 | Train Content Loss: 20.331588745117188, Train Style Loss: 0.022062810137867928\n",
            "  Train Content Loss: 19.892201697179512, Train Style Loss: 0.026352865982425304\n",
            "(Train Classifier) Epoch 14/15\n",
            "    Iter 0/258 | Train Loss: 0.14035941660404205\n",
            "    Iter 100/258 | Train Loss: 0.41617658734321594\n",
            "    Iter 200/258 | Train Loss: 0.37475743889808655\n",
            "(Val) Epoch 14/15\n",
            "  Train Loss: 0.26400649755500083, Train Acc: 0.8906666666666667, Val Loss: 0.40036621201233785, Val Acc: 0.8206048180420298\n",
            "Checkpoint saved for epoch 15\n",
            "(Train Style Net) Epoch 15/15\n",
            "    Iter 99/258 | Train Content Loss: 16.384077072143555, Train Style Loss: 0.02448876202106476\n",
            "    Iter 199/258 | Train Content Loss: 21.483549118041992, Train Style Loss: 0.028703434392809868\n",
            "  Train Content Loss: 19.42811859485715, Train Style Loss: 0.02653392066442689\n",
            "(Train Classifier) Epoch 15/15\n",
            "    Iter 0/258 | Train Loss: 0.285086452960968\n",
            "    Iter 100/258 | Train Loss: 0.20290079712867737\n",
            "    Iter 200/258 | Train Loss: 0.3497507572174072\n",
            "(Val) Epoch 15/15\n",
            "  Train Loss: 0.2523607242448154, Train Acc: 0.8909090909090909, Val Loss: 0.38459241158161006, Val Acc: 0.8293182983085597\n",
            "Checkpoint saved for epoch 15\n"
          ]
        }
      ]
    },
    {
      "cell_type": "code",
      "source": [
        "train_cont_losses_2, train_style_losses_2, train_losses_2, train_accuracies_2, val_losses_2, val_accuracies_2 = metrics2"
      ],
      "metadata": {
        "id": "yaOa8ubzGhZo"
      },
      "execution_count": null,
      "outputs": []
    },
    {
      "cell_type": "code",
      "source": [
        "val_accuracies = [item for sublist in val_accuracies for item in (sublist if isinstance(sublist, list) else [sublist])]"
      ],
      "metadata": {
        "id": "_U0heldpGjYI"
      },
      "execution_count": null,
      "outputs": []
    },
    {
      "cell_type": "code",
      "source": [
        "train_cont_losses += train_cont_losses_2\n",
        "train_style_losses += train_style_losses_2\n",
        "train_losses += train_losses_2\n",
        "train_accuracies += train_accuracies_2\n",
        "val_losses += val_losses_2\n",
        "val_accuracies += val_accuracies_2"
      ],
      "metadata": {
        "colab": {
          "base_uri": "https://localhost:8080/",
          "height": 495
        },
        "id": "P5TT1RUz_4Uv",
        "outputId": "66c5a626-b040-4364-e60e-81881c597e24"
      },
      "execution_count": null,
      "outputs": [
        {
          "output_type": "error",
          "ename": "ValueError",
          "evalue": "setting an array element with a sequence. The requested array has an inhomogeneous shape after 1 dimensions. The detected shape was (11,) + inhomogeneous part.",
          "traceback": [
            "\u001b[0;31m---------------------------------------------------------------------------\u001b[0m",
            "\u001b[0;31mValueError\u001b[0m                                Traceback (most recent call last)",
            "\u001b[0;32m<ipython-input-108-a5fd4efa432d>\u001b[0m in \u001b[0;36m<cell line: 9>\u001b[0;34m()\u001b[0m\n\u001b[1;32m      7\u001b[0m \u001b[0mval_accuracies\u001b[0m\u001b[0;34m.\u001b[0m\u001b[0mappend\u001b[0m\u001b[0;34m(\u001b[0m\u001b[0mval_accuracies_2\u001b[0m\u001b[0;34m)\u001b[0m\u001b[0;34m\u001b[0m\u001b[0;34m\u001b[0m\u001b[0m\n\u001b[1;32m      8\u001b[0m \u001b[0;34m\u001b[0m\u001b[0m\n\u001b[0;32m----> 9\u001b[0;31m np.savez(\n\u001b[0m\u001b[1;32m     10\u001b[0m           \u001b[0;34m\"srm_il_fl_metrics.npz\"\u001b[0m\u001b[0;34m,\u001b[0m\u001b[0;34m\u001b[0m\u001b[0;34m\u001b[0m\u001b[0m\n\u001b[1;32m     11\u001b[0m           \u001b[0mtrain_cont_losses\u001b[0m\u001b[0;34m=\u001b[0m\u001b[0mtrain_cont_losses\u001b[0m\u001b[0;34m,\u001b[0m\u001b[0;34m\u001b[0m\u001b[0;34m\u001b[0m\u001b[0m\n",
            "\u001b[0;32m/usr/local/lib/python3.10/dist-packages/numpy/lib/npyio.py\u001b[0m in \u001b[0;36msavez\u001b[0;34m(file, *args, **kwds)\u001b[0m\n\u001b[1;32m    637\u001b[0m \u001b[0;34m\u001b[0m\u001b[0m\n\u001b[1;32m    638\u001b[0m     \"\"\"\n\u001b[0;32m--> 639\u001b[0;31m     \u001b[0m_savez\u001b[0m\u001b[0;34m(\u001b[0m\u001b[0mfile\u001b[0m\u001b[0;34m,\u001b[0m \u001b[0margs\u001b[0m\u001b[0;34m,\u001b[0m \u001b[0mkwds\u001b[0m\u001b[0;34m,\u001b[0m \u001b[0;32mFalse\u001b[0m\u001b[0;34m)\u001b[0m\u001b[0;34m\u001b[0m\u001b[0;34m\u001b[0m\u001b[0m\n\u001b[0m\u001b[1;32m    640\u001b[0m \u001b[0;34m\u001b[0m\u001b[0m\n\u001b[1;32m    641\u001b[0m \u001b[0;34m\u001b[0m\u001b[0m\n",
            "\u001b[0;32m/usr/local/lib/python3.10/dist-packages/numpy/lib/npyio.py\u001b[0m in \u001b[0;36m_savez\u001b[0;34m(file, args, kwds, compress, allow_pickle, pickle_kwargs)\u001b[0m\n\u001b[1;32m    738\u001b[0m     \u001b[0;32mfor\u001b[0m \u001b[0mkey\u001b[0m\u001b[0;34m,\u001b[0m \u001b[0mval\u001b[0m \u001b[0;32min\u001b[0m \u001b[0mnamedict\u001b[0m\u001b[0;34m.\u001b[0m\u001b[0mitems\u001b[0m\u001b[0;34m(\u001b[0m\u001b[0;34m)\u001b[0m\u001b[0;34m:\u001b[0m\u001b[0;34m\u001b[0m\u001b[0;34m\u001b[0m\u001b[0m\n\u001b[1;32m    739\u001b[0m         \u001b[0mfname\u001b[0m \u001b[0;34m=\u001b[0m \u001b[0mkey\u001b[0m \u001b[0;34m+\u001b[0m \u001b[0;34m'.npy'\u001b[0m\u001b[0;34m\u001b[0m\u001b[0;34m\u001b[0m\u001b[0m\n\u001b[0;32m--> 740\u001b[0;31m         \u001b[0mval\u001b[0m \u001b[0;34m=\u001b[0m \u001b[0mnp\u001b[0m\u001b[0;34m.\u001b[0m\u001b[0masanyarray\u001b[0m\u001b[0;34m(\u001b[0m\u001b[0mval\u001b[0m\u001b[0;34m)\u001b[0m\u001b[0;34m\u001b[0m\u001b[0;34m\u001b[0m\u001b[0m\n\u001b[0m\u001b[1;32m    741\u001b[0m         \u001b[0;31m# always force zip64, gh-10776\u001b[0m\u001b[0;34m\u001b[0m\u001b[0;34m\u001b[0m\u001b[0m\n\u001b[1;32m    742\u001b[0m         \u001b[0;32mwith\u001b[0m \u001b[0mzipf\u001b[0m\u001b[0;34m.\u001b[0m\u001b[0mopen\u001b[0m\u001b[0;34m(\u001b[0m\u001b[0mfname\u001b[0m\u001b[0;34m,\u001b[0m \u001b[0;34m'w'\u001b[0m\u001b[0;34m,\u001b[0m \u001b[0mforce_zip64\u001b[0m\u001b[0;34m=\u001b[0m\u001b[0;32mTrue\u001b[0m\u001b[0;34m)\u001b[0m \u001b[0;32mas\u001b[0m \u001b[0mfid\u001b[0m\u001b[0;34m:\u001b[0m\u001b[0;34m\u001b[0m\u001b[0;34m\u001b[0m\u001b[0m\n",
            "\u001b[0;31mValueError\u001b[0m: setting an array element with a sequence. The requested array has an inhomogeneous shape after 1 dimensions. The detected shape was (11,) + inhomogeneous part."
          ]
        }
      ]
    },
    {
      "cell_type": "code",
      "source": [
        "np.savez(\n",
        "          \"srm_il_fl_metrics.npz\",\n",
        "          train_cont_losses=train_cont_losses,\n",
        "          train_style_losses=train_style_losses,\n",
        "          train_losses=train_losses,\n",
        "          train_accs=train_accuracies,\n",
        "          val_losses=val_losses,\n",
        "          val_accs=val_accuracies,\n",
        "        )"
      ],
      "metadata": {
        "id": "CQ6QYxhbG6g5"
      },
      "execution_count": null,
      "outputs": []
    },
    {
      "cell_type": "code",
      "source": [
        "# Save model checkpoint\n",
        "torch.save({\n",
        "   'model_state_dict': model.state_dict(),\n",
        "}, \"srm_il_fl_final.pth\")"
      ],
      "metadata": {
        "id": "-uVXtkxbHTU5"
      },
      "execution_count": null,
      "outputs": []
    },
    {
      "cell_type": "code",
      "source": [
        "plt.plot(train_losses)\n",
        "plt.plot(val_losses)\n",
        "plt.show()"
      ],
      "metadata": {
        "colab": {
          "base_uri": "https://localhost:8080/",
          "height": 430
        },
        "id": "FVegUj4KAxg3",
        "outputId": "6c8c83ac-239a-40f4-f2f4-9f35e3286b01"
      },
      "execution_count": null,
      "outputs": [
        {
          "output_type": "display_data",
          "data": {
            "text/plain": [
              "<Figure size 640x480 with 1 Axes>"
            ],
            "image/png": "[encoded data removed]"
          },
          "metadata": {}
        }
      ]
    },
    {
      "cell_type": "code",
      "source": [
        "plt.plot(train_accuracies)\n",
        "plt.plot(val_accuracies)\n",
        "plt.show()"
      ],
      "metadata": {
        "colab": {
          "base_uri": "https://localhost:8080/",
          "height": 430
        },
        "id": "s9afg-5YAzDr",
        "outputId": "8b2756eb-fec4-4847-dafb-761fd479f610"
      },
      "execution_count": null,
      "outputs": [
        {
          "output_type": "display_data",
          "data": {
            "text/plain": [
              "<Figure size 640x480 with 1 Axes>"
            ],
            "image/png": "[encoded data removed]"
          },
          "metadata": {}
        }
      ]
    },
    {
      "cell_type": "code",
      "source": [
        "model = AlexNet_SRMFL(num_classes=3, init_srm_fl=True, randomization_stage='S1')\n",
        "\n",
        "trainer_args3 = {\n",
        "                'model': model,\n",
        "                'Loaders': [train_loader, val_loader],\n",
        "                'lr': 0.0001,\n",
        "                'epochsTorun': 20,\n",
        "                'do_grad_accum': True,\n",
        "                'grad_accum_step': 4,\n",
        "                'use_ema': False,\n",
        "                'eta': 0.5,\n",
        "                'use_SRM_FL': True\n",
        "                }\n",
        "\n",
        "current_checkpoint = \"checkpoint_epoch_15.pth\"\n",
        "\n",
        "trainer3 = ModelTrainer(**trainer_args3)\n",
        "metrics3 = trainer3.fit(resume_from_checkpoint=current_checkpoint)"
      ],
      "metadata": {
        "colab": {
          "base_uri": "https://localhost:8080/",
          "height": 983
        },
        "id": "VpeOGWZWIA0U",
        "outputId": "ef6f9abd-7fee-4a91-e21e-bb3a1a421256"
      },
      "execution_count": null,
      "outputs": [
        {
          "output_type": "stream",
          "name": "stderr",
          "text": [
            "/usr/local/lib/python3.10/dist-packages/torchvision/models/_utils.py:208: UserWarning: The parameter 'pretrained' is deprecated since 0.13 and may be removed in the future, please use 'weights' instead.\n",
            "  warnings.warn(\n",
            "/usr/local/lib/python3.10/dist-packages/torchvision/models/_utils.py:223: UserWarning: Arguments other than a weight enum or `None` for 'weights' are deprecated since 0.13 and may be removed in the future. The current behavior is equivalent to passing `weights=AlexNet_Weights.IMAGENET1K_V1`. You can also use `weights=AlexNet_Weights.DEFAULT` to get the most up-to-date weights.\n",
            "  warnings.warn(msg)\n",
            "<ipython-input-124-1c942fad1775>:24: FutureWarning: `torch.cuda.amp.GradScaler(args...)` is deprecated. Please use `torch.amp.GradScaler('cuda', args...)` instead.\n",
            "  self.scaler = torch.cuda.amp.GradScaler()\n",
            "<ipython-input-124-1c942fad1775>:55: FutureWarning: You are using `torch.load` with `weights_only=False` (the current default value), which uses the default pickle module implicitly. It is possible to construct malicious pickle data which will execute arbitrary code during unpickling (See https://github.com/pytorch/pytorch/blob/main/SECURITY.md#untrusted-models for more details). In a future release, the default value for `weights_only` will be flipped to `True`. This limits the functions that could be executed during unpickling. Arbitrary objects will no longer be allowed to be loaded via this mode unless they are explicitly allowlisted by the user via `torch.serialization.add_safe_globals`. We recommend you start setting `weights_only=True` for any use case where you don't have full control of the loaded file. Please open an issue on GitHub for any issues related to this experimental feature.\n",
            "  checkpoint = torch.load(checkpoint_path)\n"
          ]
        },
        {
          "output_type": "stream",
          "name": "stdout",
          "text": [
            "Resuming training from epoch\n",
            "Resuming training from epoch 15\n",
            "(Train Style Net) Epoch 16/20\n"
          ]
        },
        {
          "output_type": "stream",
          "name": "stderr",
          "text": [
            "<ipython-input-124-1c942fad1775>:118: FutureWarning: `torch.cuda.amp.autocast(args...)` is deprecated. Please use `torch.amp.autocast('cuda', args...)` instead.\n",
            "  with torch.cuda.amp.autocast():\n"
          ]
        },
        {
          "output_type": "stream",
          "name": "stdout",
          "text": [
            "    Iter 99/258 | Train Content Loss: 23.40091323852539, Train Style Loss: 0.02957317978143692\n",
            "    Iter 199/258 | Train Content Loss: 17.597476959228516, Train Style Loss: 0.022576717659831047\n",
            "  Train Content Loss: 19.71729317746421, Train Style Loss: 0.02624338444380104\n",
            "(Train Classifier) Epoch 16/20\n"
          ]
        },
        {
          "output_type": "stream",
          "name": "stderr",
          "text": [
            "<ipython-input-124-1c942fad1775>:172: FutureWarning: `torch.cuda.amp.autocast(args...)` is deprecated. Please use `torch.amp.autocast('cuda', args...)` instead.\n",
            "  with torch.cuda.amp.autocast():\n"
          ]
        },
        {
          "output_type": "stream",
          "name": "stdout",
          "text": [
            "    Iter 0/258 | Train Loss: 0.36234089732170105\n",
            "    Iter 100/258 | Train Loss: 0.1474699229001999\n",
            "    Iter 200/258 | Train Loss: 0.26640060544013977\n",
            "(Val) Epoch 16/20\n",
            "  Train Loss: 0.24545174637852712, Train Acc: 0.8946666666666667, Val Loss: 0.309124550858482, Val Acc: 0.8723731419784726\n",
            "Checkpoint saved for epoch 15\n",
            "(Train Style Net) Epoch 17/20\n",
            "    Iter 99/258 | Train Content Loss: 19.016399383544922, Train Style Loss: 0.029157469049096107\n",
            "    Iter 199/258 | Train Content Loss: 18.435659408569336, Train Style Loss: 0.026143202558159828\n",
            "  Train Content Loss: 19.501730297887047, Train Style Loss: 0.02647232918371988\n",
            "(Train Classifier) Epoch 17/20\n",
            "    Iter 0/258 | Train Loss: 0.25186944007873535\n",
            "    Iter 100/258 | Train Loss: 0.24214977025985718\n",
            "    Iter 200/258 | Train Loss: 0.23283898830413818\n",
            "(Val) Epoch 17/20\n",
            "  Train Loss: 0.2503491637925076, Train Acc: 0.8944242424242425, Val Loss: 0.3519831843307761, Val Acc: 0.8513582778062532\n",
            "Checkpoint saved for epoch 16\n",
            "(Train Style Net) Epoch 18/20\n"
          ]
        },
        {
          "output_type": "error",
          "ename": "KeyboardInterrupt",
          "evalue": "",
          "traceback": [
            "\u001b[0;31m---------------------------------------------------------------------------\u001b[0m",
            "\u001b[0;31mKeyboardInterrupt\u001b[0m                         Traceback (most recent call last)",
            "\u001b[0;32m<ipython-input-125-f31e9204822a>\u001b[0m in \u001b[0;36m<cell line: 18>\u001b[0;34m()\u001b[0m\n\u001b[1;32m     16\u001b[0m \u001b[0;34m\u001b[0m\u001b[0m\n\u001b[1;32m     17\u001b[0m \u001b[0mtrainer3\u001b[0m \u001b[0;34m=\u001b[0m \u001b[0mModelTrainer\u001b[0m\u001b[0;34m(\u001b[0m\u001b[0;34m**\u001b[0m\u001b[0mtrainer_args3\u001b[0m\u001b[0;34m)\u001b[0m\u001b[0;34m\u001b[0m\u001b[0;34m\u001b[0m\u001b[0m\n\u001b[0;32m---> 18\u001b[0;31m \u001b[0mmetrics3\u001b[0m \u001b[0;34m=\u001b[0m \u001b[0mtrainer3\u001b[0m\u001b[0;34m.\u001b[0m\u001b[0mfit\u001b[0m\u001b[0;34m(\u001b[0m\u001b[0mresume_from_checkpoint\u001b[0m\u001b[0;34m=\u001b[0m\u001b[0mcurrent_checkpoint\u001b[0m\u001b[0;34m)\u001b[0m\u001b[0;34m\u001b[0m\u001b[0;34m\u001b[0m\u001b[0m\n\u001b[0m",
            "\u001b[0;32m<ipython-input-124-1c942fad1775>\u001b[0m in \u001b[0;36mfit\u001b[0;34m(self, resume_from_checkpoint)\u001b[0m\n\u001b[1;32m    228\u001b[0m             \u001b[0mself\u001b[0m\u001b[0;34m.\u001b[0m\u001b[0mcurrent_epoch_no\u001b[0m \u001b[0;34m=\u001b[0m \u001b[0mepoch\u001b[0m\u001b[0;34m+\u001b[0m\u001b[0;36m1\u001b[0m\u001b[0;34m\u001b[0m\u001b[0;34m\u001b[0m\u001b[0m\n\u001b[1;32m    229\u001b[0m             \u001b[0;32mif\u001b[0m \u001b[0mself\u001b[0m\u001b[0;34m.\u001b[0m\u001b[0muse_SRM_FL\u001b[0m\u001b[0;34m:\u001b[0m\u001b[0;34m\u001b[0m\u001b[0;34m\u001b[0m\u001b[0m\n\u001b[0;32m--> 230\u001b[0;31m               \u001b[0mtrain_content_loss\u001b[0m\u001b[0;34m,\u001b[0m \u001b[0mtrain_style_loss\u001b[0m \u001b[0;34m=\u001b[0m \u001b[0mself\u001b[0m\u001b[0;34m.\u001b[0m\u001b[0mtrain_one_epoch_style_net\u001b[0m\u001b[0;34m(\u001b[0m\u001b[0;34m)\u001b[0m\u001b[0;34m\u001b[0m\u001b[0;34m\u001b[0m\u001b[0m\n\u001b[0m\u001b[1;32m    231\u001b[0m               \u001b[0mprint\u001b[0m\u001b[0;34m(\u001b[0m\u001b[0;34mf'  Train Content Loss: {train_content_loss}, Train Style Loss: {train_style_loss}'\u001b[0m\u001b[0;34m)\u001b[0m\u001b[0;34m\u001b[0m\u001b[0;34m\u001b[0m\u001b[0m\n\u001b[1;32m    232\u001b[0m             \u001b[0mtrain_loss\u001b[0m\u001b[0;34m,\u001b[0m \u001b[0mtrain_acc\u001b[0m \u001b[0;34m=\u001b[0m \u001b[0mself\u001b[0m\u001b[0;34m.\u001b[0m\u001b[0mtrain_one_epoch\u001b[0m\u001b[0;34m(\u001b[0m\u001b[0;34m)\u001b[0m\u001b[0;34m\u001b[0m\u001b[0;34m\u001b[0m\u001b[0m\n",
            "\u001b[0;32m<ipython-input-124-1c942fad1775>\u001b[0m in \u001b[0;36mtrain_one_epoch_style_net\u001b[0;34m(self)\u001b[0m\n\u001b[1;32m    113\u001b[0m         \u001b[0mrunning_style_loss\u001b[0m \u001b[0;34m=\u001b[0m \u001b[0;36m0.0\u001b[0m\u001b[0;34m\u001b[0m\u001b[0;34m\u001b[0m\u001b[0m\n\u001b[1;32m    114\u001b[0m \u001b[0;34m\u001b[0m\u001b[0m\n\u001b[0;32m--> 115\u001b[0;31m         \u001b[0;32mfor\u001b[0m \u001b[0mitera_no\u001b[0m\u001b[0;34m,\u001b[0m \u001b[0;34m(\u001b[0m\u001b[0mimages\u001b[0m\u001b[0;34m,\u001b[0m \u001b[0mlabels\u001b[0m\u001b[0;34m)\u001b[0m \u001b[0;32min\u001b[0m \u001b[0menumerate\u001b[0m\u001b[0;34m(\u001b[0m\u001b[0mself\u001b[0m\u001b[0;34m.\u001b[0m\u001b[0mtrainLoader\u001b[0m\u001b[0;34m)\u001b[0m\u001b[0;34m:\u001b[0m\u001b[0;34m\u001b[0m\u001b[0;34m\u001b[0m\u001b[0m\n\u001b[0m\u001b[1;32m    116\u001b[0m             \u001b[0mimages\u001b[0m\u001b[0;34m,\u001b[0m \u001b[0mlabels\u001b[0m \u001b[0;34m=\u001b[0m \u001b[0mimages\u001b[0m\u001b[0;34m.\u001b[0m\u001b[0mto\u001b[0m\u001b[0;34m(\u001b[0m\u001b[0mDEVICE\u001b[0m\u001b[0;34m)\u001b[0m\u001b[0;34m,\u001b[0m \u001b[0mlabels\u001b[0m\u001b[0;34m.\u001b[0m\u001b[0mto\u001b[0m\u001b[0;34m(\u001b[0m\u001b[0mDEVICE\u001b[0m\u001b[0;34m)\u001b[0m\u001b[0;34m\u001b[0m\u001b[0;34m\u001b[0m\u001b[0m\n\u001b[1;32m    117\u001b[0m \u001b[0;34m\u001b[0m\u001b[0m\n",
            "\u001b[0;32m/usr/local/lib/python3.10/dist-packages/torch/utils/data/dataloader.py\u001b[0m in \u001b[0;36m__next__\u001b[0;34m(self)\u001b[0m\n\u001b[1;32m    699\u001b[0m                 \u001b[0;31m# TODO(https://github.com/pytorch/pytorch/issues/76750)\u001b[0m\u001b[0;34m\u001b[0m\u001b[0;34m\u001b[0m\u001b[0m\n\u001b[1;32m    700\u001b[0m                 \u001b[0mself\u001b[0m\u001b[0;34m.\u001b[0m\u001b[0m_reset\u001b[0m\u001b[0;34m(\u001b[0m\u001b[0;34m)\u001b[0m  \u001b[0;31m# type: ignore[call-arg]\u001b[0m\u001b[0;34m\u001b[0m\u001b[0;34m\u001b[0m\u001b[0m\n\u001b[0;32m--> 701\u001b[0;31m             \u001b[0mdata\u001b[0m \u001b[0;34m=\u001b[0m \u001b[0mself\u001b[0m\u001b[0;34m.\u001b[0m\u001b[0m_next_data\u001b[0m\u001b[0;34m(\u001b[0m\u001b[0;34m)\u001b[0m\u001b[0;34m\u001b[0m\u001b[0;34m\u001b[0m\u001b[0m\n\u001b[0m\u001b[1;32m    702\u001b[0m             \u001b[0mself\u001b[0m\u001b[0;34m.\u001b[0m\u001b[0m_num_yielded\u001b[0m \u001b[0;34m+=\u001b[0m \u001b[0;36m1\u001b[0m\u001b[0;34m\u001b[0m\u001b[0;34m\u001b[0m\u001b[0m\n\u001b[1;32m    703\u001b[0m             if (\n",
            "\u001b[0;32m/usr/local/lib/python3.10/dist-packages/torch/utils/data/dataloader.py\u001b[0m in \u001b[0;36m_next_data\u001b[0;34m(self)\u001b[0m\n\u001b[1;32m    755\u001b[0m     \u001b[0;32mdef\u001b[0m \u001b[0m_next_data\u001b[0m\u001b[0;34m(\u001b[0m\u001b[0mself\u001b[0m\u001b[0;34m)\u001b[0m\u001b[0;34m:\u001b[0m\u001b[0;34m\u001b[0m\u001b[0;34m\u001b[0m\u001b[0m\n\u001b[1;32m    756\u001b[0m         \u001b[0mindex\u001b[0m \u001b[0;34m=\u001b[0m \u001b[0mself\u001b[0m\u001b[0;34m.\u001b[0m\u001b[0m_next_index\u001b[0m\u001b[0;34m(\u001b[0m\u001b[0;34m)\u001b[0m  \u001b[0;31m# may raise StopIteration\u001b[0m\u001b[0;34m\u001b[0m\u001b[0;34m\u001b[0m\u001b[0m\n\u001b[0;32m--> 757\u001b[0;31m         \u001b[0mdata\u001b[0m \u001b[0;34m=\u001b[0m \u001b[0mself\u001b[0m\u001b[0;34m.\u001b[0m\u001b[0m_dataset_fetcher\u001b[0m\u001b[0;34m.\u001b[0m\u001b[0mfetch\u001b[0m\u001b[0;34m(\u001b[0m\u001b[0mindex\u001b[0m\u001b[0;34m)\u001b[0m  \u001b[0;31m# may raise StopIteration\u001b[0m\u001b[0;34m\u001b[0m\u001b[0;34m\u001b[0m\u001b[0m\n\u001b[0m\u001b[1;32m    758\u001b[0m         \u001b[0;32mif\u001b[0m \u001b[0mself\u001b[0m\u001b[0;34m.\u001b[0m\u001b[0m_pin_memory\u001b[0m\u001b[0;34m:\u001b[0m\u001b[0;34m\u001b[0m\u001b[0;34m\u001b[0m\u001b[0m\n\u001b[1;32m    759\u001b[0m             \u001b[0mdata\u001b[0m \u001b[0;34m=\u001b[0m \u001b[0m_utils\u001b[0m\u001b[0;34m.\u001b[0m\u001b[0mpin_memory\u001b[0m\u001b[0;34m.\u001b[0m\u001b[0mpin_memory\u001b[0m\u001b[0;34m(\u001b[0m\u001b[0mdata\u001b[0m\u001b[0;34m,\u001b[0m \u001b[0mself\u001b[0m\u001b[0;34m.\u001b[0m\u001b[0m_pin_memory_device\u001b[0m\u001b[0;34m)\u001b[0m\u001b[0;34m\u001b[0m\u001b[0;34m\u001b[0m\u001b[0m\n",
            "\u001b[0;32m/usr/local/lib/python3.10/dist-packages/torch/utils/data/_utils/fetch.py\u001b[0m in \u001b[0;36mfetch\u001b[0;34m(self, possibly_batched_index)\u001b[0m\n\u001b[1;32m     50\u001b[0m                 \u001b[0mdata\u001b[0m \u001b[0;34m=\u001b[0m \u001b[0mself\u001b[0m\u001b[0;34m.\u001b[0m\u001b[0mdataset\u001b[0m\u001b[0;34m.\u001b[0m\u001b[0m__getitems__\u001b[0m\u001b[0;34m(\u001b[0m\u001b[0mpossibly_batched_index\u001b[0m\u001b[0;34m)\u001b[0m\u001b[0;34m\u001b[0m\u001b[0;34m\u001b[0m\u001b[0m\n\u001b[1;32m     51\u001b[0m             \u001b[0;32melse\u001b[0m\u001b[0;34m:\u001b[0m\u001b[0;34m\u001b[0m\u001b[0;34m\u001b[0m\u001b[0m\n\u001b[0;32m---> 52\u001b[0;31m                 \u001b[0mdata\u001b[0m \u001b[0;34m=\u001b[0m \u001b[0;34m[\u001b[0m\u001b[0mself\u001b[0m\u001b[0;34m.\u001b[0m\u001b[0mdataset\u001b[0m\u001b[0;34m[\u001b[0m\u001b[0midx\u001b[0m\u001b[0;34m]\u001b[0m \u001b[0;32mfor\u001b[0m \u001b[0midx\u001b[0m \u001b[0;32min\u001b[0m \u001b[0mpossibly_batched_index\u001b[0m\u001b[0;34m]\u001b[0m\u001b[0;34m\u001b[0m\u001b[0;34m\u001b[0m\u001b[0m\n\u001b[0m\u001b[1;32m     53\u001b[0m         \u001b[0;32melse\u001b[0m\u001b[0;34m:\u001b[0m\u001b[0;34m\u001b[0m\u001b[0;34m\u001b[0m\u001b[0m\n\u001b[1;32m     54\u001b[0m             \u001b[0mdata\u001b[0m \u001b[0;34m=\u001b[0m \u001b[0mself\u001b[0m\u001b[0;34m.\u001b[0m\u001b[0mdataset\u001b[0m\u001b[0;34m[\u001b[0m\u001b[0mpossibly_batched_index\u001b[0m\u001b[0;34m]\u001b[0m\u001b[0;34m\u001b[0m\u001b[0;34m\u001b[0m\u001b[0m\n",
            "\u001b[0;32m/usr/local/lib/python3.10/dist-packages/torch/utils/data/_utils/fetch.py\u001b[0m in \u001b[0;36m<listcomp>\u001b[0;34m(.0)\u001b[0m\n\u001b[1;32m     50\u001b[0m                 \u001b[0mdata\u001b[0m \u001b[0;34m=\u001b[0m \u001b[0mself\u001b[0m\u001b[0;34m.\u001b[0m\u001b[0mdataset\u001b[0m\u001b[0;34m.\u001b[0m\u001b[0m__getitems__\u001b[0m\u001b[0;34m(\u001b[0m\u001b[0mpossibly_batched_index\u001b[0m\u001b[0;34m)\u001b[0m\u001b[0;34m\u001b[0m\u001b[0;34m\u001b[0m\u001b[0m\n\u001b[1;32m     51\u001b[0m             \u001b[0;32melse\u001b[0m\u001b[0;34m:\u001b[0m\u001b[0;34m\u001b[0m\u001b[0;34m\u001b[0m\u001b[0m\n\u001b[0;32m---> 52\u001b[0;31m                 \u001b[0mdata\u001b[0m \u001b[0;34m=\u001b[0m \u001b[0;34m[\u001b[0m\u001b[0mself\u001b[0m\u001b[0;34m.\u001b[0m\u001b[0mdataset\u001b[0m\u001b[0;34m[\u001b[0m\u001b[0midx\u001b[0m\u001b[0;34m]\u001b[0m \u001b[0;32mfor\u001b[0m \u001b[0midx\u001b[0m \u001b[0;32min\u001b[0m \u001b[0mpossibly_batched_index\u001b[0m\u001b[0;34m]\u001b[0m\u001b[0;34m\u001b[0m\u001b[0;34m\u001b[0m\u001b[0m\n\u001b[0m\u001b[1;32m     53\u001b[0m         \u001b[0;32melse\u001b[0m\u001b[0;34m:\u001b[0m\u001b[0;34m\u001b[0m\u001b[0;34m\u001b[0m\u001b[0m\n\u001b[1;32m     54\u001b[0m             \u001b[0mdata\u001b[0m \u001b[0;34m=\u001b[0m \u001b[0mself\u001b[0m\u001b[0;34m.\u001b[0m\u001b[0mdataset\u001b[0m\u001b[0;34m[\u001b[0m\u001b[0mpossibly_batched_index\u001b[0m\u001b[0;34m]\u001b[0m\u001b[0;34m\u001b[0m\u001b[0;34m\u001b[0m\u001b[0m\n",
            "\u001b[0;32m/usr/local/lib/python3.10/dist-packages/torch/utils/data/dataset.py\u001b[0m in \u001b[0;36m__getitem__\u001b[0;34m(self, idx)\u001b[0m\n\u001b[1;32m    348\u001b[0m         \u001b[0;32melse\u001b[0m\u001b[0;34m:\u001b[0m\u001b[0;34m\u001b[0m\u001b[0;34m\u001b[0m\u001b[0m\n\u001b[1;32m    349\u001b[0m             \u001b[0msample_idx\u001b[0m \u001b[0;34m=\u001b[0m \u001b[0midx\u001b[0m \u001b[0;34m-\u001b[0m \u001b[0mself\u001b[0m\u001b[0;34m.\u001b[0m\u001b[0mcumulative_sizes\u001b[0m\u001b[0;34m[\u001b[0m\u001b[0mdataset_idx\u001b[0m \u001b[0;34m-\u001b[0m \u001b[0;36m1\u001b[0m\u001b[0;34m]\u001b[0m\u001b[0;34m\u001b[0m\u001b[0;34m\u001b[0m\u001b[0m\n\u001b[0;32m--> 350\u001b[0;31m         \u001b[0;32mreturn\u001b[0m \u001b[0mself\u001b[0m\u001b[0;34m.\u001b[0m\u001b[0mdatasets\u001b[0m\u001b[0;34m[\u001b[0m\u001b[0mdataset_idx\u001b[0m\u001b[0;34m]\u001b[0m\u001b[0;34m[\u001b[0m\u001b[0msample_idx\u001b[0m\u001b[0;34m]\u001b[0m\u001b[0;34m\u001b[0m\u001b[0;34m\u001b[0m\u001b[0m\n\u001b[0m\u001b[1;32m    351\u001b[0m \u001b[0;34m\u001b[0m\u001b[0m\n\u001b[1;32m    352\u001b[0m     \u001b[0;34m@\u001b[0m\u001b[0mproperty\u001b[0m\u001b[0;34m\u001b[0m\u001b[0;34m\u001b[0m\u001b[0m\n",
            "\u001b[0;32m<ipython-input-80-289fdde5ff9e>\u001b[0m in \u001b[0;36m__getitem__\u001b[0;34m(self, idx)\u001b[0m\n\u001b[1;32m     58\u001b[0m         \u001b[0;31m# Apply transformations\u001b[0m\u001b[0;34m\u001b[0m\u001b[0;34m\u001b[0m\u001b[0m\n\u001b[1;32m     59\u001b[0m         \u001b[0;32mif\u001b[0m \u001b[0mself\u001b[0m\u001b[0;34m.\u001b[0m\u001b[0mtransform\u001b[0m\u001b[0;34m:\u001b[0m\u001b[0;34m\u001b[0m\u001b[0;34m\u001b[0m\u001b[0m\n\u001b[0;32m---> 60\u001b[0;31m           \u001b[0mimage\u001b[0m \u001b[0;34m=\u001b[0m \u001b[0mself\u001b[0m\u001b[0;34m.\u001b[0m\u001b[0mtransform\u001b[0m\u001b[0;34m(\u001b[0m\u001b[0mimage\u001b[0m\u001b[0;34m)\u001b[0m\u001b[0;34m\u001b[0m\u001b[0;34m\u001b[0m\u001b[0m\n\u001b[0m\u001b[1;32m     61\u001b[0m \u001b[0;34m\u001b[0m\u001b[0m\n\u001b[1;32m     62\u001b[0m         \u001b[0;32mreturn\u001b[0m \u001b[0mimage\u001b[0m\u001b[0;34m,\u001b[0m \u001b[0mtorch\u001b[0m\u001b[0;34m.\u001b[0m\u001b[0mtensor\u001b[0m\u001b[0;34m(\u001b[0m\u001b[0mlabel\u001b[0m\u001b[0;34m)\u001b[0m\u001b[0;34m\u001b[0m\u001b[0;34m\u001b[0m\u001b[0m\n",
            "\u001b[0;32m/usr/local/lib/python3.10/dist-packages/torchvision/transforms/transforms.py\u001b[0m in \u001b[0;36m__call__\u001b[0;34m(self, img)\u001b[0m\n\u001b[1;32m     93\u001b[0m     \u001b[0;32mdef\u001b[0m \u001b[0m__call__\u001b[0m\u001b[0;34m(\u001b[0m\u001b[0mself\u001b[0m\u001b[0;34m,\u001b[0m \u001b[0mimg\u001b[0m\u001b[0;34m)\u001b[0m\u001b[0;34m:\u001b[0m\u001b[0;34m\u001b[0m\u001b[0;34m\u001b[0m\u001b[0m\n\u001b[1;32m     94\u001b[0m         \u001b[0;32mfor\u001b[0m \u001b[0mt\u001b[0m \u001b[0;32min\u001b[0m \u001b[0mself\u001b[0m\u001b[0;34m.\u001b[0m\u001b[0mtransforms\u001b[0m\u001b[0;34m:\u001b[0m\u001b[0;34m\u001b[0m\u001b[0;34m\u001b[0m\u001b[0m\n\u001b[0;32m---> 95\u001b[0;31m             \u001b[0mimg\u001b[0m \u001b[0;34m=\u001b[0m \u001b[0mt\u001b[0m\u001b[0;34m(\u001b[0m\u001b[0mimg\u001b[0m\u001b[0;34m)\u001b[0m\u001b[0;34m\u001b[0m\u001b[0;34m\u001b[0m\u001b[0m\n\u001b[0m\u001b[1;32m     96\u001b[0m         \u001b[0;32mreturn\u001b[0m \u001b[0mimg\u001b[0m\u001b[0;34m\u001b[0m\u001b[0;34m\u001b[0m\u001b[0m\n\u001b[1;32m     97\u001b[0m \u001b[0;34m\u001b[0m\u001b[0m\n",
            "\u001b[0;32m/usr/local/lib/python3.10/dist-packages/torch/nn/modules/module.py\u001b[0m in \u001b[0;36m_wrapped_call_impl\u001b[0;34m(self, *args, **kwargs)\u001b[0m\n\u001b[1;32m   1734\u001b[0m             \u001b[0;32mreturn\u001b[0m \u001b[0mself\u001b[0m\u001b[0;34m.\u001b[0m\u001b[0m_compiled_call_impl\u001b[0m\u001b[0;34m(\u001b[0m\u001b[0;34m*\u001b[0m\u001b[0margs\u001b[0m\u001b[0;34m,\u001b[0m \u001b[0;34m**\u001b[0m\u001b[0mkwargs\u001b[0m\u001b[0;34m)\u001b[0m  \u001b[0;31m# type: ignore[misc]\u001b[0m\u001b[0;34m\u001b[0m\u001b[0;34m\u001b[0m\u001b[0m\n\u001b[1;32m   1735\u001b[0m         \u001b[0;32melse\u001b[0m\u001b[0;34m:\u001b[0m\u001b[0;34m\u001b[0m\u001b[0;34m\u001b[0m\u001b[0m\n\u001b[0;32m-> 1736\u001b[0;31m             \u001b[0;32mreturn\u001b[0m \u001b[0mself\u001b[0m\u001b[0;34m.\u001b[0m\u001b[0m_call_impl\u001b[0m\u001b[0;34m(\u001b[0m\u001b[0;34m*\u001b[0m\u001b[0margs\u001b[0m\u001b[0;34m,\u001b[0m \u001b[0;34m**\u001b[0m\u001b[0mkwargs\u001b[0m\u001b[0;34m)\u001b[0m\u001b[0;34m\u001b[0m\u001b[0;34m\u001b[0m\u001b[0m\n\u001b[0m\u001b[1;32m   1737\u001b[0m \u001b[0;34m\u001b[0m\u001b[0m\n\u001b[1;32m   1738\u001b[0m     \u001b[0;31m# torchrec tests the code consistency with the following code\u001b[0m\u001b[0;34m\u001b[0m\u001b[0;34m\u001b[0m\u001b[0m\n",
            "\u001b[0;32m/usr/local/lib/python3.10/dist-packages/torch/nn/modules/module.py\u001b[0m in \u001b[0;36m_call_impl\u001b[0;34m(self, *args, **kwargs)\u001b[0m\n\u001b[1;32m   1745\u001b[0m                 \u001b[0;32mor\u001b[0m \u001b[0m_global_backward_pre_hooks\u001b[0m \u001b[0;32mor\u001b[0m \u001b[0m_global_backward_hooks\u001b[0m\u001b[0;34m\u001b[0m\u001b[0;34m\u001b[0m\u001b[0m\n\u001b[1;32m   1746\u001b[0m                 or _global_forward_hooks or _global_forward_pre_hooks):\n\u001b[0;32m-> 1747\u001b[0;31m             \u001b[0;32mreturn\u001b[0m \u001b[0mforward_call\u001b[0m\u001b[0;34m(\u001b[0m\u001b[0;34m*\u001b[0m\u001b[0margs\u001b[0m\u001b[0;34m,\u001b[0m \u001b[0;34m**\u001b[0m\u001b[0mkwargs\u001b[0m\u001b[0;34m)\u001b[0m\u001b[0;34m\u001b[0m\u001b[0;34m\u001b[0m\u001b[0m\n\u001b[0m\u001b[1;32m   1748\u001b[0m \u001b[0;34m\u001b[0m\u001b[0m\n\u001b[1;32m   1749\u001b[0m         \u001b[0mresult\u001b[0m \u001b[0;34m=\u001b[0m \u001b[0;32mNone\u001b[0m\u001b[0;34m\u001b[0m\u001b[0;34m\u001b[0m\u001b[0m\n",
            "\u001b[0;32m/usr/local/lib/python3.10/dist-packages/torchvision/transforms/transforms.py\u001b[0m in \u001b[0;36mforward\u001b[0;34m(self, tensor)\u001b[0m\n\u001b[1;32m    275\u001b[0m             \u001b[0mTensor\u001b[0m\u001b[0;34m:\u001b[0m \u001b[0mNormalized\u001b[0m \u001b[0mTensor\u001b[0m \u001b[0mimage\u001b[0m\u001b[0;34m.\u001b[0m\u001b[0;34m\u001b[0m\u001b[0;34m\u001b[0m\u001b[0m\n\u001b[1;32m    276\u001b[0m         \"\"\"\n\u001b[0;32m--> 277\u001b[0;31m         \u001b[0;32mreturn\u001b[0m \u001b[0mF\u001b[0m\u001b[0;34m.\u001b[0m\u001b[0mnormalize\u001b[0m\u001b[0;34m(\u001b[0m\u001b[0mtensor\u001b[0m\u001b[0;34m,\u001b[0m \u001b[0mself\u001b[0m\u001b[0;34m.\u001b[0m\u001b[0mmean\u001b[0m\u001b[0;34m,\u001b[0m \u001b[0mself\u001b[0m\u001b[0;34m.\u001b[0m\u001b[0mstd\u001b[0m\u001b[0;34m,\u001b[0m \u001b[0mself\u001b[0m\u001b[0;34m.\u001b[0m\u001b[0minplace\u001b[0m\u001b[0;34m)\u001b[0m\u001b[0;34m\u001b[0m\u001b[0;34m\u001b[0m\u001b[0m\n\u001b[0m\u001b[1;32m    278\u001b[0m \u001b[0;34m\u001b[0m\u001b[0m\n\u001b[1;32m    279\u001b[0m     \u001b[0;32mdef\u001b[0m \u001b[0m__repr__\u001b[0m\u001b[0;34m(\u001b[0m\u001b[0mself\u001b[0m\u001b[0;34m)\u001b[0m \u001b[0;34m->\u001b[0m \u001b[0mstr\u001b[0m\u001b[0;34m:\u001b[0m\u001b[0;34m\u001b[0m\u001b[0;34m\u001b[0m\u001b[0m\n",
            "\u001b[0;32m/usr/local/lib/python3.10/dist-packages/torchvision/transforms/functional.py\u001b[0m in \u001b[0;36mnormalize\u001b[0;34m(tensor, mean, std, inplace)\u001b[0m\n\u001b[1;32m    348\u001b[0m         \u001b[0;32mraise\u001b[0m \u001b[0mTypeError\u001b[0m\u001b[0;34m(\u001b[0m\u001b[0;34mf\"img should be Tensor Image. Got {type(tensor)}\"\u001b[0m\u001b[0;34m)\u001b[0m\u001b[0;34m\u001b[0m\u001b[0;34m\u001b[0m\u001b[0m\n\u001b[1;32m    349\u001b[0m \u001b[0;34m\u001b[0m\u001b[0m\n\u001b[0;32m--> 350\u001b[0;31m     \u001b[0;32mreturn\u001b[0m \u001b[0mF_t\u001b[0m\u001b[0;34m.\u001b[0m\u001b[0mnormalize\u001b[0m\u001b[0;34m(\u001b[0m\u001b[0mtensor\u001b[0m\u001b[0;34m,\u001b[0m \u001b[0mmean\u001b[0m\u001b[0;34m=\u001b[0m\u001b[0mmean\u001b[0m\u001b[0;34m,\u001b[0m \u001b[0mstd\u001b[0m\u001b[0;34m=\u001b[0m\u001b[0mstd\u001b[0m\u001b[0;34m,\u001b[0m \u001b[0minplace\u001b[0m\u001b[0;34m=\u001b[0m\u001b[0minplace\u001b[0m\u001b[0;34m)\u001b[0m\u001b[0;34m\u001b[0m\u001b[0;34m\u001b[0m\u001b[0m\n\u001b[0m\u001b[1;32m    351\u001b[0m \u001b[0;34m\u001b[0m\u001b[0m\n\u001b[1;32m    352\u001b[0m \u001b[0;34m\u001b[0m\u001b[0m\n",
            "\u001b[0;32m/usr/local/lib/python3.10/dist-packages/torchvision/transforms/_functional_tensor.py\u001b[0m in \u001b[0;36mnormalize\u001b[0;34m(tensor, mean, std, inplace)\u001b[0m\n\u001b[1;32m    915\u001b[0m \u001b[0;34m\u001b[0m\u001b[0m\n\u001b[1;32m    916\u001b[0m     \u001b[0;32mif\u001b[0m \u001b[0;32mnot\u001b[0m \u001b[0minplace\u001b[0m\u001b[0;34m:\u001b[0m\u001b[0;34m\u001b[0m\u001b[0;34m\u001b[0m\u001b[0m\n\u001b[0;32m--> 917\u001b[0;31m         \u001b[0mtensor\u001b[0m \u001b[0;34m=\u001b[0m \u001b[0mtensor\u001b[0m\u001b[0;34m.\u001b[0m\u001b[0mclone\u001b[0m\u001b[0;34m(\u001b[0m\u001b[0;34m)\u001b[0m\u001b[0;34m\u001b[0m\u001b[0;34m\u001b[0m\u001b[0m\n\u001b[0m\u001b[1;32m    918\u001b[0m \u001b[0;34m\u001b[0m\u001b[0m\n\u001b[1;32m    919\u001b[0m     \u001b[0mdtype\u001b[0m \u001b[0;34m=\u001b[0m \u001b[0mtensor\u001b[0m\u001b[0;34m.\u001b[0m\u001b[0mdtype\u001b[0m\u001b[0;34m\u001b[0m\u001b[0;34m\u001b[0m\u001b[0m\n",
            "\u001b[0;31mKeyboardInterrupt\u001b[0m: "
          ]
        }
      ]
    },
    {
      "cell_type": "markdown",
      "source": [
        "## Test Model\n",
        "\n",
        "Using the sampled NIH dataset for testing, load model from checkpoint of most recent run"
      ],
      "metadata": {
        "id": "t6rc3xVMLyrL"
      }
    },
    {
      "cell_type": "code",
      "source": [
        "def evaluate(model, test_loader):\n",
        "  model = model.to(DEVICE)\n",
        "  model.eval()\n",
        "  torch.set_grad_enabled(False)\n",
        "  correct, total = 0, 0\n",
        "  for images, labels in test_loader:\n",
        "    images, labels = images.to(DEVICE), labels.to(DEVICE)\n",
        "    with torch.no_grad() and torch.amp.autocast(device_type='cuda', enabled=True):\n",
        "      # print(type(images))\n",
        "      out = model(images)\n",
        "\n",
        "      # update metrics\n",
        "      _, predicted = out['logits'].max(1)\n",
        "      print(predicted)\n",
        "      correct += (predicted == labels).sum().item()\n",
        "      total += labels.size(0)\n",
        "\n",
        "  # calculate metrics and return\n",
        "  accuracy = correct / total\n",
        "  print(f\"Test Accuracy: {accuracy}\")"
      ],
      "metadata": {
        "id": "RyIjX7nWkKET"
      },
      "execution_count": null,
      "outputs": []
    },
    {
      "cell_type": "code",
      "source": [
        "checkpoint_path = 'checkpoint_epoch_15_best.pth' # actually 17 epoch\n",
        "\n",
        "model = AlexNet_SRMFL(num_classes=3, init_srm_fl=True, randomization_stage='S1')\n",
        "checkpoint = torch.load(checkpoint_path)\n",
        "model.load_state_dict(checkpoint['model_state_dict'])"
      ],
      "metadata": {
        "colab": {
          "base_uri": "https://localhost:8080/"
        },
        "id": "0-FOcWI6X6m6",
        "outputId": "1874ac69-0936-435b-c54e-6ed2f35bc039"
      },
      "execution_count": null,
      "outputs": [
        {
          "output_type": "stream",
          "name": "stderr",
          "text": [
            "<ipython-input-20-451d5100a5ba>:4: FutureWarning: You are using `torch.load` with `weights_only=False` (the current default value), which uses the default pickle module implicitly. It is possible to construct malicious pickle data which will execute arbitrary code during unpickling (See https://github.com/pytorch/pytorch/blob/main/SECURITY.md#untrusted-models for more details). In a future release, the default value for `weights_only` will be flipped to `True`. This limits the functions that could be executed during unpickling. Arbitrary objects will no longer be allowed to be loaded via this mode unless they are explicitly allowlisted by the user via `torch.serialization.add_safe_globals`. We recommend you start setting `weights_only=True` for any use case where you don't have full control of the loaded file. Please open an issue on GitHub for any issues related to this experimental feature.\n",
            "  checkpoint = torch.load(checkpoint_path)\n"
          ]
        },
        {
          "output_type": "execute_result",
          "data": {
            "text/plain": [
              "<All keys matched successfully>"
            ]
          },
          "metadata": {},
          "execution_count": 20
        }
      ]
    },
    {
      "cell_type": "code",
      "source": [
        "evaluate(model, test_loader)"
      ],
      "metadata": {
        "colab": {
          "base_uri": "https://localhost:8080/"
        },
        "id": "GpmetTvyX8jc",
        "outputId": "37c0d301-b740-4483-b58c-2d532ec37221"
      },
      "execution_count": null,
      "outputs": [
        {
          "output_type": "stream",
          "name": "stdout",
          "text": [
            "Test Accuracy: 0.7196765498652291\n"
          ]
        }
      ]
    }
  ],
  "metadata": {
    "accelerator": "GPU",
    "colab": {
      "gpuType": "A100",
      "provenance": []
    },
    "kernelspec": {
      "display_name": "Python 3",
      "name": "python3"
    },
    "language_info": {
      "name": "python"
    }
  },
  "nbformat": 4,
  "nbformat_minor": 0
}