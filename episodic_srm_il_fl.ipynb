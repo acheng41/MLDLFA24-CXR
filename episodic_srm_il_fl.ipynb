{
  "cells": [
    {
      "cell_type": "markdown",
      "metadata": {
        "id": "LgwfeC08tReM"
      },
      "source": [
        "# Goals\n",
        "\n",
        "1. Define Dataset with SRM-IL (style randomizations - image level)\n",
        "2. Define SRM-FL as a Separate Model (feature randomizations - feature level)\n",
        "3. Integrate SRM-FL into AlexNet\n",
        "\n",
        "Reference: https://github.com/rafizunaed/DomainAgnosticCXR/tree/main/"
      ]
    },
    {
      "cell_type": "markdown",
      "metadata": {
        "id": "rfJLfWQqyiXT"
      },
      "source": [
        "## Imports"
      ]
    },
    {
      "cell_type": "code",
      "execution_count": null,
      "metadata": {
        "colab": {
          "base_uri": "https://localhost:8080/"
        },
        "id": "zT_p6PUFyzzA",
        "outputId": "c9b05ddd-b118-40bc-8fc5-9e89c40b06cd"
      },
      "outputs": [
        {
          "output_type": "stream",
          "name": "stdout",
          "text": [
            "Collecting opendatasets\n",
            "  Downloading opendatasets-0.1.22-py3-none-any.whl.metadata (9.2 kB)\n",
            "Requirement already satisfied: tqdm in /usr/local/lib/python3.10/dist-packages (from opendatasets) (4.66.6)\n",
            "Requirement already satisfied: kaggle in /usr/local/lib/python3.10/dist-packages (from opendatasets) (1.6.17)\n",
            "Requirement already satisfied: click in /usr/local/lib/python3.10/dist-packages (from opendatasets) (8.1.7)\n",
            "Requirement already satisfied: six>=1.10 in /usr/local/lib/python3.10/dist-packages (from kaggle->opendatasets) (1.16.0)\n",
            "Requirement already satisfied: certifi>=2023.7.22 in /usr/local/lib/python3.10/dist-packages (from kaggle->opendatasets) (2024.8.30)\n",
            "Requirement already satisfied: python-dateutil in /usr/local/lib/python3.10/dist-packages (from kaggle->opendatasets) (2.8.2)\n",
            "Requirement already satisfied: requests in /usr/local/lib/python3.10/dist-packages (from kaggle->opendatasets) (2.32.3)\n",
            "Requirement already satisfied: python-slugify in /usr/local/lib/python3.10/dist-packages (from kaggle->opendatasets) (8.0.4)\n",
            "Requirement already satisfied: urllib3 in /usr/local/lib/python3.10/dist-packages (from kaggle->opendatasets) (2.2.3)\n",
            "Requirement already satisfied: bleach in /usr/local/lib/python3.10/dist-packages (from kaggle->opendatasets) (6.2.0)\n",
            "Requirement already satisfied: webencodings in /usr/local/lib/python3.10/dist-packages (from bleach->kaggle->opendatasets) (0.5.1)\n",
            "Requirement already satisfied: text-unidecode>=1.3 in /usr/local/lib/python3.10/dist-packages (from python-slugify->kaggle->opendatasets) (1.3)\n",
            "Requirement already satisfied: charset-normalizer<4,>=2 in /usr/local/lib/python3.10/dist-packages (from requests->kaggle->opendatasets) (3.4.0)\n",
            "Requirement already satisfied: idna<4,>=2.5 in /usr/local/lib/python3.10/dist-packages (from requests->kaggle->opendatasets) (3.10)\n",
            "Downloading opendatasets-0.1.22-py3-none-any.whl (15 kB)\n",
            "Installing collected packages: opendatasets\n",
            "Successfully installed opendatasets-0.1.22\n"
          ]
        }
      ],
      "source": [
        "!pip install opendatasets"
      ]
    },
    {
      "cell_type": "code",
      "execution_count": null,
      "metadata": {
        "id": "fFe4LUBHtP2D"
      },
      "outputs": [],
      "source": [
        "import os\n",
        "from torch.utils.data import Dataset, random_split, DataLoader\n",
        "from torchvision import transforms\n",
        "from PIL import Image\n",
        "import opendatasets as od\n",
        "import torch\n",
        "import torch.nn as nn\n",
        "import torch.optim as optim\n",
        "from torchvision.models import alexnet\n",
        "import matplotlib.pyplot as plt\n",
        "import numpy as np\n",
        "from timm.utils.model_ema import ModelEmaV2"
      ]
    },
    {
      "cell_type": "markdown",
      "metadata": {
        "id": "HfId9XtyteAj"
      },
      "source": [
        "## Download Dataset and create Dataloader"
      ]
    },
    {
      "cell_type": "code",
      "execution_count": null,
      "metadata": {
        "colab": {
          "base_uri": "https://localhost:8080/"
        },
        "id": "m8mTU-RyyqN-",
        "outputId": "81f2446f-967a-462f-a145-8e65ee9257d9"
      },
      "outputs": [
        {
          "output_type": "stream",
          "name": "stdout",
          "text": [
            "Dataset URL: https://www.kaggle.com/datasets/emilyguan2/covid-dataset\n",
            "Downloading covid-dataset.zip to ./covid-dataset\n"
          ]
        },
        {
          "output_type": "stream",
          "name": "stderr",
          "text": [
            "100%|██████████| 185M/185M [00:01<00:00, 106MB/s]\n"
          ]
        },
        {
          "output_type": "stream",
          "name": "stdout",
          "text": [
            "\n",
            "Dataset URL: https://www.kaggle.com/datasets/andreacheng41/bangladesh-chestxray-dlproject\n",
            "Downloading bangladesh-chestxray-dlproject.zip to ./bangladesh-chestxray-dlproject\n"
          ]
        },
        {
          "output_type": "stream",
          "name": "stderr",
          "text": [
            "100%|██████████| 42.7M/42.7M [00:00<00:00, 139MB/s]\n"
          ]
        },
        {
          "output_type": "stream",
          "name": "stdout",
          "text": [
            "\n",
            "Dataset URL: https://www.kaggle.com/datasets/mahdiopra/rsua-chest-x-ray-dataset\n",
            "Downloading rsua-chest-x-ray-dataset.zip to ./rsua-chest-x-ray-dataset\n"
          ]
        },
        {
          "output_type": "stream",
          "name": "stderr",
          "text": [
            "100%|██████████| 109M/109M [00:01<00:00, 90.1MB/s]\n"
          ]
        },
        {
          "output_type": "stream",
          "name": "stdout",
          "text": [
            "\n",
            "Dataset URL: https://www.kaggle.com/datasets/emilyguan2/nigeria-only\n",
            "Downloading nigeria-only.zip to ./nigeria-only\n"
          ]
        },
        {
          "output_type": "stream",
          "name": "stderr",
          "text": [
            "100%|██████████| 187M/187M [00:02<00:00, 81.9MB/s]\n"
          ]
        },
        {
          "output_type": "stream",
          "name": "stdout",
          "text": [
            "\n"
          ]
        }
      ],
      "source": [
        "od.download(\"https://www.kaggle.com/datasets/emilyguan2/covid-dataset/data \")\n",
        "od.download(\"https://www.kaggle.com/datasets/andreacheng41/bangladesh-chestxray-dlproject\")\n",
        "od.download(\"https://www.kaggle.com/datasets/mahdiopra/rsua-chest-x-ray-dataset\")\n",
        "od.download(\"https://www.kaggle.com/datasets/emilyguan2/nigeria-only/data\")"
      ]
    },
    {
      "cell_type": "markdown",
      "metadata": {
        "id": "Zz25FF5d20BH"
      },
      "source": [
        "### SRM IL Class\n",
        "\n",
        "Applies a normalization formula to an image's pixel values.\n",
        "The paper provides the min_value and max_value using defined global config variables, but for simplicity we just default them to 0 and 255 (which is what the config variables are set to)"
      ]
    },
    {
      "cell_type": "code",
      "execution_count": null,
      "metadata": {
        "id": "BlBhuudE2qxp"
      },
      "outputs": [],
      "source": [
        "class SRM_IL(object):\n",
        "    def __init__(self, min_value=0, max_value=255):\n",
        "        self.max_value = max_value\n",
        "        self.min_value = min_value\n",
        "\n",
        "    def apply_perturbation(self, image):\n",
        "        image = image.astype(np.float32)\n",
        "        m2 = np.random.uniform(low=self.min_value, high=self.max_value, size=(1,1,1)).repeat(3, axis=2)\n",
        "        s2 = np.random.uniform(low=self.min_value, high=self.max_value, size=(1,1,1)).repeat(3, axis=2)\n",
        "        m1 = np.mean(image, axis=(0,1), keepdims=True)\n",
        "        v1 = np.var(image, axis=(0,1), keepdims=True)\n",
        "        s1 = np.sqrt(v1)\n",
        "        image = (image - m1) / s1\n",
        "        image = image * s2 + m2\n",
        "        return image"
      ]
    },
    {
      "cell_type": "markdown",
      "metadata": {
        "id": "G1o1V5p23WYm"
      },
      "source": [
        "### CXRDataset Class\n",
        "\n",
        "Defines a Dataset object for the Covid19 Radiography Database\n",
        "Uses the SRM-IL class to randomly"
      ]
    },
    {
      "cell_type": "code",
      "execution_count": null,
      "metadata": {
        "id": "-PvQXh5hy4NV"
      },
      "outputs": [],
      "source": [
        "class CXREpisodicDataset(Dataset):\n",
        "    def __init__(self, path, folder_mapping, sub_folder=None, transform=None,\n",
        "                 use_SRM_IL=True, srm_il_min=0, srm_il_max=255,\n",
        "                 print_img=False,\n",
        "                 use_episodic=False, support_path=None, support_folder_mapping=None, support_sub_folder=None,\n",
        "                 num_support_per_batch=None, num_query_per_batch=None):\n",
        "        \"\"\"\n",
        "        Args:\n",
        "            folder_mapping (dict): A dictionary where keys are target labels and values are lists of folder paths.\n",
        "                                   Example: {\"Normal\": [\"path_to_Normal_folder\"],\n",
        "                                             \"Non-Pneumonia Disease\": [\"path_to_COVID\", \"path_to_Lung_Opacity\"],\n",
        "                                             \"Pneumonia\": [\"path_to_Viral_Pneumonia\"]}\n",
        "            transform (callable, optional): Optional transforms to be applied on an image.\n",
        "            use_SRM_IL (boolean): Indicates use of SRM IL perturbations on an image.\n",
        "        \"\"\"\n",
        "        self.print_img = print_img\n",
        "        self.data = []\n",
        "        self.labels = []\n",
        "        self.transform = transform\n",
        "        self.use_SRM_IL = use_SRM_IL\n",
        "        self.use_episodic = use_episodic\n",
        "        self.support_data = []\n",
        "        self.support_labels = []\n",
        "\n",
        "        # Load all images and assign corresponding labels\n",
        "        self.data, self.labels = self.load_images(path, folder_mapping, sub_folder)\n",
        "        self.len = len(self.data)\n",
        "\n",
        "        if self.use_episodic:\n",
        "          assert(support_path and support_folder_mapping)\n",
        "          self.support_data, self.support_labels = self.load_images(support_path, support_folder_mapping, support_sub_folder)\n",
        "\n",
        "          assert(num_support_per_batch or num_query_per_batch)\n",
        "\n",
        "          if num_support_per_batch and num_query_per_batch:\n",
        "            assert((len(self.data) // num_query_per_batch) == (len(self.support_data) // num_support_per_batch))\n",
        "          elif num_support_per_batch:\n",
        "            self.num_support_per_batch = num_support_per_batch\n",
        "            num_batches = len(self.data) // num_support_per_batch\n",
        "            self.num_query_per_batch = len(self.data) // num_batches\n",
        "          elif num_query_per_batch:\n",
        "            self.num_query_per_batch = num_query_per_batch\n",
        "            num_batches = len(self.data) // num_query_per_batch\n",
        "\n",
        "            self.num_support_per_batch = len(self.support_data) // num_batches\n",
        "          print(f'{num_batches} batches')\n",
        "          print(f'{self.num_query_per_batch} query data per batch; {len(self.data)} total data')\n",
        "          print(f'{self.num_support_per_batch} support data per batch; {len(self.support_data)} total data')\n",
        "\n",
        "          self.len = len(self.data) // num_query_per_batch\n",
        "\n",
        "\n",
        "        # Define SRM_IL class\n",
        "        if self.use_SRM_IL:\n",
        "            self.SRM_IL = SRM_IL(srm_il_min, srm_il_max)\n",
        "\n",
        "    def load_images(self, path, folder_mapping, sub_folder=None):\n",
        "        data_arr = []\n",
        "        label_arr = []\n",
        "        for label, folders in folder_mapping.items():\n",
        "            for folder in folders:\n",
        "                folder_path = os.path.join(path, folder)\n",
        "                if sub_folder:\n",
        "                    folder_path = os.path.join(folder_path, sub_folder)\n",
        "\n",
        "                for file_name in os.listdir(folder_path):\n",
        "                    if file_name.endswith(('.png', '.jpg', '.jpeg', '.bmp')):  # Filter image files\n",
        "                        img_path = os.path.join(folder_path, file_name)\n",
        "                        data_arr.append(img_path)\n",
        "                        label_arr.append(label)\n",
        "\n",
        "        # shuffle data\n",
        "        indices = np.random.permutation(len(data_arr))\n",
        "\n",
        "        data_arr = np.array(data_arr)[indices]\n",
        "        label_arr = np.array(label_arr)[indices]\n",
        "\n",
        "        return data_arr, label_arr\n",
        "\n",
        "    def __len__(self):\n",
        "        return self.len\n",
        "\n",
        "\n",
        "    def process_image(self, image_path):\n",
        "        image = Image.open(image_path).convert(\"RGB\")\n",
        "\n",
        "        # Load image\n",
        "        image = Image.open(image_path).convert(\"RGB\")\n",
        "\n",
        "        # Apply perturbation\n",
        "        image = np.array(image)\n",
        "        if self.use_SRM_IL:\n",
        "            image = self.SRM_IL.apply_perturbation(image.copy())\n",
        "        image = Image.fromarray(image.astype('uint8'))\n",
        "\n",
        "        # Apply transformations\n",
        "        if self.transform:\n",
        "          image = self.transform(image)\n",
        "\n",
        "        if self.print_img:\n",
        "          plt.imshow(np.array(image))\n",
        "          plt.show()\n",
        "\n",
        "        return image\n",
        "\n",
        "    def __getitem__(self, idx):\n",
        "        if self.use_episodic:\n",
        "          img_paths = self.data[idx*self.num_query_per_batch:(idx+1)*self.num_query_per_batch]\n",
        "          labels = self.labels[idx*self.num_query_per_batch:(idx+1)*self.num_query_per_batch]\n",
        "\n",
        "          support_img_paths = self.support_data[idx*self.num_support_per_batch:(idx+1)*self.num_support_per_batch]\n",
        "          support_labels = self.support_labels[idx*self.num_support_per_batch:(idx+1)*self.num_support_per_batch]\n",
        "\n",
        "          images = [self.process_image(img_path) for img_path in img_paths]\n",
        "          support_images = [self.process_image(img_path) for img_path in support_img_paths]\n",
        "\n",
        "          return torch.stack(images), torch.tensor(labels).reshape(-1), torch.stack(support_images), torch.tensor(support_labels).reshape(-1)\n",
        "        else:\n",
        "          img_path = self.data[idx]\n",
        "          label = self.labels[idx]\n",
        "\n",
        "          return self.process_image(img_path), torch.tensor(label)\n"
      ]
    },
    {
      "cell_type": "code",
      "source": [
        "# Define transforms\n",
        "transform = transforms.Compose([\n",
        "    transforms.Resize(256),\n",
        "    transforms.CenterCrop(224),\n",
        "    transforms.ToTensor(),\n",
        "    transforms.Normalize([0.485, 0.456, 0.406], [0.229, 0.224, 0.225]),\n",
        "])\n",
        "\n",
        "srm_il_min = 0\n",
        "srm_il_max = 255\n",
        "\n",
        "train_data_dir = \"covid-dataset\"\n",
        "\n",
        "train_folder_map = {\n",
        "    0: [\"A_normal_sample\"],\n",
        "    1: [\"A_other_sample\"],\n",
        "    2: [\"A_pn_sample\"]\n",
        "}\n",
        "\n",
        "support_data_dir = \"nigeria-only\"\n",
        "support_folder_map = {\n",
        "    0: [\"nigeria_normal/nigeria_normal\"],\n",
        "    1: [\"nigeria_other/nigeria_other\"],\n",
        "    2: [\"nigeria_pneumonia/nigeria_pneumonia\"],\n",
        "}\n",
        "train_dataset = CXREpisodicDataset(train_data_dir, train_folder_map,\n",
        "                                   transform=transform, use_SRM_IL=True, srm_il_min=srm_il_min, srm_il_max=srm_il_max,\n",
        "                                   use_episodic=True, support_path=support_data_dir, support_folder_mapping=support_folder_map,\n",
        "                                   num_query_per_batch=32)\n"
      ],
      "metadata": {
        "colab": {
          "base_uri": "https://localhost:8080/"
        },
        "id": "pMP0KRA2UW3G",
        "outputId": "3d3ae0de-a409-42a0-f27d-d751a06c6c73"
      },
      "execution_count": null,
      "outputs": [
        {
          "output_type": "stream",
          "name": "stdout",
          "text": [
            "162 batches\n",
            "32 query data per batch; 5200 total data\n",
            "12 support data per batch; 1951 total data\n"
          ]
        }
      ]
    },
    {
      "cell_type": "code",
      "execution_count": null,
      "metadata": {
        "id": "Un18i50x6zuo"
      },
      "outputs": [],
      "source": [
        "# validation dataset\n",
        "\n",
        "val_data_dir = \"bangladesh-chestxray-dlproject\"\n",
        "\n",
        "val_folder_map = {\n",
        "    0: [\"Normal\"],\n",
        "    1: [\"COVID\", \"Lung_Opacity\"],\n",
        "    2: [\"Viral Pneumonia\"]\n",
        "}\n",
        "\n",
        "val_dataset = CXREpisodicDataset(val_data_dir, val_folder_map, transform=transform, use_SRM_IL=False, use_episodic=False)\n",
        "\n",
        "# test dataset\n",
        "test_data_dir = \"rsua-chest-x-ray-dataset/RSUA Chest X-Ray Dataset/Data Chest X-Ray RSUA (Annotated)-20230618T030427Z-001/Data Chest X-Ray RSUA (Annotated)\"\n",
        "\n",
        "test_folder_map = {\n",
        "    0: [ \"Non_Covid/images\"],\n",
        "    1: [\"Covid/images\"],\n",
        "    2: [ \"Non_Covid_Pneumonia/images\"]\n",
        "}\n",
        "\n",
        "\n",
        "test_dataset = CXREpisodicDataset(test_data_dir, test_folder_map, transform=transform, use_SRM_IL=False, use_episodic=False)"
      ]
    },
    {
      "cell_type": "code",
      "execution_count": null,
      "metadata": {
        "id": "3uBmaq1W7BIM"
      },
      "outputs": [],
      "source": [
        "# Create DataLoaders\n",
        "batch_size = 32\n",
        "train_loader = DataLoader(train_dataset, batch_size=1, shuffle=True)\n",
        "val_loader = DataLoader(val_dataset, batch_size=batch_size, shuffle=True)\n",
        "test_loader = DataLoader(test_dataset, batch_size=batch_size, shuffle=False)"
      ]
    },
    {
      "cell_type": "code",
      "execution_count": null,
      "metadata": {
        "colab": {
          "base_uri": "https://localhost:8080/"
        },
        "id": "tupnPx0p7Dny",
        "outputId": "38aec967-fe33-494c-8d7d-567b91f77194"
      },
      "outputs": [
        {
          "output_type": "stream",
          "name": "stdout",
          "text": [
            "162\n",
            "4350\n",
            "371\n"
          ]
        }
      ],
      "source": [
        "print(len(train_dataset))\n",
        "print(len(val_dataset))\n",
        "print(len(test_dataset))"
      ]
    },
    {
      "cell_type": "code",
      "source": [
        "count = 0\n",
        "for images, labels, support_images, support_labels in train_loader:\n",
        "  print(\"-----\")\n",
        "  print(images[0].shape)\n",
        "  for img in images:\n",
        "    print(img.shape)\n",
        "  print(labels[0].shape)\n",
        "  for support_img in support_images:\n",
        "    print(support_img.shape)\n",
        "  print(support_labels.shape)\n",
        "  count += 1\n",
        "  if count == 2:\n",
        "    break"
      ],
      "metadata": {
        "colab": {
          "base_uri": "https://localhost:8080/"
        },
        "id": "zJuJFIdHavro",
        "outputId": "e0ff1f72-58dc-48a8-d642-3e0a803ea1a5"
      },
      "execution_count": null,
      "outputs": [
        {
          "output_type": "stream",
          "name": "stdout",
          "text": [
            "-----\n",
            "torch.Size([32, 3, 224, 224])\n",
            "torch.Size([32, 3, 224, 224])\n",
            "torch.Size([32])\n",
            "torch.Size([12, 3, 224, 224])\n",
            "torch.Size([1, 12])\n",
            "-----\n",
            "torch.Size([32, 3, 224, 224])\n",
            "torch.Size([32, 3, 224, 224])\n",
            "torch.Size([32])\n",
            "torch.Size([12, 3, 224, 224])\n",
            "torch.Size([1, 12])\n"
          ]
        }
      ]
    },
    {
      "cell_type": "markdown",
      "metadata": {
        "id": "7t2wUOA97LL0"
      },
      "source": [
        "## Define AlexNet Architecture with Feature Level Perturbation Blocks\n",
        "\n",
        "The paper/github integrates a separate SRM_FL block into the Densenet architecture; here, we integrate the SRM_FL block into the Alexnet architecture"
      ]
    },
    {
      "cell_type": "markdown",
      "metadata": {
        "id": "u8mCFMfe7k6V"
      },
      "source": [
        "### SRM FL Class"
      ]
    },
    {
      "cell_type": "code",
      "execution_count": null,
      "metadata": {
        "id": "D6CH5_Vv7dv1"
      },
      "outputs": [],
      "source": [
        "class SRM_FL(nn.Module):\n",
        "    def __init__(self, in_channels: int):\n",
        "        super().__init__()\n",
        "        self.eps = 1e-7\n",
        "        self.gamma_net = nn.Sequential(\n",
        "                            nn.Conv2d(in_channels, in_channels, 1, 1),\n",
        "                            nn.Conv2d(in_channels, in_channels//2, 3, 1, 1),\n",
        "                            nn.Conv2d(in_channels//2, in_channels, 3, 1, 1),\n",
        "                            nn.Conv2d(in_channels, in_channels, 1, 1),\n",
        "                            )\n",
        "        self.beta_net = nn.Sequential(\n",
        "                            nn.Conv2d(in_channels, in_channels, 1, 1),\n",
        "                            nn.Conv2d(in_channels, in_channels//2, 3, 1, 1),\n",
        "                            nn.Conv2d(in_channels//2, in_channels, 3, 1, 1),\n",
        "                            nn.Conv2d(in_channels, in_channels, 1, 1),\n",
        "                            )\n",
        "\n",
        "    def forward(self, content_feats_orig:torch.Tensor, style_feats:torch.Tensor):\n",
        "        gamma = self.gamma_net(style_feats)\n",
        "        beta = self.beta_net(style_feats)\n",
        "        mean_content = torch.mean(content_feats_orig, dim=[2,3], keepdim=True)\n",
        "        var_content = torch.var(content_feats_orig, dim=[2,3], keepdim=True)\n",
        "        content_feats = (content_feats_orig - mean_content) / (var_content + self.eps).sqrt()\n",
        "        content_feats = content_feats * gamma + beta\n",
        "        return content_feats"
      ]
    },
    {
      "cell_type": "markdown",
      "metadata": {
        "id": "JQq9dq_k-FGV"
      },
      "source": [
        "### Loss function for SRM_FL"
      ]
    },
    {
      "cell_type": "code",
      "execution_count": null,
      "metadata": {
        "id": "V5tDousl-DyC"
      },
      "outputs": [],
      "source": [
        "import torch.nn.functional as F\n",
        "\n",
        "def generate_gram_matrix(x:torch.Tensor):\n",
        "    (b, ch, h, w) = x.size()\n",
        "    features = x.view(b, ch, w * h)\n",
        "    features = F.normalize(features, dim=2, eps=1e-7)\n",
        "    features_t = features.transpose(1, 2)\n",
        "    gram_matrix = features.bmm(features_t)\n",
        "    return gram_matrix\n",
        "\n",
        "def calculate_content_style_loss(transformed:torch.Tensor, content_ref:torch.Tensor, style_ref:torch.Tensor):\n",
        "    content_loss = F.mse_loss(transformed, content_ref)\n",
        "    gm_transformed = generate_gram_matrix(transformed)\n",
        "    gm_style_ref = generate_gram_matrix(style_ref)\n",
        "    style_loss = F.mse_loss(gm_transformed, gm_style_ref)\n",
        "    return content_loss, style_loss"
      ]
    },
    {
      "cell_type": "markdown",
      "metadata": {
        "id": "7fjo1zfk8DVz"
      },
      "source": [
        "### AlexNet with SRM FL Blocks\n",
        "\n",
        "Removing randomization_stage parameter and simply integrating the SRMFL block where convenient for now"
      ]
    },
    {
      "cell_type": "code",
      "execution_count": null,
      "metadata": {
        "colab": {
          "base_uri": "https://localhost:8080/"
        },
        "id": "VThe3hxw7se4",
        "outputId": "cd76355d-c96e-4986-f7bb-c7194d20be4e"
      },
      "outputs": [
        {
          "output_type": "stream",
          "name": "stderr",
          "text": [
            "<ipython-input-13-1865aa09a414>:108: FutureWarning: `torch.cuda.amp.autocast(args...)` is deprecated. Please use `torch.amp.autocast('cuda', args...)` instead.\n",
            "  @autocast()\n"
          ]
        }
      ],
      "source": [
        "from torch.cuda.amp import autocast\n",
        "\n",
        "class AlexNet_SRMFL(nn.Module):\n",
        "    def __init__(self, num_classes: int, init_srm_fl=False, randomization_stage=None):\n",
        "          super().__init__()\n",
        "          self._init_backbone()\n",
        "          self._init_head(num_classes)\n",
        "          self.init_srm_fl = init_srm_fl\n",
        "          self.randomization_stage = randomization_stage\n",
        "\n",
        "          # Validate init_srm_fl is True <=> randomization_stage is not None\n",
        "          if init_srm_fl == True:\n",
        "            assert randomization_stage in ['S1', 'S2', 'S3']\n",
        "          if randomization_stage != None:\n",
        "            assert init_srm_fl == True\n",
        "\n",
        "          # SRM_FL expected input based on location in AlexNet\n",
        "          if randomization_stage == 'S1':\n",
        "              self.srm_fl = SRM_FL(192)\n",
        "          elif randomization_stage == 'S2':\n",
        "              self.srm_fl = SRM_FL(384)\n",
        "          elif randomization_stage == 'S3':\n",
        "              self.srm_fl = SRM_FL(256)\n",
        "\n",
        "\n",
        "    def _init_backbone(self):\n",
        "        # Load AlexNet pretrained model\n",
        "        model = alexnet(pretrained=True)\n",
        "        features = list(model.features)\n",
        "        # Split AlexNet layers into blocks for S1, S2, S3 stages\n",
        "        self.stem = nn.Sequential(*features[:3])  # Layers 0-2\n",
        "        self.conv_block1 = nn.Sequential(*features[3:6])  # Layers 3-5\n",
        "        self.conv_block2 = nn.Sequential(*features[6:8])  # Layers 6-7\n",
        "        self.conv_block3 = nn.Sequential(*features[8:])   # Layers 8-12\n",
        "\n",
        "        # Global average pooling\n",
        "        self.avg = nn.AdaptiveAvgPool2d((6, 6))\n",
        "\n",
        "    def _init_head(self, num_classes: int):\n",
        "        # Final classifier\n",
        "        self.classifier = nn.Sequential(\n",
        "            nn.Dropout(),\n",
        "            nn.Linear(256 * 6 * 6, 4096),\n",
        "            nn.ReLU(inplace=True),\n",
        "            nn.Dropout(),\n",
        "            nn.Linear(4096, 4096),\n",
        "            nn.ReLU(inplace=True),\n",
        "            nn.Linear(4096, num_classes),\n",
        "        )\n",
        "\n",
        "    def grad_turn_on_srm_fl_only(self):\n",
        "        for x in [self.stem, self.conv_block1, self.conv_block2, self.conv_block3, self.classifier]:\n",
        "            for _, p in enumerate(x.parameters()):\n",
        "                p.requires_grad_(False)\n",
        "\n",
        "        for _, p in enumerate(self.srm_fl.parameters()):\n",
        "            p.requires_grad_(True)\n",
        "\n",
        "    def grad_turn_off_srm_fl_only(self):\n",
        "        for x in [self.stem, self.conv_block1, self.conv_block2, self.conv_block3, self.classifier]:\n",
        "            for _, p in enumerate(x.parameters()):\n",
        "                p.requires_grad_(True)\n",
        "\n",
        "        for _, p in enumerate(self.srm_fl.parameters()):\n",
        "            p.requires_grad_(False)\n",
        "\n",
        "    def _forward_block(self, block, x: torch.Tensor):\n",
        "        x = block(x)\n",
        "        return x\n",
        "\n",
        "    def _perturb_features(self, x: torch.Tensor, train_srm_fl: bool):\n",
        "        N = x.shape[0]\n",
        "        idx_swap = torch.arange(N).flip(0)\n",
        "        cont_x = x.clone()\n",
        "        style_x = x.clone()[idx_swap].detach()\n",
        "        x_srm = self.srm_fl(cont_x, style_x)\n",
        "        if train_srm_fl:\n",
        "            content_loss, style_loss = calculate_content_style_loss(x_srm, cont_x, style_x)\n",
        "            return {\n",
        "                'content_loss': content_loss,\n",
        "                'style_loss': style_loss,\n",
        "                }\n",
        "        else:\n",
        "            return x_srm\n",
        "\n",
        "    def forward_to_srm_fl(self, x: torch.Tensor, before=True):\n",
        "      x = self.stem(x)\n",
        "      x = self._forward_block(self.conv_block1, x)\n",
        "      if self.randomization_stage == 'S1':\n",
        "          if before:\n",
        "            return x\n",
        "          x = self._perturb_features(x, train_srm_fl=False)\n",
        "          return x\n",
        "      x = self._forward_block(self.conv_block2, x)\n",
        "      if self.randomization_stage == 'S2':\n",
        "          if before:\n",
        "            return x\n",
        "          x = self._perturb_features(x, train_srm_fl=False)\n",
        "          return x\n",
        "      x = self._forward_block(self.conv_block3, x)\n",
        "      if self.randomization_stage == 'S3':\n",
        "          if before:\n",
        "            return x\n",
        "          x = self._perturb_features(x, train_srm_fl=False)\n",
        "          return x\n",
        "      return x\n",
        "\n",
        "    @autocast()\n",
        "    def forward(self, x: torch.Tensor, use_srm_fl: bool = False, train_srm_fl: bool = False):\n",
        "        if not self.init_srm_fl or not use_srm_fl:\n",
        "            x = self.stem(x)\n",
        "            x = self._forward_block(self.conv_block1, x)\n",
        "            x = self._forward_block(self.conv_block2, x)\n",
        "            x = self._forward_block(self.conv_block3, x)\n",
        "            x = torch.flatten(x, 1)\n",
        "            logits = self.classifier(x)\n",
        "        else:\n",
        "            x = self.stem(x)\n",
        "\n",
        "            x = self._forward_block(self.conv_block1, x)\n",
        "            if self.randomization_stage == 'S1' and use_srm_fl:\n",
        "                x = self._perturb_features(x, train_srm_fl)\n",
        "                if train_srm_fl:\n",
        "                    return x\n",
        "\n",
        "            x = self._forward_block(self.conv_block2, x)\n",
        "            if self.randomization_stage == 'S2' and use_srm_fl:\n",
        "                x = self._perturb_features(x, train_srm_fl)\n",
        "                if train_srm_fl:\n",
        "                    return x\n",
        "\n",
        "            x = self._forward_block(self.conv_block3, x)\n",
        "            if self.randomization_stage == 'S3' and use_srm_fl:\n",
        "                x = self._perturb_features(x, train_srm_fl)\n",
        "                if train_srm_fl:\n",
        "                    return x\n",
        "\n",
        "            x = self.avg(x)\n",
        "            x = torch.flatten(x, 1)\n",
        "            logits = self.classifier(x)\n",
        "\n",
        "        return {\n",
        "            'logits': logits,\n",
        "            'gfm': x,\n",
        "        }"
      ]
    },
    {
      "cell_type": "markdown",
      "metadata": {
        "id": "aarHmcYddwce"
      },
      "source": [
        "## Train Model\n",
        "\n",
        "References the `ModelTrainer_SRM_IL_FL()` class in the paper's repo"
      ]
    },
    {
      "cell_type": "code",
      "execution_count": null,
      "metadata": {
        "id": "gy7UR1q5-ov4"
      },
      "outputs": [],
      "source": [
        "DEVICE = torch.device(\"cuda\" if torch.cuda.is_available() else \"cpu\")"
      ]
    },
    {
      "cell_type": "code",
      "execution_count": null,
      "metadata": {
        "id": "L1WMTBn3zuF8"
      },
      "outputs": [],
      "source": [
        "class ModelTrainer():\n",
        "    def __init__(self,\n",
        "                 model: torch.nn.Module,\n",
        "                 Loaders: list,\n",
        "                 lr: float,\n",
        "                 epochsTorun: int,\n",
        "                 do_grad_accum: False,\n",
        "                 grad_accum_step: int,\n",
        "                 use_ema: bool,\n",
        "                 eta: float,\n",
        "                 use_SRM_FL: False,\n",
        "                 use_episodic: False\n",
        "                 ):\n",
        "        super().__init__()\n",
        "\n",
        "        self.model = model.to(DEVICE)\n",
        "        self.trainLoader = Loaders[0]\n",
        "        self.valLoader = Loaders[1]\n",
        "        self.eta = eta\n",
        "        self.lr = lr\n",
        "        self.epochsTorun = epochsTorun\n",
        "\n",
        "        self.criterion_cls = nn.CrossEntropyLoss()\n",
        "\n",
        "        self.scaler = torch.cuda.amp.GradScaler()\n",
        "        self.optimizer = torch.optim.Adam(params=self.model.parameters(), lr=self.lr)\n",
        "\n",
        "        self.do_grad_accum = do_grad_accum\n",
        "        self.grad_accum_step = grad_accum_step\n",
        "\n",
        "        self.use_ema = use_ema\n",
        "        if self.use_ema:\n",
        "            self.model_ema = ModelEmaV2(self.model, decay=0.997, device=DEVICE)\n",
        "\n",
        "        self.use_SRM_FL = use_SRM_FL\n",
        "\n",
        "        self.use_episodic = use_episodic\n",
        "\n",
        "        if (use_episodic):\n",
        "          assert(use_SRM_FL) # episodic training only relevant to FL\n",
        "\n",
        "    def save_checkpoint(self, epoch, train_loss, train_acc, val_loss, val_acc):\n",
        "        checkpoint = {\n",
        "            'epoch': epoch,\n",
        "            'model_state_dict': self.model.state_dict(),\n",
        "            'optimizer_state_dict': self.optimizer.state_dict(),\n",
        "            'scaler_state_dict': self.scaler.state_dict(),\n",
        "            'train_loss': train_loss,\n",
        "            'train_acc': train_acc,\n",
        "            'val_loss': val_loss,\n",
        "            'val_acc': val_acc\n",
        "        }\n",
        "\n",
        "        if self.use_ema:\n",
        "            checkpoint['model_ema_state_dict'] = self.model_ema.state_dict()\n",
        "\n",
        "        torch.save(checkpoint, f'checkpoint_epoch_{epoch}.pth')\n",
        "        print(f\"Checkpoint saved for epoch {epoch}\")\n",
        "\n",
        "    def load_checkpoint(self, checkpoint_path):\n",
        "        checkpoint = torch.load(checkpoint_path)\n",
        "        self.model.load_state_dict(checkpoint['model_state_dict'])\n",
        "        self.optimizer.load_state_dict(checkpoint['optimizer_state_dict'])\n",
        "        self.scaler.load_state_dict(checkpoint['scaler_state_dict'])\n",
        "\n",
        "        if self.use_ema and 'model_ema_state_dict' in checkpoint:\n",
        "            self.model_ema.load_state_dict(checkpoint['model_ema_state_dict'])\n",
        "\n",
        "        return checkpoint['epoch']\n",
        "\n",
        "\n",
        "    def perform_validation(self, use_progbar=True):\n",
        "        self.model.eval()\n",
        "        if self.use_ema:\n",
        "            self.model_ema.eval()\n",
        "        torch.set_grad_enabled(False)\n",
        "\n",
        "        print(f'(Val) Epoch {self.current_epoch_no}/{self.epochsTorun}')\n",
        "\n",
        "        running_loss = 0.0\n",
        "        correct = 0\n",
        "        total = 0\n",
        "\n",
        "        for images, labels in self.valLoader:\n",
        "            images, labels = images.to(DEVICE), labels.to(DEVICE)\n",
        "\n",
        "            with torch.no_grad() and torch.amp.autocast(device_type='cuda'):\n",
        "                if self.use_ema:\n",
        "                    out = self.model_ema.module(images)\n",
        "                else:\n",
        "                    out = self.model(images)\n",
        "                batch_loss = self.criterion_cls(out['logits'], labels)\n",
        "                running_loss += batch_loss.item()\n",
        "\n",
        "            # update metrics\n",
        "            _, predicted = out['logits'].max(1)\n",
        "            correct += (predicted == labels).sum().item()\n",
        "            total += labels.size(0)\n",
        "\n",
        "        # calculate metrics and return\n",
        "        epoch_loss = running_loss / len(self.valLoader)\n",
        "        epoch_accuracy = correct / total\n",
        "        return epoch_loss, epoch_accuracy\n",
        "\n",
        "    def train_one_epoch_style_net(self):\n",
        "\n",
        "        print(f'(Train Style Net) Epoch {self.current_epoch_no}/{self.epochsTorun}')\n",
        "\n",
        "        self.model.train()\n",
        "        torch.set_grad_enabled(True)\n",
        "        self.optimizer.zero_grad()\n",
        "\n",
        "        if self.use_ema:\n",
        "            self.model_ema.train()\n",
        "\n",
        "        self.model.grad_turn_on_srm_fl_only()\n",
        "\n",
        "        running_content_loss = 0.0\n",
        "        running_style_loss = 0.0\n",
        "\n",
        "        for itera_no, (images, labels) in enumerate(self.trainLoader):\n",
        "            images, labels = images.to(DEVICE), labels.to(DEVICE)\n",
        "\n",
        "            with torch.cuda.amp.autocast():\n",
        "                out = self.model(images, use_srm_fl=True, train_srm_fl=True)\n",
        "                content_loss = out['content_loss'].mean()\n",
        "                style_loss = self.eta * out['style_loss'].mean()\n",
        "            self.scaler.scale(content_loss+style_loss).backward()\n",
        "\n",
        "            if self.do_grad_accum:\n",
        "                if (itera_no+1)%self.grad_accum_step == 0:\n",
        "                    self.scaler.step(self.optimizer)\n",
        "                    self.scaler.update()\n",
        "                    self.optimizer.zero_grad()\n",
        "\n",
        "                    if self.use_ema:\n",
        "                        self.model_ema.update(self.model)\n",
        "            else:\n",
        "                self.scaler.step(self.optimizer)\n",
        "                self.scaler.update()\n",
        "                self.optimizer.zero_grad()\n",
        "\n",
        "                if self.use_ema:\n",
        "                    self.model_ema.update(self.model)\n",
        "\n",
        "            # update metrics\n",
        "            running_content_loss += content_loss.detach().item()\n",
        "            running_style_loss += style_loss.detach().item()\n",
        "\n",
        "            if (itera_no+1) % 100 == 0:\n",
        "                print(f'    Iter {itera_no}/{len(self.trainLoader)} | Train Content Loss: {content_loss}, Train Style Loss: {style_loss}')\n",
        "\n",
        "        # calculate metrics and return\n",
        "        epoch_content_loss = running_content_loss / len(self.trainLoader)\n",
        "        epoch_style_loss = running_style_loss / len(self.trainLoader)\n",
        "        return epoch_content_loss, epoch_style_loss\n",
        "\n",
        "    def train_one_epoch(self):\n",
        "\n",
        "        print(f'(Train Classifier) Epoch {self.current_epoch_no}/{self.epochsTorun}')\n",
        "\n",
        "        self.model.train()\n",
        "        torch.set_grad_enabled(True)\n",
        "        self.optimizer.zero_grad()\n",
        "\n",
        "        if self.use_ema:\n",
        "            self.model_ema.train()\n",
        "\n",
        "        self.model.grad_turn_off_srm_fl_only()\n",
        "\n",
        "        running_loss = 0.0\n",
        "        correct = 0\n",
        "        total = 0\n",
        "\n",
        "        for itera_no, (images, labels) in enumerate(self.trainLoader):\n",
        "            images, labels = images.to(DEVICE), labels.to(DEVICE)\n",
        "\n",
        "            with torch.cuda.amp.autocast():\n",
        "                out = self.model(images, use_srm_fl=True, train_srm_fl=False)\n",
        "                cls_loss = self.criterion_cls(out['logits'], labels)\n",
        "                batch_loss = cls_loss\n",
        "\n",
        "            self.scaler.scale(batch_loss).backward()\n",
        "\n",
        "            if self.do_grad_accum:\n",
        "                if (itera_no+1)%self.grad_accum_step == 0:\n",
        "                    self.scaler.step(self.optimizer)\n",
        "                    self.scaler.update()\n",
        "                    self.optimizer.zero_grad()\n",
        "\n",
        "                    if self.use_ema:\n",
        "                        self.model_ema.update(self.model)\n",
        "            else:\n",
        "                self.scaler.step(self.optimizer)\n",
        "                self.scaler.update()\n",
        "                self.optimizer.zero_grad()\n",
        "\n",
        "                if self.use_ema:\n",
        "                    self.model_ema.update(self.model)\n",
        "\n",
        "            # update metrics\n",
        "            _, predicted = out['logits'].max(1)\n",
        "            correct += (predicted == labels).sum().item()\n",
        "            total += labels.size(0)\n",
        "            running_loss += batch_loss.item()\n",
        "\n",
        "            if itera_no % 100 == 0:\n",
        "                print(f'    Iter {itera_no}/{len(self.trainLoader)} | Train Loss: {batch_loss}')\n",
        "\n",
        "        # calculate metrics and return\n",
        "        epoch_loss = running_loss / len(self.trainLoader)\n",
        "        epoch_accuracy = correct / total\n",
        "        return epoch_loss, epoch_accuracy\n",
        "\n",
        "    def train_one_epoch_episodic(self):\n",
        "        print(f'(Train Episodic) Epoch {self.current_epoch_no}/{self.epochsTorun}')\n",
        "\n",
        "        self.model.train()\n",
        "        torch.set_grad_enabled(True)\n",
        "        self.optimizer.zero_grad()\n",
        "\n",
        "        if self.use_ema:\n",
        "            self.model_ema.train()\n",
        "\n",
        "        running_content_loss = 0.0\n",
        "        running_style_loss = 0.0\n",
        "        running_loss = 0.0\n",
        "        correct = 0\n",
        "        total = 0\n",
        "\n",
        "        for itera_no, (images, labels, support_images, support_labels) in enumerate(self.trainLoader):\n",
        "            images, labels = images[0].to(DEVICE), labels[0].to(DEVICE)\n",
        "            support_images, support_labels = support_images[0].to(DEVICE), support_labels[0].to(DEVICE)\n",
        "\n",
        "            # first train style net\n",
        "            self.model.grad_turn_on_srm_fl_only()\n",
        "\n",
        "            with torch.cuda.amp.autocast():\n",
        "                out = self.model(support_images, use_srm_fl=True, train_srm_fl=True)\n",
        "                content_loss = out['content_loss'].mean()\n",
        "                style_loss = self.eta * out['style_loss'].mean()\n",
        "            self.scaler.scale(content_loss+style_loss).backward()\n",
        "\n",
        "            if self.do_grad_accum:\n",
        "                if (itera_no+1)%self.grad_accum_step == 0:\n",
        "                    self.scaler.step(self.optimizer)\n",
        "                    self.scaler.update()\n",
        "                    self.optimizer.zero_grad()\n",
        "\n",
        "                    if self.use_ema:\n",
        "                        self.model_ema.update(self.model)\n",
        "            else:\n",
        "                self.scaler.step(self.optimizer)\n",
        "                self.scaler.update()\n",
        "                self.optimizer.zero_grad()\n",
        "\n",
        "                if self.use_ema:\n",
        "                    self.model_ema.update(self.model)\n",
        "\n",
        "            # update metrics for style net\n",
        "            running_content_loss += content_loss.detach().item()\n",
        "            running_style_loss += style_loss.detach().item()\n",
        "\n",
        "            # print metrics for style net\n",
        "            if itera_no % 100 == 0:\n",
        "                print(f'    Style Net Iter {itera_no}/{len(self.trainLoader)} | Train Content Loss: {content_loss}, Train Style Loss: {style_loss}')\n",
        "\n",
        "            # then train classifier\n",
        "            self.model.grad_turn_off_srm_fl_only()\n",
        "\n",
        "            with torch.cuda.amp.autocast():\n",
        "                out = self.model(images, use_srm_fl=True, train_srm_fl=False)\n",
        "                cls_loss = self.criterion_cls(out['logits'], labels)\n",
        "                batch_loss = cls_loss\n",
        "\n",
        "            self.scaler.scale(batch_loss).backward()\n",
        "\n",
        "            if self.do_grad_accum:\n",
        "                if (itera_no+1)%self.grad_accum_step == 0:\n",
        "                    self.scaler.step(self.optimizer)\n",
        "                    self.scaler.update()\n",
        "                    self.optimizer.zero_grad()\n",
        "\n",
        "                    if self.use_ema:\n",
        "                        self.model_ema.update(self.model)\n",
        "            else:\n",
        "                self.scaler.step(self.optimizer)\n",
        "                self.scaler.update()\n",
        "                self.optimizer.zero_grad()\n",
        "\n",
        "                if self.use_ema:\n",
        "                    self.model_ema.update(self.model)\n",
        "\n",
        "            # update metrics\n",
        "            _, predicted = out['logits'].max(1)\n",
        "            correct += (predicted == labels).sum().item()\n",
        "            total += labels.size(0)\n",
        "            running_loss += batch_loss.item()\n",
        "\n",
        "            if itera_no % 100 == 0:\n",
        "                print(f'    Classifier Iter {itera_no}/{len(self.trainLoader)} | Train Loss: {batch_loss}')\n",
        "\n",
        "        # calculate metrics and return\n",
        "        epoch_content_loss = running_content_loss / len(self.trainLoader)\n",
        "        epoch_style_loss = running_style_loss / len(self.trainLoader)\n",
        "        epoch_loss = running_loss / len(self.trainLoader)\n",
        "        epoch_accuracy = correct / total\n",
        "        return epoch_content_loss, epoch_style_loss, epoch_loss, epoch_accuracy\n",
        "\n",
        "\n",
        "    # train part starts here\n",
        "    def fit(self, resume_from_checkpoint):\n",
        "\n",
        "        # keep track of losses and accuracies\n",
        "\n",
        "        train_cont_losses = []\n",
        "        train_style_losses = []\n",
        "        train_losses = []\n",
        "        train_accuracies = []\n",
        "        val_losses = []\n",
        "        val_accuracies = []\n",
        "\n",
        "        start_epoch = 0\n",
        "        if resume_from_checkpoint:\n",
        "            print(f\"Resuming training from epoc\")\n",
        "            start_epoch = self.load_checkpoint(resume_from_checkpoint)\n",
        "            print(f\"Resuming training from epoch {start_epoch}\")\n",
        "\n",
        "        for epoch in range(start_epoch, self.epochsTorun):\n",
        "            self.current_epoch_no = epoch+1\n",
        "            if self.use_episodic:\n",
        "              train_content_loss, train_style_loss, train_loss, train_acc = self.train_one_epoch_episodic()\n",
        "            else:\n",
        "              if self.use_SRM_FL:\n",
        "                train_content_loss, train_style_loss = self.train_one_epoch_style_net()\n",
        "                print(f'  Train Content Loss: {train_content_loss}, Train Style Loss: {train_style_loss}')\n",
        "              train_loss, train_acc = self.train_one_epoch()\n",
        "            val_loss, val_acc = self.perform_validation()\n",
        "            print(f'  Train Loss: {train_loss}, Train Acc: {train_acc}, Val Loss: {val_loss}, Val Acc: {val_acc}')\n",
        "\n",
        "            train_cont_losses.append(train_content_loss)\n",
        "            train_style_losses.append(train_style_loss)\n",
        "            train_losses.append(train_loss)\n",
        "            train_accuracies.append(train_acc)\n",
        "            val_losses.append(val_loss)\n",
        "            val_accuracies.append(val_acc)\n",
        "\n",
        "            self.save_checkpoint(self.current_epoch_no, train_losses[-1], train_accuracies[-1], val_losses[-1], val_accuracies[-1])\n",
        "\n",
        "        # save model, losses, and accuracies\n",
        "        np.savez(\n",
        "          \"srm_il_fl_metrics.npz\",\n",
        "          train_cont_losses=train_cont_losses,\n",
        "          train_style_losses=train_style_losses,\n",
        "          train_losses=train_losses,\n",
        "          train_accs=train_accuracies,\n",
        "          val_losses=val_losses,\n",
        "          val_accs=val_accuracies,\n",
        "        )\n",
        "\n",
        "        return train_cont_losses, train_style_losses, train_losses, train_accuracies, val_losses, val_accuracies"
      ]
    },
    {
      "cell_type": "markdown",
      "metadata": {
        "id": "pPow1ctvAu9u"
      },
      "source": [
        "### Define model, trainer, and trainer params"
      ]
    },
    {
      "cell_type": "code",
      "source": [
        "model = AlexNet_SRMFL(num_classes=3, init_srm_fl=True, randomization_stage='S1')\n",
        "\n",
        "trainer_args = {\n",
        "                'model': model,\n",
        "                'Loaders': [train_loader, val_loader],\n",
        "                'lr': 0.0001,\n",
        "                'epochsTorun': 15,\n",
        "                'do_grad_accum': True,\n",
        "                'grad_accum_step': 4,\n",
        "                'use_ema': False,\n",
        "                'eta': 1.5,\n",
        "                'use_SRM_FL': True,\n",
        "                'use_episodic': True\n",
        "}\n",
        "\n",
        "trainer= ModelTrainer(**trainer_args)\n",
        "metrics = trainer.fit(resume_from_checkpoint=\"episodic_eta_1_5_checkpoint_epoch_8.pth\")"
      ],
      "metadata": {
        "colab": {
          "base_uri": "https://localhost:8080/"
        },
        "id": "vmIztflFjF3H",
        "outputId": "c3aa5283-929f-42f9-fff0-d6186d011c2f"
      },
      "execution_count": null,
      "outputs": [
        {
          "output_type": "stream",
          "name": "stderr",
          "text": [
            "<ipython-input-15-9fcbc5a17efc>:25: FutureWarning: `torch.cuda.amp.GradScaler(args...)` is deprecated. Please use `torch.amp.GradScaler('cuda', args...)` instead.\n",
            "  self.scaler = torch.cuda.amp.GradScaler()\n",
            "<ipython-input-15-9fcbc5a17efc>:61: FutureWarning: You are using `torch.load` with `weights_only=False` (the current default value), which uses the default pickle module implicitly. It is possible to construct malicious pickle data which will execute arbitrary code during unpickling (See https://github.com/pytorch/pytorch/blob/main/SECURITY.md#untrusted-models for more details). In a future release, the default value for `weights_only` will be flipped to `True`. This limits the functions that could be executed during unpickling. Arbitrary objects will no longer be allowed to be loaded via this mode unless they are explicitly allowlisted by the user via `torch.serialization.add_safe_globals`. We recommend you start setting `weights_only=True` for any use case where you don't have full control of the loaded file. Please open an issue on GitHub for any issues related to this experimental feature.\n",
            "  checkpoint = torch.load(checkpoint_path)\n"
          ]
        },
        {
          "output_type": "stream",
          "name": "stdout",
          "text": [
            "Resuming training from epoc\n",
            "Resuming training from epoch 8\n",
            "(Train Episodic) Epoch 9/15\n"
          ]
        },
        {
          "output_type": "stream",
          "name": "stderr",
          "text": [
            "<ipython-input-15-9fcbc5a17efc>:238: FutureWarning: `torch.cuda.amp.autocast(args...)` is deprecated. Please use `torch.amp.autocast('cuda', args...)` instead.\n",
            "  with torch.cuda.amp.autocast():\n"
          ]
        },
        {
          "output_type": "stream",
          "name": "stdout",
          "text": [
            "    Style Net Iter 0/162 | Train Content Loss: 10.055481910705566, Train Style Loss: 0.04459676146507263\n"
          ]
        },
        {
          "output_type": "stream",
          "name": "stderr",
          "text": [
            "<ipython-input-15-9fcbc5a17efc>:271: FutureWarning: `torch.cuda.amp.autocast(args...)` is deprecated. Please use `torch.amp.autocast('cuda', args...)` instead.\n",
            "  with torch.cuda.amp.autocast():\n"
          ]
        },
        {
          "output_type": "stream",
          "name": "stdout",
          "text": [
            "    Classifier Iter 0/162 | Train Loss: 0.35382208228111267\n",
            "    Style Net Iter 100/162 | Train Content Loss: 10.157820701599121, Train Style Loss: 0.10098009556531906\n",
            "    Classifier Iter 100/162 | Train Loss: 0.2898034453392029\n",
            "(Val) Epoch 9/15\n",
            "  Train Loss: 0.3056837060937175, Train Acc: 0.8645833333333334, Val Loss: 0.7196685189709944, Val Acc: 0.6691954022988506\n"
          ]
        }
      ]
    },
    {
      "cell_type": "code",
      "execution_count": null,
      "metadata": {
        "id": "U6gp2xvoAtif"
      },
      "outputs": [],
      "source": [
        "train_cont_losses, train_style_losses, train_losses, train_accuracies, val_losses, val_accuracies = metrics"
      ]
    },
    {
      "cell_type": "code",
      "execution_count": null,
      "metadata": {
        "colab": {
          "base_uri": "https://localhost:8080/",
          "height": 430
        },
        "id": "kNycNGcvl5z5",
        "outputId": "243ce3b2-bd89-4281-8470-cccb2989e148"
      },
      "outputs": [
        {
          "output_type": "display_data",
          "data": {
            "text/plain": [
              "<Figure size 640x480 with 1 Axes>"
            ],
            "image/png": "[encoded data removed]"
          },
          "metadata": {}
        }
      ],
      "source": [
        "plt.plot(train_losses)\n",
        "plt.plot(val_losses)\n",
        "plt.show()"
      ]
    },
    {
      "cell_type": "code",
      "execution_count": null,
      "metadata": {
        "colab": {
          "base_uri": "https://localhost:8080/",
          "height": 430
        },
        "id": "vuNu-YS_l8oD",
        "outputId": "47a8bd4b-e76e-4322-d696-e1c36e05a31e"
      },
      "outputs": [
        {
          "output_type": "display_data",
          "data": {
            "text/plain": [
              "<Figure size 640x480 with 1 Axes>"
            ],
            "image/png": "[encoded data removed]"
          },
          "metadata": {}
        }
      ],
      "source": [
        "plt.plot(train_accuracies)\n",
        "plt.plot(val_accuracies)\n",
        "plt.show()"
      ]
    },
    {
      "cell_type": "markdown",
      "source": [
        "## Test Model\n",
        "\n",
        "Using the RUSA dataset for testing, load model from checkpoint"
      ],
      "metadata": {
        "id": "t6rc3xVMLyrL"
      }
    },
    {
      "cell_type": "code",
      "source": [
        "model = AlexNet_SRMFL(num_classes=3, init_srm_fl=True, randomization_stage='S1')\n",
        "\n",
        "model.load_state_dict(torch.load('checkpoint_epoch_8.pth')['model_state_dict'])\n",
        "\n",
        "model = model.to(DEVICE)\n",
        "model.eval()\n",
        "torch.set_grad_enabled(False)\n",
        "correct, total = 0, 0\n",
        "for images, labels in test_loader:\n",
        "  images, labels = images.to(DEVICE), labels.to(DEVICE)\n",
        "  with torch.no_grad() and torch.amp.autocast(device_type='cuda', enabled=True):\n",
        "    # print(type(images))\n",
        "    out = model(images)\n",
        "\n",
        "    # update metrics\n",
        "    _, predicted = out['logits'].max(1)\n",
        "    correct += (predicted == labels).sum().item()\n",
        "    total += labels.size(0)\n",
        "\n",
        "# calculate metrics and return\n",
        "accuracy = correct / total\n",
        "print(f\"Test Accuracy: {accuracy}\")"
      ],
      "metadata": {
        "id": "kQMc2tp6KVPc",
        "colab": {
          "base_uri": "https://localhost:8080/"
        },
        "outputId": "8270d659-0657-431a-dd9f-0524e2b322be"
      },
      "execution_count": null,
      "outputs": [
        {
          "output_type": "stream",
          "name": "stderr",
          "text": [
            "<ipython-input-43-af710eccbfa5>:3: FutureWarning: You are using `torch.load` with `weights_only=False` (the current default value), which uses the default pickle module implicitly. It is possible to construct malicious pickle data which will execute arbitrary code during unpickling (See https://github.com/pytorch/pytorch/blob/main/SECURITY.md#untrusted-models for more details). In a future release, the default value for `weights_only` will be flipped to `True`. This limits the functions that could be executed during unpickling. Arbitrary objects will no longer be allowed to be loaded via this mode unless they are explicitly allowlisted by the user via `torch.serialization.add_safe_globals`. We recommend you start setting `weights_only=True` for any use case where you don't have full control of the loaded file. Please open an issue on GitHub for any issues related to this experimental feature.\n",
            "  model.load_state_dict(torch.load('checkpoint_epoch_8.pth')['model_state_dict'])\n"
          ]
        },
        {
          "output_type": "stream",
          "name": "stdout",
          "text": [
            "Test Accuracy: 0.7304582210242587\n"
          ]
        }
      ]
    },
    {
      "cell_type": "markdown",
      "source": [
        "### Feature Map Visualization before and after perturbations"
      ],
      "metadata": {
        "id": "LpMYYAExyRlE"
      }
    },
    {
      "cell_type": "code",
      "source": [
        "od.download(\"https://www.kaggle.com/datasets/emilyguan2/covid-dataset/data \")"
      ],
      "metadata": {
        "colab": {
          "base_uri": "https://localhost:8080/"
        },
        "id": "5Rp13aXAxsTp",
        "outputId": "d066969c-c408-45f1-ff85-1c60d77ed415"
      },
      "execution_count": null,
      "outputs": [
        {
          "output_type": "stream",
          "name": "stdout",
          "text": [
            "Skipping, found downloaded files in \"./covid-dataset\" (use force=True to force download)\n"
          ]
        }
      ]
    },
    {
      "cell_type": "code",
      "source": [
        "# Define transforms\n",
        "transform = transforms.Compose([\n",
        "    transforms.Resize(256),\n",
        "    transforms.CenterCrop(224),\n",
        "    transforms.ToTensor(),\n",
        "    transforms.Normalize([0.485, 0.456, 0.406], [0.229, 0.224, 0.225]),\n",
        "])\n",
        "\n",
        "srm_il_min = 0\n",
        "srm_il_max = 255\n",
        "\n",
        "vis_data_dir = \"covid-dataset\"\n",
        "\n",
        "vis_folder_map = {\n",
        "    0: [\"A_normal_sample\"],\n",
        "    1: [\"A_other_sample\"],\n",
        "    2: [\"A_pn_sample\"]\n",
        "}\n",
        "\n",
        "vis_dataset = CXREpisodicDataset(vis_data_dir, vis_folder_map,\n",
        "                                   transform=transform, use_SRM_IL=True, srm_il_min=srm_il_min, srm_il_max=srm_il_max,\n",
        "                                   use_episodic=False)\n",
        "\n",
        "vis_loader = DataLoader(vis_dataset, batch_size=1, shuffle=False)"
      ],
      "metadata": {
        "id": "l0lJUcyG4tfu"
      },
      "execution_count": null,
      "outputs": []
    },
    {
      "cell_type": "code",
      "source": [
        "model = AlexNet_SRMFL(num_classes=3, init_srm_fl=True, randomization_stage='S1')\n",
        "model.to(DEVICE)\n",
        "\n",
        "checkpoint_path = \"checkpoint_epoch_8.pth\"\n",
        "checkpoint = torch.load(checkpoint_path)\n",
        "model.load_state_dict(checkpoint['model_state_dict'])"
      ],
      "metadata": {
        "colab": {
          "base_uri": "https://localhost:8080/"
        },
        "id": "RpYfbAnzH2PO",
        "outputId": "87eaa132-c47b-4b75-9a2b-8f129a718e6e"
      },
      "execution_count": null,
      "outputs": [
        {
          "output_type": "stream",
          "name": "stderr",
          "text": [
            "<ipython-input-38-10663f0fa79d>:5: FutureWarning: You are using `torch.load` with `weights_only=False` (the current default value), which uses the default pickle module implicitly. It is possible to construct malicious pickle data which will execute arbitrary code during unpickling (See https://github.com/pytorch/pytorch/blob/main/SECURITY.md#untrusted-models for more details). In a future release, the default value for `weights_only` will be flipped to `True`. This limits the functions that could be executed during unpickling. Arbitrary objects will no longer be allowed to be loaded via this mode unless they are explicitly allowlisted by the user via `torch.serialization.add_safe_globals`. We recommend you start setting `weights_only=True` for any use case where you don't have full control of the loaded file. Please open an issue on GitHub for any issues related to this experimental feature.\n",
            "  checkpoint = torch.load(checkpoint_path)\n"
          ]
        },
        {
          "output_type": "execute_result",
          "data": {
            "text/plain": [
              "<All keys matched successfully>"
            ]
          },
          "metadata": {},
          "execution_count": 38
        }
      ]
    },
    {
      "cell_type": "code",
      "source": [
        "for image, label in vis_loader:\n",
        "  model.eval()\n",
        "  image = image.to(DEVICE)\n",
        "  with torch.no_grad() and torch.amp.autocast(device_type='cuda', enabled=True):\n",
        "    out = model(image)\n",
        "    print(out['logits'].max(1))\n",
        "    print(label)\n",
        "    before = model.forward_to_srm_fl(image, before=True).cpu().detach().numpy()\n",
        "    after = model.forward_to_srm_fl(image, before=False).cpu().detach().numpy()\n",
        "\n",
        "  break\n",
        "  plt.show()\n",
        "\n",
        "def visualize_feature_maps(activation):\n",
        "    num_filters = 20  # Number of filters\n",
        "    fig, axes = plt.subplots(4, num_filters // 4, figsize=(20, 20))\n",
        "    for i in range(num_filters):\n",
        "        axes[i % 4][i // 4].imshow(activation[0, i], cmap='viridis')\n",
        "        axes[i % 4][i // 4].axis('off')\n",
        "    plt.show()"
      ],
      "metadata": {
        "colab": {
          "base_uri": "https://localhost:8080/"
        },
        "id": "-ZZ36Wt03kxV",
        "outputId": "abf16a37-99b1-4b4a-d037-d4716365f4cd"
      },
      "execution_count": null,
      "outputs": [
        {
          "output_type": "stream",
          "name": "stdout",
          "text": [
            "torch.return_types.max(\n",
            "values=tensor([4.7578], device='cuda:0', dtype=torch.float16),\n",
            "indices=tensor([1], device='cuda:0'))\n",
            "tensor([2])\n"
          ]
        }
      ]
    },
    {
      "cell_type": "markdown",
      "source": [
        "#### before perturbations at 'S1'"
      ],
      "metadata": {
        "id": "IvpvE-UrETvb"
      }
    },
    {
      "cell_type": "code",
      "source": [
        "visualize_feature_maps(before)"
      ],
      "metadata": {
        "colab": {
          "base_uri": "https://localhost:8080/",
          "height": 705
        },
        "id": "O29aBz4u8G8B",
        "outputId": "7d38230d-4498-441c-b127-aab6152d55f6"
      },
      "execution_count": null,
      "outputs": [
        {
          "output_type": "display_data",
          "data": {
            "text/plain": [
              "<Figure size 2000x2000 with 20 Axes>"
            ],
            "image/png": "[encoded data removed]"
          },
          "metadata": {}
        }
      ]
    },
    {
      "cell_type": "markdown",
      "source": [
        "#### after perturbations at 'S1'"
      ],
      "metadata": {
        "id": "3P4J9uO9EZwx"
      }
    },
    {
      "cell_type": "code",
      "source": [
        "visualize_feature_maps(after)"
      ],
      "metadata": {
        "colab": {
          "base_uri": "https://localhost:8080/",
          "height": 705
        },
        "id": "efE2c2UkA-Xx",
        "outputId": "2ec71dfc-30b4-4810-d3c2-3bba000287c6"
      },
      "execution_count": null,
      "outputs": [
        {
          "output_type": "display_data",
          "data": {
            "text/plain": [
              "<Figure size 2000x2000 with 20 Axes>"
            ],
            "image/png": "[encoded data removed]"
          },
          "metadata": {}
        }
      ]
    }
  ],
  "metadata": {
    "accelerator": "GPU",
    "colab": {
      "gpuType": "T4",
      "provenance": []
    },
    "kernelspec": {
      "display_name": "Python 3",
      "name": "python3"
    },
    "language_info": {
      "name": "python"
    }
  },
  "nbformat": 4,
  "nbformat_minor": 0
}